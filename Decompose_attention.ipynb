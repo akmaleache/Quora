{
  "nbformat": 4,
  "nbformat_minor": 0,
  "metadata": {
    "colab": {
      "name": "Decompose_attention.ipynb",
      "provenance": [],
      "collapsed_sections": [],
      "authorship_tag": "ABX9TyMQeNRFTxp+J0A5jgtnDNYH",
      "include_colab_link": true
    },
    "kernelspec": {
      "name": "python3",
      "display_name": "Python 3"
    },
    "language_info": {
      "name": "python"
    },
    "accelerator": "GPU"
  },
  "cells": [
    {
      "cell_type": "markdown",
      "metadata": {
        "id": "view-in-github",
        "colab_type": "text"
      },
      "source": [
        "<a href=\"https://colab.research.google.com/github/akmaleache/Quora/blob/master/Decompose_attention.ipynb\" target=\"_parent\"><img src=\"https://colab.research.google.com/assets/colab-badge.svg\" alt=\"Open In Colab\"/></a>"
      ]
    },
    {
      "cell_type": "markdown",
      "metadata": {
        "id": "rXvIiautqHe0"
      },
      "source": [
        "# Implementing Decomposition attention paper for predicting if both the questions are similar"
      ]
    },
    {
      "cell_type": "code",
      "metadata": {
        "id": "gustrXjTQwU-"
      },
      "source": [
        "from tensorflow.keras.preprocessing.text import Tokenizer, one_hot\n",
        "from tensorflow.keras.preprocessing.sequence import pad_sequences\n",
        "from tensorflow.keras.optimizers import Adam, SGD, Adagrad, Adadelta, RMSprop\n",
        "from tensorflow.keras.losses import BinaryCrossentropy\n",
        "from tensorflow.keras.metrics import AUC, Accuracy\n",
        "from sklearn.model_selection import train_test_split as tts\n",
        "from tensorflow.keras.layers import LSTM, Embedding, Flatten, Dense, concatenate, Dropout,LeakyReLU, BatchNormalization, Activation, Conv1D, Softmax, Add, Masking\n",
        "from tensorflow.keras.initializers import he_normal,he_uniform, GlorotNormal,GlorotUniform, Constant\n",
        "from tensorflow.keras.utils import plot_model, to_categorical\n",
        "from tensorflow.keras import Model,Input\n",
        "from sklearn.metrics import roc_curve, roc_auc_score\n",
        "from tensorflow import keras\n",
        "import pandas as pd\n",
        "import numpy as np\n",
        "import tensorflow as tf\n",
        "import re\n",
        "import matplotlib.pyplot as plt\n",
        "from sklearn.model_selection import train_test_split as tts\n"
      ],
      "execution_count": 1,
      "outputs": []
    },
    {
      "cell_type": "code",
      "metadata": {
        "colab": {
          "base_uri": "https://localhost:8080/"
        },
        "id": "ka4yoSEMIZ27",
        "outputId": "8d41a1c8-ba56-46bc-b225-5fcb24f776e6"
      },
      "source": [
        "from google.colab import drive\n",
        "drive.mount('/content/drive')"
      ],
      "execution_count": 2,
      "outputs": [
        {
          "output_type": "stream",
          "text": [
            "Mounted at /content/drive\n"
          ],
          "name": "stdout"
        }
      ]
    },
    {
      "cell_type": "code",
      "metadata": {
        "colab": {
          "base_uri": "https://localhost:8080/"
        },
        "id": "d0KVjRUBHnw_",
        "outputId": "a894f253-04a9-4811-ef86-2ba1e86a813f"
      },
      "source": [
        "# loading data\n",
        "df = pd.read_csv('/content/drive/MyDrive/Quora project/Quora/train.csv')\n",
        "df = df[['question1', 'question2','is_duplicate']]\n",
        "df.dropna(axis=0, inplace=True)\n",
        "len(df)"
      ],
      "execution_count": 3,
      "outputs": [
        {
          "output_type": "execute_result",
          "data": {
            "text/plain": [
              "404287"
            ]
          },
          "metadata": {
            "tags": []
          },
          "execution_count": 3
        }
      ]
    },
    {
      "cell_type": "code",
      "metadata": {
        "id": "uLd2oaMw_MYJ"
      },
      "source": [
        "# removing numbers\n",
        "df['question1'] = df['question1'].apply(lambda x : re.sub(\"(\\d*\\.\\d+)|(\\d+\\.[0-9 ]+)\",\"\",x))\n",
        "df['question2'] = df['question2'].apply(lambda x : re.sub(\"(\\d*\\.\\d+)|(\\d+\\.[0-9 ]+)\",\"\",x))\n",
        "\n",
        "# making all sentence to lower case\n",
        "df['question1'] = df['question1'].apply(lambda x : x.lower())\n",
        "df['question2'] = df['question2'].apply(lambda x : x.lower())\n",
        "\n",
        "# prepending \"NULL\" in front of each sentence as mention in paper\n",
        "df['question1'] = df['question1'].apply(lambda x : 'NULL '+x)\n",
        "df['question2'] = df['question2'].apply(lambda x : 'NUll '+x)"
      ],
      "execution_count": 4,
      "outputs": []
    },
    {
      "cell_type": "code",
      "metadata": {
        "colab": {
          "base_uri": "https://localhost:8080/"
        },
        "id": "6GbKEDqfPU4X",
        "outputId": "8e37850d-ecbc-41c6-ac78-745ccae25d2f"
      },
      "source": [
        "len(df['question1'][1].split())"
      ],
      "execution_count": 6,
      "outputs": [
        {
          "output_type": "execute_result",
          "data": {
            "text/plain": [
              "9"
            ]
          },
          "metadata": {
            "tags": []
          },
          "execution_count": 6
        }
      ]
    },
    {
      "cell_type": "code",
      "metadata": {
        "colab": {
          "base_uri": "https://localhost:8080/"
        },
        "id": "5b5e-4LnqXw2",
        "outputId": "ddfff909-31a2-4774-caa2-8e0365fd32b3"
      },
      "source": [
        "# installing embedding layer\n",
        "!wget http://nlp.stanford.edu/data/glove.6B.zip\n",
        "!unzip \"/content/glove.6B.zip\" -d \"/content/data\""
      ],
      "execution_count": 5,
      "outputs": [
        {
          "output_type": "stream",
          "text": [
            "--2021-07-18 14:38:40--  http://nlp.stanford.edu/data/glove.6B.zip\n",
            "Resolving nlp.stanford.edu (nlp.stanford.edu)... 171.64.67.140\n",
            "Connecting to nlp.stanford.edu (nlp.stanford.edu)|171.64.67.140|:80... connected.\n",
            "HTTP request sent, awaiting response... 302 Found\n",
            "Location: https://nlp.stanford.edu/data/glove.6B.zip [following]\n",
            "--2021-07-18 14:38:40--  https://nlp.stanford.edu/data/glove.6B.zip\n",
            "Connecting to nlp.stanford.edu (nlp.stanford.edu)|171.64.67.140|:443... connected.\n",
            "HTTP request sent, awaiting response... 301 Moved Permanently\n",
            "Location: http://downloads.cs.stanford.edu/nlp/data/glove.6B.zip [following]\n",
            "--2021-07-18 14:38:40--  http://downloads.cs.stanford.edu/nlp/data/glove.6B.zip\n",
            "Resolving downloads.cs.stanford.edu (downloads.cs.stanford.edu)... 171.64.64.22\n",
            "Connecting to downloads.cs.stanford.edu (downloads.cs.stanford.edu)|171.64.64.22|:80... connected.\n",
            "HTTP request sent, awaiting response... 200 OK\n",
            "Length: 862182613 (822M) [application/zip]\n",
            "Saving to: ‘glove.6B.zip’\n",
            "\n",
            "glove.6B.zip        100%[===================>] 822.24M  5.20MB/s    in 2m 39s  \n",
            "\n",
            "2021-07-18 14:41:19 (5.17 MB/s) - ‘glove.6B.zip’ saved [862182613/862182613]\n",
            "\n",
            "Archive:  /content/glove.6B.zip\n",
            "  inflating: /content/data/glove.6B.50d.txt  \n",
            "  inflating: /content/data/glove.6B.100d.txt  \n",
            "  inflating: /content/data/glove.6B.200d.txt  \n",
            "  inflating: /content/data/glove.6B.300d.txt  \n"
          ],
          "name": "stdout"
        }
      ]
    },
    {
      "cell_type": "code",
      "metadata": {
        "id": "29xQC_X5rJ1d"
      },
      "source": [
        "# split for train and test\n",
        "x = df[['question1','question2']]\n",
        "y = df['is_duplicate']\n",
        "x_train,x_test,y_train, y_test = tts(x,y,test_size = 0.20,random_state = 33,stratify = y)"
      ],
      "execution_count": 6,
      "outputs": []
    },
    {
      "cell_type": "code",
      "metadata": {
        "colab": {
          "base_uri": "https://localhost:8080/"
        },
        "id": "ilnng6KYuDww",
        "outputId": "7c503afc-57fe-424d-eabf-201d8120c1d0"
      },
      "source": [
        "y_train=to_categorical(y_train)\n",
        "y_test=to_categorical(y_test)\n",
        "y_train.shape"
      ],
      "execution_count": 7,
      "outputs": [
        {
          "output_type": "execute_result",
          "data": {
            "text/plain": [
              "(323429, 2)"
            ]
          },
          "metadata": {
            "tags": []
          },
          "execution_count": 7
        }
      ]
    },
    {
      "cell_type": "code",
      "metadata": {
        "colab": {
          "base_uri": "https://localhost:8080/",
          "height": 282
        },
        "id": "VYEwLwX2K4QC",
        "outputId": "37ec5a4c-02c7-4f33-d775-013462aaf902"
      },
      "source": [
        "# to prevent from data lieakage used two tokeniser for train and test\n",
        "tk = Tokenizer()\n",
        "tk_test = Tokenizer()\n",
        "tk.fit_on_texts(x_train['question1']+' '+x_train['question2'])\n",
        "tk_test.fit_on_texts(x_test['question1']+' '+x_test['question2'])\n",
        "vocab_size = len(tk.word_index)+1\n",
        "\n",
        "# deciding max len for the questions\n",
        "length_question = []\n",
        "for que in x_train['question1']:\n",
        "    length_question.append(len(que.split()))\n",
        "\n",
        "plt.hist(length_question)\n",
        "max_len = 25\n",
        "q1_train = pad_sequences(tk.texts_to_sequences(x_train['question1']), maxlen=max_len,padding='post')\n",
        "q2_train = pad_sequences(tk.texts_to_sequences(x_train['question2']),maxlen= max_len,padding='post')\n",
        "\n",
        "q1_test = pad_sequences(tk_test.texts_to_sequences(x_test['question1']), maxlen=max_len,padding='post')\n",
        "q2_test = pad_sequences(tk_test.texts_to_sequences(x_test['question2']),maxlen= max_len,padding='post')\n",
        "\n",
        "q1_train.shape"
      ],
      "execution_count": 8,
      "outputs": [
        {
          "output_type": "execute_result",
          "data": {
            "text/plain": [
              "(323429, 25)"
            ]
          },
          "metadata": {
            "tags": []
          },
          "execution_count": 8
        },
        {
          "output_type": "display_data",
          "data": {
            "image/png": "[encoded data removed]",
            "text/plain": [
              "<Figure size 432x288 with 1 Axes>"
            ]
          },
          "metadata": {
            "tags": [],
            "needs_background": "light"
          }
        }
      ]
    },
    {
      "cell_type": "code",
      "metadata": {
        "colab": {
          "base_uri": "https://localhost:8080/"
        },
        "id": "9evM-Wjvvf7Z",
        "outputId": "c86d5f7a-7246-420a-eaac-1c9a90f88279"
      },
      "source": [
        "glove_dim = 200\n",
        "oov = []\n",
        "embeddings_index = dict()\n",
        "f = open('/content/data/glove.6B.200d.txt')\n",
        "for line in f:\n",
        "    values = line.split()\n",
        "    if values[0] in tk.word_index:# here we get word_index from above fitted tokeniser \n",
        "        embeddings_index[values[0]] = np.asarray(values[1:], dtype='float32')\n",
        "    else:\n",
        "        oov.append(values[0])\n",
        "print('lenght of vocab',len(embeddings_index.keys()))\n",
        "\n",
        "\n",
        "# create a weight matrix for words in training docs\n",
        "oov = set()\n",
        "embedding_matrix = np.zeros((vocab_size, glove_dim))\n",
        "for word, i in tk.word_index.items():\n",
        "\tembedding_vector = embeddings_index.get(word)\n",
        "\tif embedding_vector is not None:\n",
        "\t\tembedding_matrix[i] = embedding_vector\n",
        "embedding_matrix.shape"
      ],
      "execution_count": 9,
      "outputs": [
        {
          "output_type": "stream",
          "text": [
            "lenght of vocab 56166\n"
          ],
          "name": "stdout"
        },
        {
          "output_type": "execute_result",
          "data": {
            "text/plain": [
              "(86071, 200)"
            ]
          },
          "metadata": {
            "tags": []
          },
          "execution_count": 9
        }
      ]
    },
    {
      "cell_type": "code",
      "metadata": {
        "id": "QrQyCwkiqHFG"
      },
      "source": [
        "# @tf.function\n",
        "# def compute_Bi_Aj(x1,x2):\n",
        "#     #explicitly removing masked input\n",
        "\n",
        "#     x1 = tf.convert_to_tensor(x1[:tf.where(x1._keras_mask==True)[-1][0]+1])\n",
        "#     x2 = tf.convert_to_tensor(x2[:tf.where(x2._keras_mask==True)[-1][0]+1])\n",
        "\n",
        "#     # computing weighted matrix e_ij\n",
        "#     # e_ij = x1 @ tf.transpose(x2,perm = [0,2,1])\n",
        "#     # print(e_ij.shape)\n",
        "\n",
        "    #computing B_i and A_j and returning it to next layer compare\n",
        "\n",
        "\n",
        "\n",
        "#     # B_sum = [sum(e_ij[0][i][:]) for i in range(e_ij.shape[1])]\n",
        "#     # A_sum = [sum(e_ij[0][:][j]) for j in range(0,e_ij.shape[2])]\n",
        "\n",
        "\n",
        "#     # B_i = tf.convert_to_tensor([sum([(e_ij[0][y][x]/B_sum[y])*embdx2[y] for x in range(0,e_ij.shape[2])])  for y in range(0,len(B_sum))])\n",
        "#     # A_j = tf.convert_to_tensor([sum([(e_ij[0][x][y]/A_sum[y])*embdx1[y] for x in range(0,e_ij.shape[1])])  for y in range(0,len(A_sum))])\n",
        "\n",
        "\n",
        "    # return(x1,x2)"
      ],
      "execution_count": 12,
      "outputs": []
    },
    {
      "cell_type": "markdown",
      "metadata": {
        "id": "1Eq1UIpSE2SU"
      },
      "source": [
        "## from here on i will make three class for atten, compare, and Aggeragate\n"
      ]
    },
    {
      "cell_type": "code",
      "metadata": {
        "id": "H2cxLD9DVNQU"
      },
      "source": [
        "class atten(tf.keras.layers.Layer):    \n",
        "    def __init__(self,vocab_size,output_dim,max_len, estimator,name=\"attention\"):\n",
        "        super().__init__(name=name)\n",
        "        self.vocab_size = vocab_size\n",
        "        self.output_dim = output_dim\n",
        "        self.max_len = max_len\n",
        "        self.estimator = estimator\n",
        "\n",
        "    \n",
        "    def build(self, input_shape):\n",
        "        self.embd = Embedding(self.vocab_size, self.output_dim, weights=[embedding_matrix],input_length=self.max_len , mask_zero = True,trainable=False, name = 'emd1')\n",
        "        self.f = Dense(self.estimator,name = 'F')\n",
        "        self.softmax_a = Softmax(axis = -1)\n",
        "        self.softmax_b = Softmax(axis = -1)\n",
        "        self.drop = Dropout(rate=0.4)\n",
        "        self.active = Activation('relu')\n",
        "        # self.m = Masking(mask_value= 0., input_shape=(20, 20))\n",
        "        self.m2 = Masking(mask_value= 0., input_shape=(20, 200))\n",
        "        self.m3 = Masking(mask_value= 0., input_shape=(40, 200))\n",
        "        self.support\n",
        "\n",
        "    def call(self, X):\n",
        "        # here X will a list of two elements\n",
        "        \n",
        "        x1,x2 = X[0], X[1] \n",
        "        emb1 = self.embd(x1)\n",
        "        emb2 = self.embd(x2)\n",
        "\n",
        "        x1 = self.f(emb1)\n",
        "        x2 = self.f(emb2)\n",
        "\n",
        "        x1 = self.drop(x1)\n",
        "        x2 = self.drop(x2)\n",
        "\n",
        "        x1 = self.active(x1)\n",
        "        x2 = self.active(x2)\n",
        "        \n",
        "        e_ij = x1 @ tf.transpose(x2, perm=[0,2,1])# if use masking rises error at model.fit of uncompatable shape, \n",
        "        # e_ij = self.m(e_ij)\n",
        "        e_ij2 = tf.transpose(e_ij,perm=[0,2,1])\n",
        "\n",
        "        sof1 = self.softmax_a(e_ij) \n",
        "        sof2 = self.softmax_b(e_ij2)\n",
        "        # print(e_ij.shape, e_ij._keras_mask.shape)\n",
        "\n",
        "        \n",
        "        B_i = tf.transpose(sof1, perm=[0,2,1]) @ emb1\n",
        "        B_i = self.m2(B_i)\n",
        "        A_j = sof2 @ emb2\n",
        "        A_j = self.m2(A_j)\n",
        "\n",
        "        v1 = tf.concat([emb1,B_i],1)\n",
        "        v1 = self.m3(v1)\n",
        "        v2 = tf.concat([emb2,A_j],1)\n",
        "        v2 = self.m3(v2)\n",
        "\n",
        "        \n",
        "        return (v1,v2)"
      ],
      "execution_count": 36,
      "outputs": []
    },
    {
      "cell_type": "code",
      "metadata": {
        "id": "C38PbtFTU1dR"
      },
      "source": [
        "@tf.function\n",
        "def summate(x1, x2):\n",
        "    x1 = tf.reduce_sum(x1,2)\n",
        "    x2 = tf.reduce_sum(x2,2)\n",
        "    return (x1,x2)"
      ],
      "execution_count": 37,
      "outputs": []
    },
    {
      "cell_type": "code",
      "metadata": {
        "id": "za1TuVcI_xXo"
      },
      "source": [
        "class compare(tf.keras.layers.Layer):\n",
        "    def __init__(self, name = 'compare'):\n",
        "        super().__init__(name = name)\n",
        "        self.g = Dense(50,name = 'G')\n",
        "        self.drop = Dropout(rate=0.4)\n",
        "        self.active = Activation('relu')\n",
        "    \n",
        "    def call(self, X):\n",
        "        x1,x2 = X[0],X[1]\n",
        "\n",
        "        x1 = self.g(x1)\n",
        "        x2 = self.g(x2)\n",
        "\n",
        "        x1 = self.drop(x1)\n",
        "        x2 = self.drop(x2)\n",
        "\n",
        "        x1 = self.active(x1)\n",
        "        x2 = self.active(x2)\n",
        "\n",
        "        x1,x2 = summate(x1,x2)\n",
        "\n",
        "        return (x1,x2)\n",
        "\n",
        "    "
      ],
      "execution_count": 38,
      "outputs": []
    },
    {
      "cell_type": "code",
      "metadata": {
        "id": "sVHNJvscacrB"
      },
      "source": [
        "class aggregate(tf.keras.layers.Layer):\n",
        "    def __init__(self, name = 'aggregate'):\n",
        "        super().__init__(name = name)\n",
        "        self.h = Dense(2,activation='sigmoid',name = 'H')\n",
        "        \n",
        "    \n",
        "    def call(self, X):\n",
        "        x1,x2 = X[0],X[1]\n",
        "        \n",
        "        output = tf.concat([x1,x2],-1)\n",
        "        output = self.h(output)\n",
        "\n",
        "        return (output)\n",
        "\n",
        "    "
      ],
      "execution_count": 39,
      "outputs": []
    },
    {
      "cell_type": "code",
      "metadata": {
        "id": "Tq_LkEv9Ssfb"
      },
      "source": [
        "output_dim = 200\n",
        "estimator = 50"
      ],
      "execution_count": 40,
      "outputs": []
    },
    {
      "cell_type": "code",
      "metadata": {
        "id": "sNGX-_TNQxyw"
      },
      "source": [
        "atn = atten(vocab_size,output_dim,max_len,estimator)\n",
        "com = compare()\n",
        "agg = aggregate()"
      ],
      "execution_count": 41,
      "outputs": []
    },
    {
      "cell_type": "code",
      "metadata": {
        "id": "nEsLqnzABnC3"
      },
      "source": [
        "# creating dummy model to check if we can build graph of above complex graph\n",
        "x1_input = Input(shape = max_len, name= 'pair_1')\n",
        "x2_input = Input(shape = max_len,name = 'pair_2')\n",
        "\n",
        "vi,vj = atn([x1_input,x2_input])\n",
        "x1,x2 = com([vi,vj])\n",
        "output = agg([x1,x2])\n",
        "\n"
      ],
      "execution_count": 42,
      "outputs": []
    },
    {
      "cell_type": "code",
      "metadata": {
        "colab": {
          "base_uri": "https://localhost:8080/"
        },
        "id": "v2wPsXtu-7_k",
        "outputId": "12ea51f7-9a17-4d11-c0cb-2ea7bbd39d03"
      },
      "source": [
        "model = Model(inputs=[x1_input,x2_input], outputs = [output] )\n",
        "model.summary()"
      ],
      "execution_count": 43,
      "outputs": [
        {
          "output_type": "stream",
          "text": [
            "Model: \"model_2\"\n",
            "__________________________________________________________________________________________________\n",
            "Layer (type)                    Output Shape         Param #     Connected to                     \n",
            "==================================================================================================\n",
            "pair_1 (InputLayer)             [(None, 25)]         0                                            \n",
            "__________________________________________________________________________________________________\n",
            "pair_2 (InputLayer)             [(None, 25)]         0                                            \n",
            "__________________________________________________________________________________________________\n",
            "attention (atten)               ((None, 50, 200), (N 17224250    pair_1[0][0]                     \n",
            "                                                                 pair_2[0][0]                     \n",
            "__________________________________________________________________________________________________\n",
            "compare (compare)               ((None, 50), (None,  10050       attention[0][0]                  \n",
            "                                                                 attention[0][1]                  \n",
            "__________________________________________________________________________________________________\n",
            "aggregate (aggregate)           (None, 2)            202         compare[0][0]                    \n",
            "                                                                 compare[0][1]                    \n",
            "==================================================================================================\n",
            "Total params: 17,234,502\n",
            "Trainable params: 20,302\n",
            "Non-trainable params: 17,214,200\n",
            "__________________________________________________________________________________________________\n"
          ],
          "name": "stdout"
        }
      ]
    },
    {
      "cell_type": "code",
      "metadata": {
        "colab": {
          "base_uri": "https://localhost:8080/",
          "height": 422
        },
        "id": "2QE2koBjFbxW",
        "outputId": "0066d8c6-4ff9-4c04-c1ae-056106687fbf"
      },
      "source": [
        "plot_model(model,show_shapes=True)"
      ],
      "execution_count": 44,
      "outputs": [
        {
          "output_type": "execute_result",
          "data": {
            "image/png": "[encoded data removed]",
            "text/plain": [
              "<IPython.core.display.Image object>"
            ]
          },
          "metadata": {
            "tags": []
          },
          "execution_count": 44
        }
      ]
    },
    {
      "cell_type": "code",
      "metadata": {
        "id": "FG-sXQHE36gV"
      },
      "source": [
        "def auroc(y_true, y_pred):\n",
        " return tf.py_function(roc_auc_score, (y_true, y_pred), tf.double)\n",
        "\n",
        "model.compile(optimizer='adam', loss='binary_crossentropy',metrics=['accuracy',AUC()])"
      ],
      "execution_count": 45,
      "outputs": []
    },
    {
      "cell_type": "code",
      "metadata": {
        "colab": {
          "base_uri": "https://localhost:8080/",
          "height": 646
        },
        "id": "kCiaSGRF4arf",
        "outputId": "9dc17155-ec38-43af-ca65-602dcc36fdf2"
      },
      "source": [
        "model.fit(x = [q1_train,q2_train], y = y_train,batch_size=20, epochs=20, validation_data=([q1_test,q2_test],y_test))"
      ],
      "execution_count": 46,
      "outputs": [
        {
          "output_type": "stream",
          "text": [
            "Epoch 1/20\n",
            "16172/16172 [==============================] - 119s 7ms/step - loss: 0.5888 - accuracy: 0.6903 - auc_3: 0.7597 - val_loss: 0.6092 - val_accuracy: 0.6649 - val_auc_3: 0.7341\n",
            "Epoch 2/20\n",
            "16172/16172 [==============================] - 117s 7ms/step - loss: 0.5520 - accuracy: 0.7176 - auc_3: 0.7929 - val_loss: 0.6114 - val_accuracy: 0.6613 - val_auc_3: 0.7293\n",
            "Epoch 3/20\n",
            "16172/16172 [==============================] - 116s 7ms/step - loss: 0.5444 - accuracy: 0.7218 - auc_3: 0.7997 - val_loss: 0.6095 - val_accuracy: 0.6660 - val_auc_3: 0.7340\n",
            "Epoch 4/20\n",
            "16172/16172 [==============================] - 116s 7ms/step - loss: 0.5409 - accuracy: 0.7249 - auc_3: 0.8029 - val_loss: 0.6357 - val_accuracy: 0.6618 - val_auc_3: 0.7302\n",
            "Epoch 5/20\n",
            "16172/16172 [==============================] - 115s 7ms/step - loss: 0.5372 - accuracy: 0.7276 - auc_3: 0.8060 - val_loss: 0.6262 - val_accuracy: 0.6647 - val_auc_3: 0.7309\n",
            "Epoch 6/20\n",
            "16172/16172 [==============================] - 117s 7ms/step - loss: 0.5361 - accuracy: 0.7282 - auc_3: 0.8071 - val_loss: 0.6273 - val_accuracy: 0.6612 - val_auc_3: 0.7295\n",
            "Epoch 7/20\n",
            "16172/16172 [==============================] - 116s 7ms/step - loss: 0.5341 - accuracy: 0.7297 - auc_3: 0.8087 - val_loss: 0.6342 - val_accuracy: 0.6596 - val_auc_3: 0.7264\n",
            "Epoch 8/20\n",
            "16172/16172 [==============================] - 116s 7ms/step - loss: 0.5332 - accuracy: 0.7306 - auc_3: 0.8098 - val_loss: 0.6220 - val_accuracy: 0.6645 - val_auc_3: 0.7314\n",
            "Epoch 9/20\n",
            "16172/16172 [==============================] - 119s 7ms/step - loss: 0.5315 - accuracy: 0.7313 - auc_3: 0.8110 - val_loss: 0.6276 - val_accuracy: 0.6605 - val_auc_3: 0.7268\n",
            "Epoch 10/20\n",
            "16172/16172 [==============================] - ETA: 0s - loss: 0.5311 - accuracy: 0.7321 - auc_3: 0.8119"
          ],
          "name": "stdout"
        },
        {
          "output_type": "error",
          "ename": "KeyboardInterrupt",
          "evalue": "ignored",
          "traceback": [
            "\u001b[0;31m---------------------------------------------------------------------------\u001b[0m",
            "\u001b[0;31mKeyboardInterrupt\u001b[0m                         Traceback (most recent call last)",
            "\u001b[0;32m<ipython-input-46-e28f74b741d7>\u001b[0m in \u001b[0;36m<module>\u001b[0;34m()\u001b[0m\n\u001b[0;32m----> 1\u001b[0;31m \u001b[0mmodel\u001b[0m\u001b[0;34m.\u001b[0m\u001b[0mfit\u001b[0m\u001b[0;34m(\u001b[0m\u001b[0mx\u001b[0m \u001b[0;34m=\u001b[0m \u001b[0;34m[\u001b[0m\u001b[0mq1_train\u001b[0m\u001b[0;34m,\u001b[0m\u001b[0mq2_train\u001b[0m\u001b[0;34m]\u001b[0m\u001b[0;34m,\u001b[0m \u001b[0my\u001b[0m \u001b[0;34m=\u001b[0m \u001b[0my_train\u001b[0m\u001b[0;34m,\u001b[0m\u001b[0mbatch_size\u001b[0m\u001b[0;34m=\u001b[0m\u001b[0;36m20\u001b[0m\u001b[0;34m,\u001b[0m \u001b[0mepochs\u001b[0m\u001b[0;34m=\u001b[0m\u001b[0;36m20\u001b[0m\u001b[0;34m,\u001b[0m \u001b[0mvalidation_data\u001b[0m\u001b[0;34m=\u001b[0m\u001b[0;34m(\u001b[0m\u001b[0;34m[\u001b[0m\u001b[0mq1_test\u001b[0m\u001b[0;34m,\u001b[0m\u001b[0mq2_test\u001b[0m\u001b[0;34m]\u001b[0m\u001b[0;34m,\u001b[0m\u001b[0my_test\u001b[0m\u001b[0;34m)\u001b[0m\u001b[0;34m)\u001b[0m\u001b[0;34m\u001b[0m\u001b[0;34m\u001b[0m\u001b[0m\n\u001b[0m",
            "\u001b[0;32m/usr/local/lib/python3.7/dist-packages/tensorflow/python/keras/engine/training.py\u001b[0m in \u001b[0;36mfit\u001b[0;34m(self, x, y, batch_size, epochs, verbose, callbacks, validation_split, validation_data, shuffle, class_weight, sample_weight, initial_epoch, steps_per_epoch, validation_steps, validation_batch_size, validation_freq, max_queue_size, workers, use_multiprocessing)\u001b[0m\n\u001b[1;32m   1223\u001b[0m               \u001b[0muse_multiprocessing\u001b[0m\u001b[0;34m=\u001b[0m\u001b[0muse_multiprocessing\u001b[0m\u001b[0;34m,\u001b[0m\u001b[0;34m\u001b[0m\u001b[0;34m\u001b[0m\u001b[0m\n\u001b[1;32m   1224\u001b[0m               \u001b[0mreturn_dict\u001b[0m\u001b[0;34m=\u001b[0m\u001b[0;32mTrue\u001b[0m\u001b[0;34m,\u001b[0m\u001b[0;34m\u001b[0m\u001b[0;34m\u001b[0m\u001b[0m\n\u001b[0;32m-> 1225\u001b[0;31m               _use_cached_eval_dataset=True)\n\u001b[0m\u001b[1;32m   1226\u001b[0m           \u001b[0mval_logs\u001b[0m \u001b[0;34m=\u001b[0m \u001b[0;34m{\u001b[0m\u001b[0;34m'val_'\u001b[0m \u001b[0;34m+\u001b[0m \u001b[0mname\u001b[0m\u001b[0;34m:\u001b[0m \u001b[0mval\u001b[0m \u001b[0;32mfor\u001b[0m \u001b[0mname\u001b[0m\u001b[0;34m,\u001b[0m \u001b[0mval\u001b[0m \u001b[0;32min\u001b[0m \u001b[0mval_logs\u001b[0m\u001b[0;34m.\u001b[0m\u001b[0mitems\u001b[0m\u001b[0;34m(\u001b[0m\u001b[0;34m)\u001b[0m\u001b[0;34m}\u001b[0m\u001b[0;34m\u001b[0m\u001b[0;34m\u001b[0m\u001b[0m\n\u001b[1;32m   1227\u001b[0m           \u001b[0mepoch_logs\u001b[0m\u001b[0;34m.\u001b[0m\u001b[0mupdate\u001b[0m\u001b[0;34m(\u001b[0m\u001b[0mval_logs\u001b[0m\u001b[0;34m)\u001b[0m\u001b[0;34m\u001b[0m\u001b[0;34m\u001b[0m\u001b[0m\n",
            "\u001b[0;32m/usr/local/lib/python3.7/dist-packages/tensorflow/python/keras/engine/training.py\u001b[0m in \u001b[0;36mevaluate\u001b[0;34m(self, x, y, batch_size, verbose, sample_weight, steps, callbacks, max_queue_size, workers, use_multiprocessing, return_dict, **kwargs)\u001b[0m\n\u001b[1;32m   1487\u001b[0m             \u001b[0;32mwith\u001b[0m \u001b[0mtrace\u001b[0m\u001b[0;34m.\u001b[0m\u001b[0mTrace\u001b[0m\u001b[0;34m(\u001b[0m\u001b[0;34m'test'\u001b[0m\u001b[0;34m,\u001b[0m \u001b[0mstep_num\u001b[0m\u001b[0;34m=\u001b[0m\u001b[0mstep\u001b[0m\u001b[0;34m,\u001b[0m \u001b[0m_r\u001b[0m\u001b[0;34m=\u001b[0m\u001b[0;36m1\u001b[0m\u001b[0;34m)\u001b[0m\u001b[0;34m:\u001b[0m\u001b[0;34m\u001b[0m\u001b[0;34m\u001b[0m\u001b[0m\n\u001b[1;32m   1488\u001b[0m               \u001b[0mcallbacks\u001b[0m\u001b[0;34m.\u001b[0m\u001b[0mon_test_batch_begin\u001b[0m\u001b[0;34m(\u001b[0m\u001b[0mstep\u001b[0m\u001b[0;34m)\u001b[0m\u001b[0;34m\u001b[0m\u001b[0;34m\u001b[0m\u001b[0m\n\u001b[0;32m-> 1489\u001b[0;31m               \u001b[0mtmp_logs\u001b[0m \u001b[0;34m=\u001b[0m \u001b[0mself\u001b[0m\u001b[0;34m.\u001b[0m\u001b[0mtest_function\u001b[0m\u001b[0;34m(\u001b[0m\u001b[0miterator\u001b[0m\u001b[0;34m)\u001b[0m\u001b[0;34m\u001b[0m\u001b[0;34m\u001b[0m\u001b[0m\n\u001b[0m\u001b[1;32m   1490\u001b[0m               \u001b[0;32mif\u001b[0m \u001b[0mdata_handler\u001b[0m\u001b[0;34m.\u001b[0m\u001b[0mshould_sync\u001b[0m\u001b[0;34m:\u001b[0m\u001b[0;34m\u001b[0m\u001b[0;34m\u001b[0m\u001b[0m\n\u001b[1;32m   1491\u001b[0m                 \u001b[0mcontext\u001b[0m\u001b[0;34m.\u001b[0m\u001b[0masync_wait\u001b[0m\u001b[0;34m(\u001b[0m\u001b[0;34m)\u001b[0m\u001b[0;34m\u001b[0m\u001b[0;34m\u001b[0m\u001b[0m\n",
            "\u001b[0;32m/usr/local/lib/python3.7/dist-packages/tensorflow/python/eager/def_function.py\u001b[0m in \u001b[0;36m__call__\u001b[0;34m(self, *args, **kwds)\u001b[0m\n\u001b[1;32m    887\u001b[0m \u001b[0;34m\u001b[0m\u001b[0m\n\u001b[1;32m    888\u001b[0m       \u001b[0;32mwith\u001b[0m \u001b[0mOptionalXlaContext\u001b[0m\u001b[0;34m(\u001b[0m\u001b[0mself\u001b[0m\u001b[0;34m.\u001b[0m\u001b[0m_jit_compile\u001b[0m\u001b[0;34m)\u001b[0m\u001b[0;34m:\u001b[0m\u001b[0;34m\u001b[0m\u001b[0;34m\u001b[0m\u001b[0m\n\u001b[0;32m--> 889\u001b[0;31m         \u001b[0mresult\u001b[0m \u001b[0;34m=\u001b[0m \u001b[0mself\u001b[0m\u001b[0;34m.\u001b[0m\u001b[0m_call\u001b[0m\u001b[0;34m(\u001b[0m\u001b[0;34m*\u001b[0m\u001b[0margs\u001b[0m\u001b[0;34m,\u001b[0m \u001b[0;34m**\u001b[0m\u001b[0mkwds\u001b[0m\u001b[0;34m)\u001b[0m\u001b[0;34m\u001b[0m\u001b[0;34m\u001b[0m\u001b[0m\n\u001b[0m\u001b[1;32m    890\u001b[0m \u001b[0;34m\u001b[0m\u001b[0m\n\u001b[1;32m    891\u001b[0m       \u001b[0mnew_tracing_count\u001b[0m \u001b[0;34m=\u001b[0m \u001b[0mself\u001b[0m\u001b[0;34m.\u001b[0m\u001b[0mexperimental_get_tracing_count\u001b[0m\u001b[0;34m(\u001b[0m\u001b[0;34m)\u001b[0m\u001b[0;34m\u001b[0m\u001b[0;34m\u001b[0m\u001b[0m\n",
            "\u001b[0;32m/usr/local/lib/python3.7/dist-packages/tensorflow/python/eager/def_function.py\u001b[0m in \u001b[0;36m_call\u001b[0;34m(self, *args, **kwds)\u001b[0m\n\u001b[1;32m    922\u001b[0m       \u001b[0;31m# In this case we have not created variables on the first call. So we can\u001b[0m\u001b[0;34m\u001b[0m\u001b[0;34m\u001b[0m\u001b[0;34m\u001b[0m\u001b[0m\n\u001b[1;32m    923\u001b[0m       \u001b[0;31m# run the first trace but we should fail if variables are created.\u001b[0m\u001b[0;34m\u001b[0m\u001b[0;34m\u001b[0m\u001b[0;34m\u001b[0m\u001b[0m\n\u001b[0;32m--> 924\u001b[0;31m       \u001b[0mresults\u001b[0m \u001b[0;34m=\u001b[0m \u001b[0mself\u001b[0m\u001b[0;34m.\u001b[0m\u001b[0m_stateful_fn\u001b[0m\u001b[0;34m(\u001b[0m\u001b[0;34m*\u001b[0m\u001b[0margs\u001b[0m\u001b[0;34m,\u001b[0m \u001b[0;34m**\u001b[0m\u001b[0mkwds\u001b[0m\u001b[0;34m)\u001b[0m\u001b[0;34m\u001b[0m\u001b[0;34m\u001b[0m\u001b[0m\n\u001b[0m\u001b[1;32m    925\u001b[0m       \u001b[0;32mif\u001b[0m \u001b[0mself\u001b[0m\u001b[0;34m.\u001b[0m\u001b[0m_created_variables\u001b[0m\u001b[0;34m:\u001b[0m\u001b[0;34m\u001b[0m\u001b[0;34m\u001b[0m\u001b[0m\n\u001b[1;32m    926\u001b[0m         raise ValueError(\"Creating variables on a non-first call to a function\"\n",
            "\u001b[0;32m/usr/local/lib/python3.7/dist-packages/tensorflow/python/eager/function.py\u001b[0m in \u001b[0;36m__call__\u001b[0;34m(self, *args, **kwargs)\u001b[0m\n\u001b[1;32m   3022\u001b[0m        filtered_flat_args) = self._maybe_define_function(args, kwargs)\n\u001b[1;32m   3023\u001b[0m     return graph_function._call_flat(\n\u001b[0;32m-> 3024\u001b[0;31m         filtered_flat_args, captured_inputs=graph_function.captured_inputs)  # pylint: disable=protected-access\n\u001b[0m\u001b[1;32m   3025\u001b[0m \u001b[0;34m\u001b[0m\u001b[0m\n\u001b[1;32m   3026\u001b[0m   \u001b[0;34m@\u001b[0m\u001b[0mproperty\u001b[0m\u001b[0;34m\u001b[0m\u001b[0;34m\u001b[0m\u001b[0m\n",
            "\u001b[0;32m/usr/local/lib/python3.7/dist-packages/tensorflow/python/eager/function.py\u001b[0m in \u001b[0;36m_call_flat\u001b[0;34m(self, args, captured_inputs, cancellation_manager)\u001b[0m\n\u001b[1;32m   1959\u001b[0m       \u001b[0;31m# No tape is watching; skip to running the function.\u001b[0m\u001b[0;34m\u001b[0m\u001b[0;34m\u001b[0m\u001b[0;34m\u001b[0m\u001b[0m\n\u001b[1;32m   1960\u001b[0m       return self._build_call_outputs(self._inference_function.call(\n\u001b[0;32m-> 1961\u001b[0;31m           ctx, args, cancellation_manager=cancellation_manager))\n\u001b[0m\u001b[1;32m   1962\u001b[0m     forward_backward = self._select_forward_and_backward_functions(\n\u001b[1;32m   1963\u001b[0m         \u001b[0margs\u001b[0m\u001b[0;34m,\u001b[0m\u001b[0;34m\u001b[0m\u001b[0;34m\u001b[0m\u001b[0m\n",
            "\u001b[0;32m/usr/local/lib/python3.7/dist-packages/tensorflow/python/eager/function.py\u001b[0m in \u001b[0;36mcall\u001b[0;34m(self, ctx, args, cancellation_manager)\u001b[0m\n\u001b[1;32m    594\u001b[0m               \u001b[0minputs\u001b[0m\u001b[0;34m=\u001b[0m\u001b[0margs\u001b[0m\u001b[0;34m,\u001b[0m\u001b[0;34m\u001b[0m\u001b[0;34m\u001b[0m\u001b[0m\n\u001b[1;32m    595\u001b[0m               \u001b[0mattrs\u001b[0m\u001b[0;34m=\u001b[0m\u001b[0mattrs\u001b[0m\u001b[0;34m,\u001b[0m\u001b[0;34m\u001b[0m\u001b[0;34m\u001b[0m\u001b[0m\n\u001b[0;32m--> 596\u001b[0;31m               ctx=ctx)\n\u001b[0m\u001b[1;32m    597\u001b[0m         \u001b[0;32melse\u001b[0m\u001b[0;34m:\u001b[0m\u001b[0;34m\u001b[0m\u001b[0;34m\u001b[0m\u001b[0m\n\u001b[1;32m    598\u001b[0m           outputs = execute.execute_with_cancellation(\n",
            "\u001b[0;32m/usr/local/lib/python3.7/dist-packages/tensorflow/python/eager/execute.py\u001b[0m in \u001b[0;36mquick_execute\u001b[0;34m(op_name, num_outputs, inputs, attrs, ctx, name)\u001b[0m\n\u001b[1;32m     58\u001b[0m     \u001b[0mctx\u001b[0m\u001b[0;34m.\u001b[0m\u001b[0mensure_initialized\u001b[0m\u001b[0;34m(\u001b[0m\u001b[0;34m)\u001b[0m\u001b[0;34m\u001b[0m\u001b[0;34m\u001b[0m\u001b[0m\n\u001b[1;32m     59\u001b[0m     tensors = pywrap_tfe.TFE_Py_Execute(ctx._handle, device_name, op_name,\n\u001b[0;32m---> 60\u001b[0;31m                                         inputs, attrs, num_outputs)\n\u001b[0m\u001b[1;32m     61\u001b[0m   \u001b[0;32mexcept\u001b[0m \u001b[0mcore\u001b[0m\u001b[0;34m.\u001b[0m\u001b[0m_NotOkStatusException\u001b[0m \u001b[0;32mas\u001b[0m \u001b[0me\u001b[0m\u001b[0;34m:\u001b[0m\u001b[0;34m\u001b[0m\u001b[0;34m\u001b[0m\u001b[0m\n\u001b[1;32m     62\u001b[0m     \u001b[0;32mif\u001b[0m \u001b[0mname\u001b[0m \u001b[0;32mis\u001b[0m \u001b[0;32mnot\u001b[0m \u001b[0;32mNone\u001b[0m\u001b[0;34m:\u001b[0m\u001b[0;34m\u001b[0m\u001b[0;34m\u001b[0m\u001b[0m\n",
            "\u001b[0;31mKeyboardInterrupt\u001b[0m: "
          ]
        }
      ]
    },
    {
      "cell_type": "markdown",
      "metadata": {
        "id": "hJMKhRooRN-C"
      },
      "source": [
        "# experiment section"
      ]
    },
    {
      "cell_type": "code",
      "metadata": {
        "id": "IFMZJFd1KiEK"
      },
      "source": [
        "# # now compute Bj and Ai \n",
        "# B_sum = [sum(e_ij[i][:]) for i in range(0,e_ij.shape[0])]\n",
        "# A_sum = [sum(e_ij[:][j]) for j in range(0,e_ij.shape[1])]\n",
        "# A_sum\n",
        "\n",
        "# till here i was checking how the mask_zero works in embedding\n",
        "# B_i = [sum([(e_ij[y][x]/B_sum[y])*b_[y] for x in range(0,e_ij.shape[1])])  for y in range(0,len(B_sum))] \n",
        "# A_j = [sum([(e_ij[x][y]/A_sum[y])*a_[y] for x in range(0,e_ij.shape[0])])  for y in range(0,len(A_sum))] \n"
      ],
      "execution_count": null,
      "outputs": []
    },
    {
      "cell_type": "code",
      "metadata": {
        "id": "-TY5lysRzUmq"
      },
      "source": [
        "embd1 = Embedding(vocab_size,output_dim=100, weights=[embedding_matrix],input_length=max_len, mask_zero = True,trainable=False, name = 'emd1')\n",
        "d1 = Dense(50,activation='relu',name = 'dense')\n",
        "d2 = Dense(50,activation='relu',name = 'B')\n",
        "add = Add()\n",
        "soft1 = tf.keras.layers.Softmax(axis=-1)\n",
        "soft2 = tf.keras.layers.Softmax(axis=-1)\n"
      ],
      "execution_count": 54,
      "outputs": []
    },
    {
      "cell_type": "code",
      "metadata": {
        "id": "oYowObBQFQ7t",
        "colab": {
          "base_uri": "https://localhost:8080/"
        },
        "outputId": "cb945e27-319e-4e42-8e63-bc856e4c4406"
      },
      "source": [
        "# Attend\n",
        "# lets try dot product of two output from \n",
        "a_ = embd1(q1_train[0])\n",
        "b_ = embd1(q2_train[0])\n",
        "\n",
        "f_a = d1(a_)\n",
        "f_b = d1(b_)\n",
        "\n",
        "# f_a = f_a[:tf.where(f_a._keras_mask==True)[-1][0]+1]\n",
        "# f_b = f_b[:tf.where(f_b._keras_mask==True)[-1][0]+1]\n",
        "\n",
        "m = Masking(mask_value= 0., input_shape=(20, 20))\n",
        "e_ij = f_a @ tf.transpose(f_b)\n",
        "e_ij = m(e_ij)\n",
        "e_ij2 = m(tf.transpose(e_ij))\n",
        "\n",
        "\n",
        "sof1 = soft1(e_ij,mask = e_ij._keras_mask) \n",
        "sof2 = soft2(e_ij2 ,mask = e_ij2 ._keras_mask)\n",
        "# print(sof2._keras_mask)\n",
        "\n",
        "m2 = Masking(mask_value= 0., input_shape=(20, 100))\n",
        "B_i = tf.transpose(sof1) @ a_\n",
        "B_i = m2(B_i)\n",
        "A_j = sof2 @ b_\n",
        "A_j = m2(A_j)\n",
        "print(sof1.shape, a_.shape)\n",
        "\n",
        "m3 = Masking(mask_value= 0., input_shape=(40, 100))\n",
        "v1 = tf.concat([a_,B_i],0)\n",
        "v1 = m3(v1)\n",
        "v2 = tf.concat([b_,A_j],0)\n",
        "v2 = m3(v2)\n",
        "print(v1.shape, v2.shape)\n",
        "\n",
        "\n",
        "\n",
        "\n",
        "\n",
        "\n",
        "\n",
        "\n",
        "\n",
        "\n",
        "# B_sum = [sum(e_ij[0][i][:]) for i in range(e_ij.shape[1])]\n",
        "# A_sum = [sum(e_ij[0][:][j]) for j in range(0,e_ij.shape[2])]\n",
        "\n",
        "\n",
        "# B_i = tf.convert_to_tensor([sum([(e_ij[0][y][x]/B_sum[y])*embdx2[y] for x in range(0,e_ij.shape[2])])  for y in range(0,len(B_sum))])\n",
        "# A_j = tf.convert_to_tensor([sum([(e_ij[0][x][y]/A_sum[y])*embdx1[y] for x in range(0,e_ij.shape[1])])  for y in range(0,len(A_sum))])"
      ],
      "execution_count": 56,
      "outputs": [
        {
          "output_type": "stream",
          "text": [
            "(20, 20) (20, 100)\n",
            "(40, 100) (40, 100)\n"
          ],
          "name": "stdout"
        }
      ]
    },
    {
      "cell_type": "code",
      "metadata": {
        "colab": {
          "base_uri": "https://localhost:8080/"
        },
        "id": "GNI6hyGFR4bZ",
        "outputId": "1b0b3837-d83d-4757-d5a3-972a484dc7e2"
      },
      "source": [
        "a = np.arange(12,dtype=float).reshape(3,4)\n",
        "a[0][0] = 22\n",
        "a"
      ],
      "execution_count": null,
      "outputs": [
        {
          "output_type": "execute_result",
          "data": {
            "text/plain": [
              "array([[22.,  1.,  2.,  3.],\n",
              "       [ 4.,  5.,  6.,  7.],\n",
              "       [ 8.,  9., 10., 11.]])"
            ]
          },
          "metadata": {
            "tags": []
          },
          "execution_count": 72
        }
      ]
    },
    {
      "cell_type": "code",
      "metadata": {
        "colab": {
          "base_uri": "https://localhost:8080/"
        },
        "id": "1HIuUgg2LMOW",
        "outputId": "c8c61713-d29f-482d-9527-0f5bfd572e6f"
      },
      "source": [
        "soft2(a)"
      ],
      "execution_count": null,
      "outputs": [
        {
          "output_type": "execute_result",
          "data": {
            "text/plain": [
              "<tf.Tensor: shape=(3, 4), dtype=float32, numpy=\n",
              "array([[9.9999917e-01, 3.2932041e-04, 3.2932041e-04, 3.2932041e-04],\n",
              "       [1.5229968e-08, 1.7980287e-02, 1.7980287e-02, 1.7980287e-02],\n",
              "       [8.3152804e-07, 9.8169035e-01, 9.8169035e-01, 9.8169035e-01]],\n",
              "      dtype=float32)>"
            ]
          },
          "metadata": {
            "tags": []
          },
          "execution_count": 74
        }
      ]
    },
    {
      "cell_type": "code",
      "metadata": {
        "id": "I9-MWxwrMiRK"
      },
      "source": [
        ""
      ],
      "execution_count": null,
      "outputs": []
    }
  ]
}