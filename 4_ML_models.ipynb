{
  "nbformat": 4,
  "nbformat_minor": 0,
  "metadata": {
    "colab": {
      "name": "4.ML_models.ipynb",
      "provenance": [],
      "collapsed_sections": [],
      "include_colab_link": true
    },
    "kernelspec": {
      "display_name": "Python 3",
      "language": "python",
      "name": "python3"
    }
  },
  "cells": [
    {
      "cell_type": "markdown",
      "metadata": {
        "id": "view-in-github",
        "colab_type": "text"
      },
      "source": [
        "<a href=\"https://colab.research.google.com/github/akmaleache/Quora/blob/master/4_ML_models.ipynb\" target=\"_parent\"><img src=\"https://colab.research.google.com/assets/colab-badge.svg\" alt=\"Open In Colab\"/></a>"
      ]
    },
    {
      "cell_type": "code",
      "metadata": {
        "id": "6VXPfRp-tARR"
      },
      "source": [
        "import pandas as pd\n",
        "import matplotlib.pyplot as plt\n",
        "import re\n",
        "import time\n",
        "import warnings\n",
        "import sqlite3\n",
        "from sqlalchemy import create_engine # database connection\n",
        "import csv\n",
        "import os\n",
        "warnings.filterwarnings(\"ignore\")\n",
        "import datetime as dt\n",
        "import numpy as np\n",
        "from nltk.corpus import stopwords\n",
        "from sklearn.decomposition import TruncatedSVD\n",
        "from sklearn.preprocessing import normalize\n",
        "from sklearn.feature_extraction.text import CountVectorizer\n",
        "from sklearn.manifold import TSNE\n",
        "import seaborn as sns\n",
        "from sklearn.neighbors import KNeighborsClassifier\n",
        "from sklearn.metrics import confusion_matrix\n",
        "from sklearn.metrics.classification import accuracy_score, log_loss\n",
        "from sklearn.feature_extraction.text import TfidfVectorizer\n",
        "from collections import Counter\n",
        "from scipy.sparse import hstack\n",
        "from sklearn.multiclass import OneVsRestClassifier\n",
        "from sklearn.svm import SVC\n",
        "# from sklearn.cross_validation import StratifiedKFold \n",
        "from collections import Counter, defaultdict\n",
        "from sklearn.calibration import CalibratedClassifierCV\n",
        "from sklearn.naive_bayes import MultinomialNB\n",
        "from sklearn.naive_bayes import GaussianNB\n",
        "from sklearn.model_selection import train_test_split\n",
        "from sklearn.model_selection import GridSearchCV\n",
        "import math\n",
        "from sklearn.metrics import normalized_mutual_info_score\n",
        "from sklearn.ensemble import RandomForestClassifier\n",
        "\n",
        "\n",
        "\n",
        "from sklearn.model_selection import cross_val_score\n",
        "from sklearn.linear_model import SGDClassifier\n",
        "from mlxtend.classifier import StackingClassifier\n",
        "\n",
        "from sklearn import model_selection\n",
        "from sklearn.linear_model import LogisticRegression\n",
        "from sklearn.metrics import precision_recall_curve, auc, roc_curve"
      ],
      "execution_count": 1,
      "outputs": []
    },
    {
      "cell_type": "markdown",
      "metadata": {
        "id": "ZihvUPvHtARd"
      },
      "source": [
        "<h1>4. Machine Learning Models </h1>"
      ]
    },
    {
      "cell_type": "markdown",
      "metadata": {
        "id": "CtN9VBPutARf"
      },
      "source": [
        "<h2> 4.1 Reading data from file and storing into sql table </h2>"
      ]
    },
    {
      "cell_type": "code",
      "metadata": {
        "id": "owBQdjY1tARh"
      },
      "source": [
        "#Creating db file from csv\n",
        "if not os.path.isfile('train.db'):\n",
        "    disk_engine = create_engine('sqlite:///train.db')\n",
        "    start = dt.datetime.now()\n",
        "    chunksize = 180000\n",
        "    j = 0\n",
        "    index_start = 1\n",
        "    for df in pd.read_csv('final_features.csv', names=['Unnamed: 0','id','is_duplicate','cwc_min','cwc_max','csc_min','csc_max','ctc_min','ctc_max','last_word_eq','first_word_eq','abs_len_diff','mean_len','token_set_ratio','token_sort_ratio','fuzz_ratio','fuzz_partial_ratio','longest_substr_ratio','freq_qid1','freq_qid2','q1len','q2len','q1_n_words','q2_n_words','word_Common','word_Total','word_share','freq_q1+q2','freq_q1-q2','0_x','1_x','2_x','3_x','4_x','5_x','6_x','7_x','8_x','9_x','10_x','11_x','12_x','13_x','14_x','15_x','16_x','17_x','18_x','19_x','20_x','21_x','22_x','23_x','24_x','25_x','26_x','27_x','28_x','29_x','30_x','31_x','32_x','33_x','34_x','35_x','36_x','37_x','38_x','39_x','40_x','41_x','42_x','43_x','44_x','45_x','46_x','47_x','48_x','49_x','50_x','51_x','52_x','53_x','54_x','55_x','56_x','57_x','58_x','59_x','60_x','61_x','62_x','63_x','64_x','65_x','66_x','67_x','68_x','69_x','70_x','71_x','72_x','73_x','74_x','75_x','76_x','77_x','78_x','79_x','80_x','81_x','82_x','83_x','84_x','85_x','86_x','87_x','88_x','89_x','90_x','91_x','92_x','93_x','94_x','95_x','96_x','97_x','98_x','99_x','100_x','101_x','102_x','103_x','104_x','105_x','106_x','107_x','108_x','109_x','110_x','111_x','112_x','113_x','114_x','115_x','116_x','117_x','118_x','119_x','120_x','121_x','122_x','123_x','124_x','125_x','126_x','127_x','128_x','129_x','130_x','131_x','132_x','133_x','134_x','135_x','136_x','137_x','138_x','139_x','140_x','141_x','142_x','143_x','144_x','145_x','146_x','147_x','148_x','149_x','150_x','151_x','152_x','153_x','154_x','155_x','156_x','157_x','158_x','159_x','160_x','161_x','162_x','163_x','164_x','165_x','166_x','167_x','168_x','169_x','170_x','171_x','172_x','173_x','174_x','175_x','176_x','177_x','178_x','179_x','180_x','181_x','182_x','183_x','184_x','185_x','186_x','187_x','188_x','189_x','190_x','191_x','192_x','193_x','194_x','195_x','196_x','197_x','198_x','199_x','200_x','201_x','202_x','203_x','204_x','205_x','206_x','207_x','208_x','209_x','210_x','211_x','212_x','213_x','214_x','215_x','216_x','217_x','218_x','219_x','220_x','221_x','222_x','223_x','224_x','225_x','226_x','227_x','228_x','229_x','230_x','231_x','232_x','233_x','234_x','235_x','236_x','237_x','238_x','239_x','240_x','241_x','242_x','243_x','244_x','245_x','246_x','247_x','248_x','249_x','250_x','251_x','252_x','253_x','254_x','255_x','256_x','257_x','258_x','259_x','260_x','261_x','262_x','263_x','264_x','265_x','266_x','267_x','268_x','269_x','270_x','271_x','272_x','273_x','274_x','275_x','276_x','277_x','278_x','279_x','280_x','281_x','282_x','283_x','284_x','285_x','286_x','287_x','288_x','289_x','290_x','291_x','292_x','293_x','294_x','295_x','296_x','297_x','298_x','299_x','300_x','301_x','302_x','303_x','304_x','305_x','306_x','307_x','308_x','309_x','310_x','311_x','312_x','313_x','314_x','315_x','316_x','317_x','318_x','319_x','320_x','321_x','322_x','323_x','324_x','325_x','326_x','327_x','328_x','329_x','330_x','331_x','332_x','333_x','334_x','335_x','336_x','337_x','338_x','339_x','340_x','341_x','342_x','343_x','344_x','345_x','346_x','347_x','348_x','349_x','350_x','351_x','352_x','353_x','354_x','355_x','356_x','357_x','358_x','359_x','360_x','361_x','362_x','363_x','364_x','365_x','366_x','367_x','368_x','369_x','370_x','371_x','372_x','373_x','374_x','375_x','376_x','377_x','378_x','379_x','380_x','381_x','382_x','383_x','0_y','1_y','2_y','3_y','4_y','5_y','6_y','7_y','8_y','9_y','10_y','11_y','12_y','13_y','14_y','15_y','16_y','17_y','18_y','19_y','20_y','21_y','22_y','23_y','24_y','25_y','26_y','27_y','28_y','29_y','30_y','31_y','32_y','33_y','34_y','35_y','36_y','37_y','38_y','39_y','40_y','41_y','42_y','43_y','44_y','45_y','46_y','47_y','48_y','49_y','50_y','51_y','52_y','53_y','54_y','55_y','56_y','57_y','58_y','59_y','60_y','61_y','62_y','63_y','64_y','65_y','66_y','67_y','68_y','69_y','70_y','71_y','72_y','73_y','74_y','75_y','76_y','77_y','78_y','79_y','80_y','81_y','82_y','83_y','84_y','85_y','86_y','87_y','88_y','89_y','90_y','91_y','92_y','93_y','94_y','95_y','96_y','97_y','98_y','99_y','100_y','101_y','102_y','103_y','104_y','105_y','106_y','107_y','108_y','109_y','110_y','111_y','112_y','113_y','114_y','115_y','116_y','117_y','118_y','119_y','120_y','121_y','122_y','123_y','124_y','125_y','126_y','127_y','128_y','129_y','130_y','131_y','132_y','133_y','134_y','135_y','136_y','137_y','138_y','139_y','140_y','141_y','142_y','143_y','144_y','145_y','146_y','147_y','148_y','149_y','150_y','151_y','152_y','153_y','154_y','155_y','156_y','157_y','158_y','159_y','160_y','161_y','162_y','163_y','164_y','165_y','166_y','167_y','168_y','169_y','170_y','171_y','172_y','173_y','174_y','175_y','176_y','177_y','178_y','179_y','180_y','181_y','182_y','183_y','184_y','185_y','186_y','187_y','188_y','189_y','190_y','191_y','192_y','193_y','194_y','195_y','196_y','197_y','198_y','199_y','200_y','201_y','202_y','203_y','204_y','205_y','206_y','207_y','208_y','209_y','210_y','211_y','212_y','213_y','214_y','215_y','216_y','217_y','218_y','219_y','220_y','221_y','222_y','223_y','224_y','225_y','226_y','227_y','228_y','229_y','230_y','231_y','232_y','233_y','234_y','235_y','236_y','237_y','238_y','239_y','240_y','241_y','242_y','243_y','244_y','245_y','246_y','247_y','248_y','249_y','250_y','251_y','252_y','253_y','254_y','255_y','256_y','257_y','258_y','259_y','260_y','261_y','262_y','263_y','264_y','265_y','266_y','267_y','268_y','269_y','270_y','271_y','272_y','273_y','274_y','275_y','276_y','277_y','278_y','279_y','280_y','281_y','282_y','283_y','284_y','285_y','286_y','287_y','288_y','289_y','290_y','291_y','292_y','293_y','294_y','295_y','296_y','297_y','298_y','299_y','300_y','301_y','302_y','303_y','304_y','305_y','306_y','307_y','308_y','309_y','310_y','311_y','312_y','313_y','314_y','315_y','316_y','317_y','318_y','319_y','320_y','321_y','322_y','323_y','324_y','325_y','326_y','327_y','328_y','329_y','330_y','331_y','332_y','333_y','334_y','335_y','336_y','337_y','338_y','339_y','340_y','341_y','342_y','343_y','344_y','345_y','346_y','347_y','348_y','349_y','350_y','351_y','352_y','353_y','354_y','355_y','356_y','357_y','358_y','359_y','360_y','361_y','362_y','363_y','364_y','365_y','366_y','367_y','368_y','369_y','370_y','371_y','372_y','373_y','374_y','375_y','376_y','377_y','378_y','379_y','380_y','381_y','382_y','383_y'], chunksize=chunksize, iterator=True, encoding='utf-8', ):\n",
        "        df.index += index_start\n",
        "        j+=1\n",
        "        print('{} rows'.format(j*chunksize))\n",
        "        df.to_sql('data', disk_engine, if_exists='append')\n",
        "        index_start = df.index[-1] + 1"
      ],
      "execution_count": null,
      "outputs": []
    },
    {
      "cell_type": "code",
      "metadata": {
        "id": "4hpD3aBktARn"
      },
      "source": [
        "#http://www.sqlitetutorial.net/sqlite-python/create-tables/\n",
        "def create_connection(db_file):\n",
        "    \"\"\" create a database connection to the SQLite database\n",
        "        specified by db_file\n",
        "    :param db_file: database file\n",
        "    :return: Connection object or None\n",
        "    \"\"\"\n",
        "    try:\n",
        "        conn = sqlite3.connect(db_file)\n",
        "        return conn\n",
        "    except Error as e:\n",
        "        print(e)\n",
        " \n",
        "    return None\n",
        "\n",
        "\n",
        "def checkTableExists(dbcon):\n",
        "    cursr = dbcon.cursor()\n",
        "    str = \"select name from sqlite_master where type='table'\"\n",
        "    table_names = cursr.execute(str)\n",
        "    print(\"Tables in the databse:\")\n",
        "    tables =table_names.fetchall() \n",
        "    print(tables[0][0])\n",
        "    return(len(tables))"
      ],
      "execution_count": null,
      "outputs": []
    },
    {
      "cell_type": "code",
      "metadata": {
        "id": "nR8ZIUnttARs",
        "outputId": "810fb3fb-7da2-4b78-9e29-9edabbf68cf6"
      },
      "source": [
        "read_db = 'train.db'\n",
        "conn_r = create_connection(read_db)\n",
        "checkTableExists(conn_r)\n",
        "conn_r.close()"
      ],
      "execution_count": null,
      "outputs": [
        {
          "output_type": "stream",
          "text": [
            "Tables in the databse:\n",
            "data\n"
          ],
          "name": "stdout"
        }
      ]
    },
    {
      "cell_type": "code",
      "metadata": {
        "id": "SZq5gaaztARy"
      },
      "source": [
        "# try to sample data according to the computing power you have\n",
        "if os.path.isfile(read_db):\n",
        "    conn_r = create_connection(read_db)\n",
        "    if conn_r is not None:\n",
        "        # for selecting first 1M rows\n",
        "        # data = pd.read_sql_query(\"\"\"SELECT * FROM data LIMIT 100001;\"\"\", conn_r)\n",
        "        \n",
        "        # for selecting random points\n",
        "        data = pd.read_sql_query(\"SELECT * From data ORDER BY RANDOM() LIMIT 100001;\", conn_r)\n",
        "        conn_r.commit()\n",
        "        conn_r.close()"
      ],
      "execution_count": null,
      "outputs": []
    },
    {
      "cell_type": "code",
      "metadata": {
        "id": "ZkeBKktKtAR3"
      },
      "source": [
        "# remove the first row \n",
        "data.drop(data.index[0], inplace=True)\n",
        "y_true = data['is_duplicate']\n",
        "data.drop(['Unnamed: 0', 'id','index','is_duplicate'], axis=1, inplace=True)"
      ],
      "execution_count": null,
      "outputs": []
    },
    {
      "cell_type": "code",
      "metadata": {
        "id": "QKSenpsmtAR9",
        "outputId": "81d890ce-df79-4402-9324-84817dbd5a7d"
      },
      "source": [
        "data.head()"
      ],
      "execution_count": null,
      "outputs": [
        {
          "output_type": "execute_result",
          "data": {
            "text/html": [
              "<div>\n",
              "<style>\n",
              "    .dataframe thead tr:only-child th {\n",
              "        text-align: right;\n",
              "    }\n",
              "\n",
              "    .dataframe thead th {\n",
              "        text-align: left;\n",
              "    }\n",
              "\n",
              "    .dataframe tbody tr th {\n",
              "        vertical-align: top;\n",
              "    }\n",
              "</style>\n",
              "<table border=\"1\" class=\"dataframe\">\n",
              "  <thead>\n",
              "    <tr style=\"text-align: right;\">\n",
              "      <th></th>\n",
              "      <th>cwc_min</th>\n",
              "      <th>cwc_max</th>\n",
              "      <th>csc_min</th>\n",
              "      <th>csc_max</th>\n",
              "      <th>ctc_min</th>\n",
              "      <th>ctc_max</th>\n",
              "      <th>last_word_eq</th>\n",
              "      <th>first_word_eq</th>\n",
              "      <th>abs_len_diff</th>\n",
              "      <th>mean_len</th>\n",
              "      <th>...</th>\n",
              "      <th>374_y</th>\n",
              "      <th>375_y</th>\n",
              "      <th>376_y</th>\n",
              "      <th>377_y</th>\n",
              "      <th>378_y</th>\n",
              "      <th>379_y</th>\n",
              "      <th>380_y</th>\n",
              "      <th>381_y</th>\n",
              "      <th>382_y</th>\n",
              "      <th>383_y</th>\n",
              "    </tr>\n",
              "  </thead>\n",
              "  <tbody>\n",
              "    <tr>\n",
              "      <th>1</th>\n",
              "      <td>0.199996000079998</td>\n",
              "      <td>0.166663888935184</td>\n",
              "      <td>0.0</td>\n",
              "      <td>0.0</td>\n",
              "      <td>0.14285510206997</td>\n",
              "      <td>0.0999990000099999</td>\n",
              "      <td>0.0</td>\n",
              "      <td>0.0</td>\n",
              "      <td>3.0</td>\n",
              "      <td>8.5</td>\n",
              "      <td>...</td>\n",
              "      <td>-0.452613651752472</td>\n",
              "      <td>15.652570605278</td>\n",
              "      <td>6.08213365077972</td>\n",
              "      <td>-11.8397651314735</td>\n",
              "      <td>13.1632919311523</td>\n",
              "      <td>-2.98961134254932</td>\n",
              "      <td>-22.7671056985855</td>\n",
              "      <td>-0.55659094452858</td>\n",
              "      <td>16.7820047736168</td>\n",
              "      <td>20.3098403215408</td>\n",
              "    </tr>\n",
              "    <tr>\n",
              "      <th>2</th>\n",
              "      <td>0.399992000159997</td>\n",
              "      <td>0.399992000159997</td>\n",
              "      <td>0.499987500312492</td>\n",
              "      <td>0.499987500312492</td>\n",
              "      <td>0.444439506227709</td>\n",
              "      <td>0.444439506227709</td>\n",
              "      <td>0.0</td>\n",
              "      <td>0.0</td>\n",
              "      <td>0.0</td>\n",
              "      <td>9.0</td>\n",
              "      <td>...</td>\n",
              "      <td>-7.29706252366304</td>\n",
              "      <td>8.17464561760426</td>\n",
              "      <td>11.8678730130196</td>\n",
              "      <td>-0.180742904543877</td>\n",
              "      <td>-7.7285645082593</td>\n",
              "      <td>-1.18125408887863</td>\n",
              "      <td>-10.2087883651257</td>\n",
              "      <td>1.95615618489683</td>\n",
              "      <td>5.9711550520733</td>\n",
              "      <td>-0.634018301963806</td>\n",
              "    </tr>\n",
              "    <tr>\n",
              "      <th>3</th>\n",
              "      <td>0.833319444675922</td>\n",
              "      <td>0.714275510349852</td>\n",
              "      <td>0.999983333611106</td>\n",
              "      <td>0.857130612419823</td>\n",
              "      <td>0.687495703151855</td>\n",
              "      <td>0.687495703151855</td>\n",
              "      <td>0.0</td>\n",
              "      <td>1.0</td>\n",
              "      <td>0.0</td>\n",
              "      <td>16.0</td>\n",
              "      <td>...</td>\n",
              "      <td>10.6274425089359</td>\n",
              "      <td>8.40339290164411</td>\n",
              "      <td>14.16905092448</td>\n",
              "      <td>-14.7492953687906</td>\n",
              "      <td>13.0176268517971</td>\n",
              "      <td>15.6888161092065</td>\n",
              "      <td>-26.4774019122124</td>\n",
              "      <td>24.7521114945412</td>\n",
              "      <td>14.29726113379</td>\n",
              "      <td>0.945210464298725</td>\n",
              "    </tr>\n",
              "    <tr>\n",
              "      <th>4</th>\n",
              "      <td>0.0</td>\n",
              "      <td>0.0</td>\n",
              "      <td>0.599988000239995</td>\n",
              "      <td>0.499991666805553</td>\n",
              "      <td>0.249997916684028</td>\n",
              "      <td>0.230767455634957</td>\n",
              "      <td>0.0</td>\n",
              "      <td>0.0</td>\n",
              "      <td>1.0</td>\n",
              "      <td>12.5</td>\n",
              "      <td>...</td>\n",
              "      <td>9.43481918051839</td>\n",
              "      <td>47.0162477493286</td>\n",
              "      <td>6.11483122035861</td>\n",
              "      <td>-9.12068559974432</td>\n",
              "      <td>-3.70159254875034</td>\n",
              "      <td>-6.60001696646214</td>\n",
              "      <td>-26.1024898421019</td>\n",
              "      <td>13.254497602582</td>\n",
              "      <td>10.0541534200311</td>\n",
              "      <td>-6.71233975887299</td>\n",
              "    </tr>\n",
              "    <tr>\n",
              "      <th>5</th>\n",
              "      <td>0.749981250468738</td>\n",
              "      <td>0.749981250468738</td>\n",
              "      <td>0.499987500312492</td>\n",
              "      <td>0.499987500312492</td>\n",
              "      <td>0.624992187597655</td>\n",
              "      <td>0.624992187597655</td>\n",
              "      <td>1.0</td>\n",
              "      <td>0.0</td>\n",
              "      <td>0.0</td>\n",
              "      <td>8.0</td>\n",
              "      <td>...</td>\n",
              "      <td>-0.158434137701988</td>\n",
              "      <td>13.7061135396361</td>\n",
              "      <td>6.35377380251884</td>\n",
              "      <td>-7.79693192709237</td>\n",
              "      <td>7.42785215843469</td>\n",
              "      <td>0.602214589715004</td>\n",
              "      <td>-17.1489275898784</td>\n",
              "      <td>-1.66515278816223</td>\n",
              "      <td>4.06413406133652</td>\n",
              "      <td>3.87387558817863</td>\n",
              "    </tr>\n",
              "  </tbody>\n",
              "</table>\n",
              "<p>5 rows × 794 columns</p>\n",
              "</div>"
            ],
            "text/plain": [
              "             cwc_min            cwc_max            csc_min            csc_max  \\\n",
              "1  0.199996000079998  0.166663888935184                0.0                0.0   \n",
              "2  0.399992000159997  0.399992000159997  0.499987500312492  0.499987500312492   \n",
              "3  0.833319444675922  0.714275510349852  0.999983333611106  0.857130612419823   \n",
              "4                0.0                0.0  0.599988000239995  0.499991666805553   \n",
              "5  0.749981250468738  0.749981250468738  0.499987500312492  0.499987500312492   \n",
              "\n",
              "             ctc_min             ctc_max last_word_eq first_word_eq  \\\n",
              "1   0.14285510206997  0.0999990000099999          0.0           0.0   \n",
              "2  0.444439506227709   0.444439506227709          0.0           0.0   \n",
              "3  0.687495703151855   0.687495703151855          0.0           1.0   \n",
              "4  0.249997916684028   0.230767455634957          0.0           0.0   \n",
              "5  0.624992187597655   0.624992187597655          1.0           0.0   \n",
              "\n",
              "  abs_len_diff mean_len         ...                       374_y  \\\n",
              "1          3.0      8.5         ...          -0.452613651752472   \n",
              "2          0.0      9.0         ...           -7.29706252366304   \n",
              "3          0.0     16.0         ...            10.6274425089359   \n",
              "4          1.0     12.5         ...            9.43481918051839   \n",
              "5          0.0      8.0         ...          -0.158434137701988   \n",
              "\n",
              "              375_y             376_y               377_y              378_y  \\\n",
              "1   15.652570605278  6.08213365077972   -11.8397651314735   13.1632919311523   \n",
              "2  8.17464561760426  11.8678730130196  -0.180742904543877   -7.7285645082593   \n",
              "3  8.40339290164411    14.16905092448   -14.7492953687906   13.0176268517971   \n",
              "4  47.0162477493286  6.11483122035861   -9.12068559974432  -3.70159254875034   \n",
              "5  13.7061135396361  6.35377380251884   -7.79693192709237   7.42785215843469   \n",
              "\n",
              "               379_y              380_y              381_y             382_y  \\\n",
              "1  -2.98961134254932  -22.7671056985855  -0.55659094452858  16.7820047736168   \n",
              "2  -1.18125408887863  -10.2087883651257   1.95615618489683   5.9711550520733   \n",
              "3   15.6888161092065  -26.4774019122124   24.7521114945412    14.29726113379   \n",
              "4  -6.60001696646214  -26.1024898421019    13.254497602582  10.0541534200311   \n",
              "5  0.602214589715004  -17.1489275898784  -1.66515278816223  4.06413406133652   \n",
              "\n",
              "                383_y  \n",
              "1    20.3098403215408  \n",
              "2  -0.634018301963806  \n",
              "3   0.945210464298725  \n",
              "4   -6.71233975887299  \n",
              "5    3.87387558817863  \n",
              "\n",
              "[5 rows x 794 columns]"
            ]
          },
          "metadata": {
            "tags": []
          },
          "execution_count": 9
        }
      ]
    },
    {
      "cell_type": "markdown",
      "metadata": {
        "id": "KaWHDzqUtASD"
      },
      "source": [
        "<h2> 4.2 Converting strings to numerics </h2>"
      ]
    },
    {
      "cell_type": "code",
      "metadata": {
        "id": "iLV60gkptASD",
        "outputId": "f297e0f4-52d5-4ab4-8a43-f0ff82f63698"
      },
      "source": [
        "# after we read from sql table each entry was read it as a string\n",
        "# we convert all the features into numaric before we apply any model\n",
        "cols = list(data.columns)\n",
        "for i in cols:\n",
        "    data[i] = data[i].apply(pd.to_numeric)\n",
        "    print(i)"
      ],
      "execution_count": null,
      "outputs": [
        {
          "output_type": "stream",
          "text": [
            "cwc_min\n",
            "cwc_max\n",
            "csc_min\n",
            "csc_max\n",
            "ctc_min\n",
            "ctc_max\n",
            "last_word_eq\n",
            "first_word_eq\n",
            "abs_len_diff\n",
            "mean_len\n",
            "token_set_ratio\n",
            "token_sort_ratio\n",
            "fuzz_ratio\n",
            "fuzz_partial_ratio\n",
            "longest_substr_ratio\n",
            "freq_qid1\n",
            "freq_qid2\n",
            "q1len\n",
            "q2len\n",
            "q1_n_words\n",
            "q2_n_words\n",
            "word_Common\n",
            "word_Total\n",
            "word_share\n",
            "freq_q1+q2\n",
            "freq_q1-q2\n",
            "0_x\n",
            "1_x\n",
            "2_x\n",
            "3_x\n",
            "4_x\n",
            "5_x\n",
            "6_x\n",
            "7_x\n",
            "8_x\n",
            "9_x\n",
            "10_x\n",
            "11_x\n",
            "12_x\n",
            "13_x\n",
            "14_x\n",
            "15_x\n",
            "16_x\n",
            "17_x\n",
            "18_x\n",
            "19_x\n",
            "20_x\n",
            "21_x\n",
            "22_x\n",
            "23_x\n",
            "24_x\n",
            "25_x\n",
            "26_x\n",
            "27_x\n",
            "28_x\n",
            "29_x\n",
            "30_x\n",
            "31_x\n",
            "32_x\n",
            "33_x\n",
            "34_x\n",
            "35_x\n",
            "36_x\n",
            "37_x\n",
            "38_x\n",
            "39_x\n",
            "40_x\n",
            "41_x\n",
            "42_x\n",
            "43_x\n",
            "44_x\n",
            "45_x\n",
            "46_x\n",
            "47_x\n",
            "48_x\n",
            "49_x\n",
            "50_x\n",
            "51_x\n",
            "52_x\n",
            "53_x\n",
            "54_x\n",
            "55_x\n",
            "56_x\n",
            "57_x\n",
            "58_x\n",
            "59_x\n",
            "60_x\n",
            "61_x\n",
            "62_x\n",
            "63_x\n",
            "64_x\n",
            "65_x\n",
            "66_x\n",
            "67_x\n",
            "68_x\n",
            "69_x\n",
            "70_x\n",
            "71_x\n",
            "72_x\n",
            "73_x\n",
            "74_x\n",
            "75_x\n",
            "76_x\n",
            "77_x\n",
            "78_x\n",
            "79_x\n",
            "80_x\n",
            "81_x\n",
            "82_x\n",
            "83_x\n",
            "84_x\n",
            "85_x\n",
            "86_x\n",
            "87_x\n",
            "88_x\n",
            "89_x\n",
            "90_x\n",
            "91_x\n",
            "92_x\n",
            "93_x\n",
            "94_x\n",
            "95_x\n",
            "96_x\n",
            "97_x\n",
            "98_x\n",
            "99_x\n",
            "100_x\n",
            "101_x\n",
            "102_x\n",
            "103_x\n",
            "104_x\n",
            "105_x\n",
            "106_x\n",
            "107_x\n",
            "108_x\n",
            "109_x\n",
            "110_x\n",
            "111_x\n",
            "112_x\n",
            "113_x\n",
            "114_x\n",
            "115_x\n",
            "116_x\n",
            "117_x\n",
            "118_x\n",
            "119_x\n",
            "120_x\n",
            "121_x\n",
            "122_x\n",
            "123_x\n",
            "124_x\n",
            "125_x\n",
            "126_x\n",
            "127_x\n",
            "128_x\n",
            "129_x\n",
            "130_x\n",
            "131_x\n",
            "132_x\n",
            "133_x\n",
            "134_x\n",
            "135_x\n",
            "136_x\n",
            "137_x\n",
            "138_x\n",
            "139_x\n",
            "140_x\n",
            "141_x\n",
            "142_x\n",
            "143_x\n",
            "144_x\n",
            "145_x\n",
            "146_x\n",
            "147_x\n",
            "148_x\n",
            "149_x\n",
            "150_x\n",
            "151_x\n",
            "152_x\n",
            "153_x\n",
            "154_x\n",
            "155_x\n",
            "156_x\n",
            "157_x\n",
            "158_x\n",
            "159_x\n",
            "160_x\n",
            "161_x\n",
            "162_x\n",
            "163_x\n",
            "164_x\n",
            "165_x\n",
            "166_x\n",
            "167_x\n",
            "168_x\n",
            "169_x\n",
            "170_x\n",
            "171_x\n",
            "172_x\n",
            "173_x\n",
            "174_x\n",
            "175_x\n",
            "176_x\n",
            "177_x\n",
            "178_x\n",
            "179_x\n",
            "180_x\n",
            "181_x\n",
            "182_x\n",
            "183_x\n",
            "184_x\n",
            "185_x\n",
            "186_x\n",
            "187_x\n",
            "188_x\n",
            "189_x\n",
            "190_x\n",
            "191_x\n",
            "192_x\n",
            "193_x\n",
            "194_x\n",
            "195_x\n",
            "196_x\n",
            "197_x\n",
            "198_x\n",
            "199_x\n",
            "200_x\n",
            "201_x\n",
            "202_x\n",
            "203_x\n",
            "204_x\n",
            "205_x\n",
            "206_x\n",
            "207_x\n",
            "208_x\n",
            "209_x\n",
            "210_x\n",
            "211_x\n",
            "212_x\n",
            "213_x\n",
            "214_x\n",
            "215_x\n",
            "216_x\n",
            "217_x\n",
            "218_x\n",
            "219_x\n",
            "220_x\n",
            "221_x\n",
            "222_x\n",
            "223_x\n",
            "224_x\n",
            "225_x\n",
            "226_x\n",
            "227_x\n",
            "228_x\n",
            "229_x\n",
            "230_x\n",
            "231_x\n",
            "232_x\n",
            "233_x\n",
            "234_x\n",
            "235_x\n",
            "236_x\n",
            "237_x\n",
            "238_x\n",
            "239_x\n",
            "240_x\n",
            "241_x\n",
            "242_x\n",
            "243_x\n",
            "244_x\n",
            "245_x\n",
            "246_x\n",
            "247_x\n",
            "248_x\n",
            "249_x\n",
            "250_x\n",
            "251_x\n",
            "252_x\n",
            "253_x\n",
            "254_x\n",
            "255_x\n",
            "256_x\n",
            "257_x\n",
            "258_x\n",
            "259_x\n",
            "260_x\n",
            "261_x\n",
            "262_x\n",
            "263_x\n",
            "264_x\n",
            "265_x\n",
            "266_x\n",
            "267_x\n",
            "268_x\n",
            "269_x\n",
            "270_x\n",
            "271_x\n",
            "272_x\n",
            "273_x\n",
            "274_x\n",
            "275_x\n",
            "276_x\n",
            "277_x\n",
            "278_x\n",
            "279_x\n",
            "280_x\n",
            "281_x\n",
            "282_x\n",
            "283_x\n",
            "284_x\n",
            "285_x\n",
            "286_x\n",
            "287_x\n",
            "288_x\n",
            "289_x\n",
            "290_x\n",
            "291_x\n",
            "292_x\n",
            "293_x\n",
            "294_x\n",
            "295_x\n",
            "296_x\n",
            "297_x\n",
            "298_x\n",
            "299_x\n",
            "300_x\n",
            "301_x\n",
            "302_x\n",
            "303_x\n",
            "304_x\n",
            "305_x\n",
            "306_x\n",
            "307_x\n",
            "308_x\n",
            "309_x\n",
            "310_x\n",
            "311_x\n",
            "312_x\n",
            "313_x\n",
            "314_x\n",
            "315_x\n",
            "316_x\n",
            "317_x\n",
            "318_x\n",
            "319_x\n",
            "320_x\n",
            "321_x\n",
            "322_x\n",
            "323_x\n",
            "324_x\n",
            "325_x\n",
            "326_x\n",
            "327_x\n",
            "328_x\n",
            "329_x\n",
            "330_x\n",
            "331_x\n",
            "332_x\n",
            "333_x\n",
            "334_x\n",
            "335_x\n",
            "336_x\n",
            "337_x\n",
            "338_x\n",
            "339_x\n",
            "340_x\n",
            "341_x\n",
            "342_x\n",
            "343_x\n",
            "344_x\n",
            "345_x\n",
            "346_x\n",
            "347_x\n",
            "348_x\n",
            "349_x\n",
            "350_x\n",
            "351_x\n",
            "352_x\n",
            "353_x\n",
            "354_x\n",
            "355_x\n",
            "356_x\n",
            "357_x\n",
            "358_x\n",
            "359_x\n",
            "360_x\n",
            "361_x\n",
            "362_x\n",
            "363_x\n",
            "364_x\n",
            "365_x\n",
            "366_x\n",
            "367_x\n",
            "368_x\n",
            "369_x\n",
            "370_x\n",
            "371_x\n",
            "372_x\n",
            "373_x\n",
            "374_x\n",
            "375_x\n",
            "376_x\n",
            "377_x\n",
            "378_x\n",
            "379_x\n",
            "380_x\n",
            "381_x\n",
            "382_x\n",
            "383_x\n",
            "0_y\n",
            "1_y\n",
            "2_y\n",
            "3_y\n",
            "4_y\n",
            "5_y\n",
            "6_y\n",
            "7_y\n",
            "8_y\n",
            "9_y\n",
            "10_y\n",
            "11_y\n",
            "12_y\n",
            "13_y\n",
            "14_y\n",
            "15_y\n",
            "16_y\n",
            "17_y\n",
            "18_y\n",
            "19_y\n",
            "20_y\n",
            "21_y\n",
            "22_y\n",
            "23_y\n",
            "24_y\n",
            "25_y\n",
            "26_y\n",
            "27_y\n",
            "28_y\n",
            "29_y\n",
            "30_y\n",
            "31_y\n",
            "32_y\n",
            "33_y\n",
            "34_y\n",
            "35_y\n",
            "36_y\n",
            "37_y\n",
            "38_y\n",
            "39_y\n",
            "40_y\n",
            "41_y\n",
            "42_y\n",
            "43_y\n",
            "44_y\n",
            "45_y\n",
            "46_y\n",
            "47_y\n",
            "48_y\n",
            "49_y\n",
            "50_y\n",
            "51_y\n",
            "52_y\n",
            "53_y\n",
            "54_y\n",
            "55_y\n",
            "56_y\n",
            "57_y\n",
            "58_y\n",
            "59_y\n",
            "60_y\n",
            "61_y\n",
            "62_y\n",
            "63_y\n",
            "64_y\n",
            "65_y\n",
            "66_y\n",
            "67_y\n",
            "68_y\n",
            "69_y\n",
            "70_y\n",
            "71_y\n",
            "72_y\n",
            "73_y\n",
            "74_y\n",
            "75_y\n",
            "76_y\n",
            "77_y\n",
            "78_y\n",
            "79_y\n",
            "80_y\n",
            "81_y\n",
            "82_y\n",
            "83_y\n",
            "84_y\n",
            "85_y\n",
            "86_y\n",
            "87_y\n",
            "88_y\n",
            "89_y\n",
            "90_y\n",
            "91_y\n",
            "92_y\n",
            "93_y\n",
            "94_y\n",
            "95_y\n",
            "96_y\n",
            "97_y\n",
            "98_y\n",
            "99_y\n",
            "100_y\n",
            "101_y\n",
            "102_y\n",
            "103_y\n",
            "104_y\n",
            "105_y\n",
            "106_y\n",
            "107_y\n",
            "108_y\n",
            "109_y\n",
            "110_y\n",
            "111_y\n",
            "112_y\n",
            "113_y\n",
            "114_y\n",
            "115_y\n",
            "116_y\n",
            "117_y\n",
            "118_y\n",
            "119_y\n",
            "120_y\n",
            "121_y\n",
            "122_y\n",
            "123_y\n",
            "124_y\n",
            "125_y\n",
            "126_y\n",
            "127_y\n",
            "128_y\n",
            "129_y\n",
            "130_y\n",
            "131_y\n",
            "132_y\n",
            "133_y\n",
            "134_y\n",
            "135_y\n",
            "136_y\n",
            "137_y\n",
            "138_y\n",
            "139_y\n",
            "140_y\n",
            "141_y\n",
            "142_y\n",
            "143_y\n",
            "144_y\n",
            "145_y\n",
            "146_y\n",
            "147_y\n",
            "148_y\n",
            "149_y\n",
            "150_y\n",
            "151_y\n",
            "152_y\n",
            "153_y\n",
            "154_y\n",
            "155_y\n",
            "156_y\n",
            "157_y\n",
            "158_y\n",
            "159_y\n",
            "160_y\n",
            "161_y\n",
            "162_y\n",
            "163_y\n",
            "164_y\n",
            "165_y\n",
            "166_y\n",
            "167_y\n",
            "168_y\n",
            "169_y\n",
            "170_y\n",
            "171_y\n",
            "172_y\n",
            "173_y\n",
            "174_y\n",
            "175_y\n",
            "176_y\n",
            "177_y\n",
            "178_y\n",
            "179_y\n",
            "180_y\n",
            "181_y\n",
            "182_y\n",
            "183_y\n",
            "184_y\n",
            "185_y\n",
            "186_y\n",
            "187_y\n",
            "188_y\n",
            "189_y\n",
            "190_y\n",
            "191_y\n",
            "192_y\n",
            "193_y\n",
            "194_y\n",
            "195_y\n",
            "196_y\n",
            "197_y\n",
            "198_y\n",
            "199_y\n",
            "200_y\n",
            "201_y\n",
            "202_y\n",
            "203_y\n",
            "204_y\n",
            "205_y\n",
            "206_y\n",
            "207_y\n",
            "208_y\n",
            "209_y\n",
            "210_y\n",
            "211_y\n",
            "212_y\n",
            "213_y\n",
            "214_y\n",
            "215_y\n",
            "216_y\n",
            "217_y\n",
            "218_y\n",
            "219_y\n",
            "220_y\n",
            "221_y\n",
            "222_y\n",
            "223_y\n",
            "224_y\n",
            "225_y\n",
            "226_y\n",
            "227_y\n",
            "228_y\n",
            "229_y\n",
            "230_y\n",
            "231_y\n",
            "232_y\n",
            "233_y\n",
            "234_y\n",
            "235_y\n",
            "236_y\n",
            "237_y\n",
            "238_y\n",
            "239_y\n",
            "240_y\n",
            "241_y\n",
            "242_y\n",
            "243_y\n",
            "244_y\n",
            "245_y\n",
            "246_y\n",
            "247_y\n",
            "248_y\n",
            "249_y\n",
            "250_y\n",
            "251_y\n",
            "252_y\n",
            "253_y\n",
            "254_y\n",
            "255_y\n",
            "256_y\n",
            "257_y\n",
            "258_y\n",
            "259_y\n",
            "260_y\n",
            "261_y\n",
            "262_y\n",
            "263_y\n",
            "264_y\n",
            "265_y\n",
            "266_y\n",
            "267_y\n",
            "268_y\n",
            "269_y\n",
            "270_y\n",
            "271_y\n",
            "272_y\n",
            "273_y\n",
            "274_y\n",
            "275_y\n",
            "276_y\n",
            "277_y\n",
            "278_y\n",
            "279_y\n",
            "280_y\n",
            "281_y\n",
            "282_y\n",
            "283_y\n",
            "284_y\n",
            "285_y\n",
            "286_y\n",
            "287_y\n",
            "288_y\n",
            "289_y\n",
            "290_y\n",
            "291_y\n",
            "292_y\n",
            "293_y\n",
            "294_y\n",
            "295_y\n",
            "296_y\n",
            "297_y\n",
            "298_y\n",
            "299_y\n",
            "300_y\n",
            "301_y\n",
            "302_y\n",
            "303_y\n",
            "304_y\n",
            "305_y\n",
            "306_y\n",
            "307_y\n",
            "308_y\n",
            "309_y\n",
            "310_y\n",
            "311_y\n",
            "312_y\n",
            "313_y\n",
            "314_y\n",
            "315_y\n",
            "316_y\n",
            "317_y\n",
            "318_y\n",
            "319_y\n",
            "320_y\n",
            "321_y\n",
            "322_y\n",
            "323_y\n",
            "324_y\n",
            "325_y\n",
            "326_y\n",
            "327_y\n",
            "328_y\n",
            "329_y\n",
            "330_y\n",
            "331_y\n",
            "332_y\n",
            "333_y\n",
            "334_y\n",
            "335_y\n",
            "336_y\n",
            "337_y\n",
            "338_y\n",
            "339_y\n",
            "340_y\n",
            "341_y\n",
            "342_y\n",
            "343_y\n",
            "344_y\n",
            "345_y\n",
            "346_y\n",
            "347_y\n",
            "348_y\n",
            "349_y\n",
            "350_y\n",
            "351_y\n",
            "352_y\n",
            "353_y\n",
            "354_y\n",
            "355_y\n",
            "356_y\n",
            "357_y\n",
            "358_y\n",
            "359_y\n",
            "360_y\n",
            "361_y\n",
            "362_y\n",
            "363_y\n",
            "364_y\n",
            "365_y\n",
            "366_y\n",
            "367_y\n",
            "368_y\n",
            "369_y\n",
            "370_y\n",
            "371_y\n",
            "372_y\n",
            "373_y\n",
            "374_y\n",
            "375_y\n",
            "376_y\n",
            "377_y\n",
            "378_y\n",
            "379_y\n",
            "380_y\n",
            "381_y\n",
            "382_y\n",
            "383_y\n"
          ],
          "name": "stdout"
        }
      ]
    },
    {
      "cell_type": "code",
      "metadata": {
        "id": "_LpfQwc9tASJ"
      },
      "source": [
        "# https://stackoverflow.com/questions/7368789/convert-all-strings-in-a-list-to-int\n",
        "y_true = list(map(int, y_true.values))"
      ],
      "execution_count": null,
      "outputs": []
    },
    {
      "cell_type": "markdown",
      "metadata": {
        "id": "CuMTqWGutASO"
      },
      "source": [
        "<h2> 4.3 Random train test split( 70:30) </h2>"
      ]
    },
    {
      "cell_type": "code",
      "metadata": {
        "id": "3Rat2obGtASP"
      },
      "source": [
        "X_train,X_test, y_train, y_test = train_test_split(data, y_true, stratify=y_true, test_size=0.3)"
      ],
      "execution_count": null,
      "outputs": []
    },
    {
      "cell_type": "code",
      "metadata": {
        "id": "1Iw9zCHqtASS",
        "outputId": "910b684b-0876-4dd8-e0d9-457846236833"
      },
      "source": [
        "print(\"Number of data points in train data :\",X_train.shape)\n",
        "print(\"Number of data points in test data :\",X_test.shape)"
      ],
      "execution_count": null,
      "outputs": [
        {
          "output_type": "stream",
          "text": [
            "Number of data points in train data : (70000, 794)\n",
            "Number of data points in test data : (30000, 794)\n"
          ],
          "name": "stdout"
        }
      ]
    },
    {
      "cell_type": "code",
      "metadata": {
        "id": "0oDV15LJtASY",
        "outputId": "70a1e4eb-3f31-4f1e-a53b-ad972978505d"
      },
      "source": [
        "print(\"-\"*10, \"Distribution of output variable in train data\", \"-\"*10)\n",
        "train_distr = Counter(y_train)\n",
        "train_len = len(y_train)\n",
        "print(\"Class 0: \",int(train_distr[0])/train_len,\"Class 1: \", int(train_distr[1])/train_len)\n",
        "print(\"-\"*10, \"Distribution of output variable in train data\", \"-\"*10)\n",
        "test_distr = Counter(y_test)\n",
        "test_len = len(y_test)\n",
        "print(\"Class 0: \",int(test_distr[1])/test_len, \"Class 1: \",int(test_distr[1])/test_len)"
      ],
      "execution_count": null,
      "outputs": [
        {
          "output_type": "stream",
          "text": [
            "---------- Distribution of output variable in train data ----------\n",
            "Class 0:  0.6324857142857143 Class 1:  0.36751428571428574\n",
            "---------- Distribution of output variable in train data ----------\n",
            "Class 0:  0.3675 Class 1:  0.3675\n"
          ],
          "name": "stdout"
        }
      ]
    },
    {
      "cell_type": "code",
      "metadata": {
        "id": "XfxcPT6jtASg"
      },
      "source": [
        "# This function plots the confusion matrices given y_i, y_i_hat.\n",
        "def plot_confusion_matrix(test_y, predict_y):\n",
        "    C = confusion_matrix(test_y, predict_y)\n",
        "    # C = 9,9 matrix, each cell (i,j) represents number of points of class i are predicted class j\n",
        "    \n",
        "    A =(((C.T)/(C.sum(axis=1))).T)\n",
        "    #divid each element of the confusion matrix with the sum of elements in that column\n",
        "    \n",
        "    # C = [[1, 2],\n",
        "    #     [3, 4]]\n",
        "    # C.T = [[1, 3],\n",
        "    #        [2, 4]]\n",
        "    # C.sum(axis = 1)  axis=0 corresonds to columns and axis=1 corresponds to rows in two diamensional array\n",
        "    # C.sum(axix =1) = [[3, 7]]\n",
        "    # ((C.T)/(C.sum(axis=1))) = [[1/3, 3/7]\n",
        "    #                           [2/3, 4/7]]\n",
        "\n",
        "    # ((C.T)/(C.sum(axis=1))).T = [[1/3, 2/3]\n",
        "    #                           [3/7, 4/7]]\n",
        "    # sum of row elements = 1\n",
        "    \n",
        "    B =(C/C.sum(axis=0))\n",
        "    #divid each element of the confusion matrix with the sum of elements in that row\n",
        "    # C = [[1, 2],\n",
        "    #     [3, 4]]\n",
        "    # C.sum(axis = 0)  axis=0 corresonds to columns and axis=1 corresponds to rows in two diamensional array\n",
        "    # C.sum(axix =0) = [[4, 6]]\n",
        "    # (C/C.sum(axis=0)) = [[1/4, 2/6],\n",
        "    #                      [3/4, 4/6]] \n",
        "    plt.figure(figsize=(20,4))\n",
        "    \n",
        "    labels = [1,2]\n",
        "    # representing A in heatmap format\n",
        "    cmap=sns.light_palette(\"blue\")\n",
        "    plt.subplot(1, 3, 1)\n",
        "    sns.heatmap(C, annot=True, cmap=cmap, fmt=\".3f\", xticklabels=labels, yticklabels=labels)\n",
        "    plt.xlabel('Predicted Class')\n",
        "    plt.ylabel('Original Class')\n",
        "    plt.title(\"Confusion matrix\")\n",
        "    \n",
        "    plt.subplot(1, 3, 2)\n",
        "    sns.heatmap(B, annot=True, cmap=cmap, fmt=\".3f\", xticklabels=labels, yticklabels=labels)\n",
        "    plt.xlabel('Predicted Class')\n",
        "    plt.ylabel('Original Class')\n",
        "    plt.title(\"Precision matrix\")\n",
        "    \n",
        "    plt.subplot(1, 3, 3)\n",
        "    # representing B in heatmap format\n",
        "    sns.heatmap(A, annot=True, cmap=cmap, fmt=\".3f\", xticklabels=labels, yticklabels=labels)\n",
        "    plt.xlabel('Predicted Class')\n",
        "    plt.ylabel('Original Class')\n",
        "    plt.title(\"Recall matrix\")\n",
        "    \n",
        "    plt.show()"
      ],
      "execution_count": null,
      "outputs": []
    },
    {
      "cell_type": "markdown",
      "metadata": {
        "id": "UStQJ5F_tASk"
      },
      "source": [
        "<h2> 4.4 Building a random model (Finding worst-case log-loss) </h2>"
      ]
    },
    {
      "cell_type": "code",
      "metadata": {
        "id": "qwMDqcU7tASl",
        "outputId": "c1e90d53-25ec-445b-e33a-299538520e32"
      },
      "source": [
        "# we need to generate 9 numbers and the sum of numbers should be 1\n",
        "# one solution is to genarate 9 numbers and divide each of the numbers by their sum\n",
        "# ref: https://stackoverflow.com/a/18662466/4084039\n",
        "# we create a output array that has exactly same size as the CV data\n",
        "predicted_y = np.zeros((test_len,2))\n",
        "for i in range(test_len):\n",
        "    rand_probs = np.random.rand(1,2)\n",
        "    predicted_y[i] = ((rand_probs/sum(sum(rand_probs)))[0])\n",
        "print(\"Log loss on Test Data using Random Model\",log_loss(y_test, predicted_y, eps=1e-15))\n",
        "\n",
        "predicted_y =np.argmax(predicted_y, axis=1)\n",
        "plot_confusion_matrix(y_test, predicted_y)"
      ],
      "execution_count": null,
      "outputs": [
        {
          "output_type": "stream",
          "text": [
            "Log loss on Test Data using Random Model 0.887242646958\n"
          ],
          "name": "stdout"
        },
        {
          "output_type": "display_data",
          "data": {
            "image/png": "[encoded data removed]",
            "text/plain": [
              "<matplotlib.figure.Figure at 0x2567c619c18>"
            ]
          },
          "metadata": {
            "tags": []
          }
        }
      ]
    },
    {
      "cell_type": "markdown",
      "metadata": {
        "id": "YgY29g_qtASq"
      },
      "source": [
        "<h2> 4.4 Logistic Regression with hyperparameter tuning </h2>"
      ]
    },
    {
      "cell_type": "code",
      "metadata": {
        "id": "Wb2tOE3GtASr",
        "outputId": "d7e4fc88-7d4e-4313-cda7-462a2409292e"
      },
      "source": [
        "alpha = [10 ** x for x in range(-5, 2)] # hyperparam for SGD classifier.\n",
        "\n",
        "# read more about SGDClassifier() at http://scikit-learn.org/stable/modules/generated/sklearn.linear_model.SGDClassifier.html\n",
        "# ------------------------------\n",
        "# default parameters\n",
        "# SGDClassifier(loss=’hinge’, penalty=’l2’, alpha=0.0001, l1_ratio=0.15, fit_intercept=True, max_iter=None, tol=None, \n",
        "# shuffle=True, verbose=0, epsilon=0.1, n_jobs=1, random_state=None, learning_rate=’optimal’, eta0=0.0, power_t=0.5, \n",
        "# class_weight=None, warm_start=False, average=False, n_iter=None)\n",
        "\n",
        "# some of methods\n",
        "# fit(X, y[, coef_init, intercept_init, …])\tFit linear model with Stochastic Gradient Descent.\n",
        "# predict(X)\tPredict class labels for samples in X.\n",
        "\n",
        "#-------------------------------\n",
        "# video link: \n",
        "#------------------------------\n",
        "\n",
        "\n",
        "log_error_array=[]\n",
        "for i in alpha:\n",
        "    clf = SGDClassifier(alpha=i, penalty='l2', loss='log', random_state=42)\n",
        "    clf.fit(X_train, y_train)\n",
        "    sig_clf = CalibratedClassifierCV(clf, method=\"sigmoid\")\n",
        "    sig_clf.fit(X_train, y_train)\n",
        "    predict_y = sig_clf.predict_proba(X_test)\n",
        "    log_error_array.append(log_loss(y_test, predict_y, labels=clf.classes_, eps=1e-15))\n",
        "    print('For values of alpha = ', i, \"The log loss is:\",log_loss(y_test, predict_y, labels=clf.classes_, eps=1e-15))\n",
        "\n",
        "fig, ax = plt.subplots()\n",
        "ax.plot(alpha, log_error_array,c='g')\n",
        "for i, txt in enumerate(np.round(log_error_array,3)):\n",
        "    ax.annotate((alpha[i],np.round(txt,3)), (alpha[i],log_error_array[i]))\n",
        "plt.grid()\n",
        "plt.title(\"Cross Validation Error for each alpha\")\n",
        "plt.xlabel(\"Alpha i's\")\n",
        "plt.ylabel(\"Error measure\")\n",
        "plt.show()\n",
        "\n",
        "\n",
        "best_alpha = np.argmin(log_error_array)\n",
        "clf = SGDClassifier(alpha=alpha[best_alpha], penalty='l2', loss='log', random_state=42)\n",
        "clf.fit(X_train, y_train)\n",
        "sig_clf = CalibratedClassifierCV(clf, method=\"sigmoid\")\n",
        "sig_clf.fit(X_train, y_train)\n",
        "\n",
        "predict_y = sig_clf.predict_proba(X_train)\n",
        "print('For values of best alpha = ', alpha[best_alpha], \"The train log loss is:\",log_loss(y_train, predict_y, labels=clf.classes_, eps=1e-15))\n",
        "predict_y = sig_clf.predict_proba(X_test)\n",
        "print('For values of best alpha = ', alpha[best_alpha], \"The test log loss is:\",log_loss(y_test, predict_y, labels=clf.classes_, eps=1e-15))\n",
        "predicted_y =np.argmax(predict_y,axis=1)\n",
        "print(\"Total number of data points :\", len(predicted_y))\n",
        "plot_confusion_matrix(y_test, predicted_y)"
      ],
      "execution_count": null,
      "outputs": [
        {
          "output_type": "stream",
          "text": [
            "For values of alpha =  1e-05 The log loss is: 0.592800211149\n",
            "For values of alpha =  0.0001 The log loss is: 0.532351700629\n",
            "For values of alpha =  0.001 The log loss is: 0.527562275995\n",
            "For values of alpha =  0.01 The log loss is: 0.534535408885\n",
            "For values of alpha =  0.1 The log loss is: 0.525117052926\n",
            "For values of alpha =  1 The log loss is: 0.520035530431\n",
            "For values of alpha =  10 The log loss is: 0.521097925307\n"
          ],
          "name": "stdout"
        },
        {
          "output_type": "display_data",
          "data": {
            "image/png": "[encoded data removed]",
            "text/plain": [
              "<matplotlib.figure.Figure at 0x25667090eb8>"
            ]
          },
          "metadata": {
            "tags": []
          }
        },
        {
          "output_type": "stream",
          "text": [
            "For values of best alpha =  1 The train log loss is: 0.513842874233\n",
            "For values of best alpha =  1 The test log loss is: 0.520035530431\n",
            "Total number of data points : 30000\n"
          ],
          "name": "stdout"
        },
        {
          "output_type": "display_data",
          "data": {
            "image/png": "[encoded data removed]",
            "text/plain": [
              "<matplotlib.figure.Figure at 0x256793c19b0>"
            ]
          },
          "metadata": {
            "tags": []
          }
        }
      ]
    },
    {
      "cell_type": "markdown",
      "metadata": {
        "id": "ouQSEnr3tASy"
      },
      "source": [
        "<h2> 4.5 Linear SVM with hyperparameter tuning </h2>"
      ]
    },
    {
      "cell_type": "code",
      "metadata": {
        "id": "AOFfZ5PLtAS0",
        "outputId": "d31eb598-e275-48cb-c49b-98e9eb76d8ba"
      },
      "source": [
        "alpha = [10 ** x for x in range(-5, 2)] # hyperparam for SGD classifier.\n",
        "\n",
        "# read more about SGDClassifier() at http://scikit-learn.org/stable/modules/generated/sklearn.linear_model.SGDClassifier.html\n",
        "# ------------------------------\n",
        "# default parameters\n",
        "# SGDClassifier(loss=’hinge’, penalty=’l2’, alpha=0.0001, l1_ratio=0.15, fit_intercept=True, max_iter=None, tol=None, \n",
        "# shuffle=True, verbose=0, epsilon=0.1, n_jobs=1, random_state=None, learning_rate=’optimal’, eta0=0.0, power_t=0.5, \n",
        "# class_weight=None, warm_start=False, average=False, n_iter=None)\n",
        "\n",
        "# some of methods\n",
        "# fit(X, y[, coef_init, intercept_init, …])\tFit linear model with Stochastic Gradient Descent.\n",
        "# predict(X)\tPredict class labels for samples in X.\n",
        "\n",
        "#-------------------------------\n",
        "# video link: \n",
        "#------------------------------\n",
        "\n",
        "\n",
        "log_error_array=[]\n",
        "for i in alpha:\n",
        "    clf = SGDClassifier(alpha=i, penalty='l1', loss='hinge', random_state=42)\n",
        "    clf.fit(X_train, y_train)\n",
        "    sig_clf = CalibratedClassifierCV(clf, method=\"sigmoid\")\n",
        "    sig_clf.fit(X_train, y_train)\n",
        "    predict_y = sig_clf.predict_proba(X_test)\n",
        "    log_error_array.append(log_loss(y_test, predict_y, labels=clf.classes_, eps=1e-15))\n",
        "    print('For values of alpha = ', i, \"The log loss is:\",log_loss(y_test, predict_y, labels=clf.classes_, eps=1e-15))\n",
        "\n",
        "fig, ax = plt.subplots()\n",
        "ax.plot(alpha, log_error_array,c='g')\n",
        "for i, txt in enumerate(np.round(log_error_array,3)):\n",
        "    ax.annotate((alpha[i],np.round(txt,3)), (alpha[i],log_error_array[i]))\n",
        "plt.grid()\n",
        "plt.title(\"Cross Validation Error for each alpha\")\n",
        "plt.xlabel(\"Alpha i's\")\n",
        "plt.ylabel(\"Error measure\")\n",
        "plt.show()\n",
        "\n",
        "\n",
        "best_alpha = np.argmin(log_error_array)\n",
        "clf = SGDClassifier(alpha=alpha[best_alpha], penalty='l1', loss='hinge', random_state=42)\n",
        "clf.fit(X_train, y_train)\n",
        "sig_clf = CalibratedClassifierCV(clf, method=\"sigmoid\")\n",
        "sig_clf.fit(X_train, y_train)\n",
        "\n",
        "predict_y = sig_clf.predict_proba(X_train)\n",
        "print('For values of best alpha = ', alpha[best_alpha], \"The train log loss is:\",log_loss(y_train, predict_y, labels=clf.classes_, eps=1e-15))\n",
        "predict_y = sig_clf.predict_proba(X_test)\n",
        "print('For values of best alpha = ', alpha[best_alpha], \"The test log loss is:\",log_loss(y_test, predict_y, labels=clf.classes_, eps=1e-15))\n",
        "predicted_y =np.argmax(predict_y,axis=1)\n",
        "print(\"Total number of data points :\", len(predicted_y))\n",
        "plot_confusion_matrix(y_test, predicted_y)"
      ],
      "execution_count": null,
      "outputs": [
        {
          "output_type": "stream",
          "text": [
            "For values of alpha =  1e-05 The log loss is: 0.657611721261\n",
            "For values of alpha =  0.0001 The log loss is: 0.489669093534\n",
            "For values of alpha =  0.001 The log loss is: 0.521829068562\n",
            "For values of alpha =  0.01 The log loss is: 0.566295616914\n",
            "For values of alpha =  0.1 The log loss is: 0.599957866217\n",
            "For values of alpha =  1 The log loss is: 0.635059427016\n",
            "For values of alpha =  10 The log loss is: 0.654159467907\n"
          ],
          "name": "stdout"
        },
        {
          "output_type": "display_data",
          "data": {
            "image/png": "[encoded data removed]",
            "text/plain": [
              "<matplotlib.figure.Figure at 0x2568b154438>"
            ]
          },
          "metadata": {
            "tags": []
          }
        },
        {
          "output_type": "stream",
          "text": [
            "For values of best alpha =  0.0001 The train log loss is: 0.478054677285\n",
            "For values of best alpha =  0.0001 The test log loss is: 0.489669093534\n",
            "Total number of data points : 30000\n"
          ],
          "name": "stdout"
        },
        {
          "output_type": "display_data",
          "data": {
            "image/png": "[encoded data removed]",
            "text/plain": [
              "<matplotlib.figure.Figure at 0x2567423deb8>"
            ]
          },
          "metadata": {
            "tags": []
          }
        }
      ]
    },
    {
      "cell_type": "markdown",
      "metadata": {
        "id": "ZhTJgclztAS6"
      },
      "source": [
        "<h2> 4.6 XGBoost </h2>"
      ]
    },
    {
      "cell_type": "code",
      "metadata": {
        "id": "9U367-xetAS7",
        "outputId": "167e8588-2ac4-4c6d-ac22-f56a2fce5657"
      },
      "source": [
        "import xgboost as xgb\n",
        "params = {}\n",
        "params['objective'] = 'binary:logistic'\n",
        "params['eval_metric'] = 'logloss'\n",
        "params['eta'] = 0.02\n",
        "params['max_depth'] = 4\n",
        "\n",
        "d_train = xgb.DMatrix(X_train, label=y_train)\n",
        "d_test = xgb.DMatrix(X_test, label=y_test)\n",
        "\n",
        "watchlist = [(d_train, 'train'), (d_test, 'valid')]\n",
        "\n",
        "bst = xgb.train(params, d_train, 400, watchlist, early_stopping_rounds=20, verbose_eval=10)\n",
        "\n",
        "xgdmat = xgb.DMatrix(X_train,y_train)\n",
        "predict_y = bst.predict(d_test)\n",
        "print(\"The test log loss is:\",log_loss(y_test, predict_y, labels=clf.classes_, eps=1e-15))"
      ],
      "execution_count": null,
      "outputs": [
        {
          "output_type": "stream",
          "text": [
            "[0]\ttrain-logloss:0.684819\tvalid-logloss:0.684845\n",
            "Multiple eval metrics have been passed: 'valid-logloss' will be used for early stopping.\n",
            "\n",
            "Will train until valid-logloss hasn't improved in 20 rounds.\n",
            "[10]\ttrain-logloss:0.61583\tvalid-logloss:0.616104\n",
            "[20]\ttrain-logloss:0.564616\tvalid-logloss:0.565273\n",
            "[30]\ttrain-logloss:0.525758\tvalid-logloss:0.52679\n",
            "[40]\ttrain-logloss:0.496661\tvalid-logloss:0.498021\n",
            "[50]\ttrain-logloss:0.473563\tvalid-logloss:0.475182\n",
            "[60]\ttrain-logloss:0.455315\tvalid-logloss:0.457186\n",
            "[70]\ttrain-logloss:0.440442\tvalid-logloss:0.442482\n",
            "[80]\ttrain-logloss:0.428424\tvalid-logloss:0.430795\n",
            "[90]\ttrain-logloss:0.418803\tvalid-logloss:0.421447\n",
            "[100]\ttrain-logloss:0.41069\tvalid-logloss:0.413583\n",
            "[110]\ttrain-logloss:0.403831\tvalid-logloss:0.40693\n",
            "[120]\ttrain-logloss:0.398076\tvalid-logloss:0.401402\n",
            "[130]\ttrain-logloss:0.393305\tvalid-logloss:0.396851\n",
            "[140]\ttrain-logloss:0.38913\tvalid-logloss:0.392952\n",
            "[150]\ttrain-logloss:0.385469\tvalid-logloss:0.389521\n",
            "[160]\ttrain-logloss:0.382327\tvalid-logloss:0.386667\n",
            "[170]\ttrain-logloss:0.379541\tvalid-logloss:0.384148\n",
            "[180]\ttrain-logloss:0.377014\tvalid-logloss:0.381932\n",
            "[190]\ttrain-logloss:0.374687\tvalid-logloss:0.379883\n",
            "[200]\ttrain-logloss:0.372585\tvalid-logloss:0.378068\n",
            "[210]\ttrain-logloss:0.370615\tvalid-logloss:0.376367\n",
            "[220]\ttrain-logloss:0.368559\tvalid-logloss:0.374595\n",
            "[230]\ttrain-logloss:0.366545\tvalid-logloss:0.372847\n",
            "[240]\ttrain-logloss:0.364708\tvalid-logloss:0.371311\n",
            "[250]\ttrain-logloss:0.363021\tvalid-logloss:0.369886\n",
            "[260]\ttrain-logloss:0.36144\tvalid-logloss:0.368673\n",
            "[270]\ttrain-logloss:0.359899\tvalid-logloss:0.367421\n",
            "[280]\ttrain-logloss:0.358465\tvalid-logloss:0.366395\n",
            "[290]\ttrain-logloss:0.357128\tvalid-logloss:0.365361\n",
            "[300]\ttrain-logloss:0.355716\tvalid-logloss:0.364315\n",
            "[310]\ttrain-logloss:0.354425\tvalid-logloss:0.363403\n",
            "[320]\ttrain-logloss:0.353276\tvalid-logloss:0.362595\n",
            "[330]\ttrain-logloss:0.352084\tvalid-logloss:0.361823\n",
            "[340]\ttrain-logloss:0.351051\tvalid-logloss:0.361167\n",
            "[350]\ttrain-logloss:0.349867\tvalid-logloss:0.36043\n",
            "[360]\ttrain-logloss:0.348829\tvalid-logloss:0.359773\n",
            "[370]\ttrain-logloss:0.347689\tvalid-logloss:0.359019\n",
            "[380]\ttrain-logloss:0.346607\tvalid-logloss:0.358311\n",
            "[390]\ttrain-logloss:0.345568\tvalid-logloss:0.357674\n",
            "The test log loss is: 0.357054433715\n"
          ],
          "name": "stdout"
        }
      ]
    },
    {
      "cell_type": "code",
      "metadata": {
        "id": "6U5b17AatAS_",
        "outputId": "ca83b680-023b-4bc5-f499-8d8d85c2ff5e"
      },
      "source": [
        "predicted_y =np.array(predict_y>0.5,dtype=int)\n",
        "print(\"Total number of data points :\", len(predicted_y))\n",
        "plot_confusion_matrix(y_test, predicted_y)"
      ],
      "execution_count": null,
      "outputs": [
        {
          "output_type": "stream",
          "text": [
            "Total number of data points : 30000\n"
          ],
          "name": "stdout"
        },
        {
          "output_type": "display_data",
          "data": {
            "image/png": "[encoded data removed]",
            "text/plain": [
              "<matplotlib.figure.Figure at 0x2567e903cf8>"
            ]
          },
          "metadata": {
            "tags": []
          }
        }
      ]
    },
    {
      "cell_type": "markdown",
      "metadata": {
        "id": "WmiIgHOJtATF"
      },
      "source": [
        "<h1> 5. Assignments </h1>"
      ]
    },
    {
      "cell_type": "markdown",
      "metadata": {
        "id": "CWS6JoB0tATF"
      },
      "source": [
        "1. Try out models (Logistic regression, Linear-SVM) with simple TF-IDF vectors instead of TD_IDF weighted word2Vec.\n",
        "2. Perform hyperparameter tuning  of XgBoost models using RandomsearchCV with vectorizer as TF-IDF W2V  to reduce the log-loss.\n",
        "\n"
      ]
    },
    {
      "cell_type": "markdown",
      "metadata": {
        "id": "rXvIiautqHe0"
      },
      "source": [
        "# Implementing Decomposition attention paper for predicting if both the questions are similar"
      ]
    },
    {
      "cell_type": "code",
      "metadata": {
        "id": "gustrXjTQwU-"
      },
      "source": [
        "from tensorflow.keras.preprocessing.text import Tokenizer, one_hot\n",
        "from tensorflow.keras.preprocessing.sequence import pad_sequences\n",
        "from tensorflow.keras.optimizers import Adam, SGD, Adagrad, Adadelta, RMSprop\n",
        "from tensorflow.keras.losses import BinaryCrossentropy\n",
        "from tensorflow.keras.metrics import AUC, Accuracy\n",
        "from tensorflow.keras.layers import LSTM, Embedding, Flatten, Dense, concatenate, Dropout,LeakyReLU, BatchNormalization, Activation, Conv1D, Softmax, Add\n",
        "from tensorflow.keras.initializers import he_normal,he_uniform, GlorotNormal,GlorotUniform, Constant\n",
        "from tensorflow.keras.utils import plot_model\n",
        "from tensorflow.keras import Model,Input\n",
        "from tensorflow import keras\n",
        "import tensorflow as tf\n",
        "from sklearn.feature_extraction.text import TfidfVectorizer, CountVectorizer"
      ],
      "execution_count": 2,
      "outputs": []
    },
    {
      "cell_type": "code",
      "metadata": {
        "colab": {
          "base_uri": "https://localhost:8080/"
        },
        "id": "ka4yoSEMIZ27",
        "outputId": "fcf983fd-797a-4cc9-fa26-55de02b94dc9"
      },
      "source": [
        "from google.colab import drive\n",
        "drive.mount('/content/drive')"
      ],
      "execution_count": 3,
      "outputs": [
        {
          "output_type": "stream",
          "text": [
            "Mounted at /content/drive\n"
          ],
          "name": "stdout"
        }
      ]
    },
    {
      "cell_type": "code",
      "metadata": {
        "colab": {
          "base_uri": "https://localhost:8080/",
          "height": 419
        },
        "id": "d0KVjRUBHnw_",
        "outputId": "71aa8205-8811-44b6-8372-b937bffc8f06"
      },
      "source": [
        "# loading data\n",
        "df = pd.read_csv('/content/drive/MyDrive/Quora project/Quora/train.csv')\n",
        "df = df[['question1', 'question2','is_duplicate']]\n",
        "df"
      ],
      "execution_count": 40,
      "outputs": [
        {
          "output_type": "execute_result",
          "data": {
            "text/html": [
              "<div>\n",
              "<style scoped>\n",
              "    .dataframe tbody tr th:only-of-type {\n",
              "        vertical-align: middle;\n",
              "    }\n",
              "\n",
              "    .dataframe tbody tr th {\n",
              "        vertical-align: top;\n",
              "    }\n",
              "\n",
              "    .dataframe thead th {\n",
              "        text-align: right;\n",
              "    }\n",
              "</style>\n",
              "<table border=\"1\" class=\"dataframe\">\n",
              "  <thead>\n",
              "    <tr style=\"text-align: right;\">\n",
              "      <th></th>\n",
              "      <th>question1</th>\n",
              "      <th>question2</th>\n",
              "      <th>is_duplicate</th>\n",
              "    </tr>\n",
              "  </thead>\n",
              "  <tbody>\n",
              "    <tr>\n",
              "      <th>0</th>\n",
              "      <td>What is the step by step guide to invest in sh...</td>\n",
              "      <td>What is the step by step guide to invest in sh...</td>\n",
              "      <td>0</td>\n",
              "    </tr>\n",
              "    <tr>\n",
              "      <th>1</th>\n",
              "      <td>What is the story of Kohinoor (Koh-i-Noor) Dia...</td>\n",
              "      <td>What would happen if the Indian government sto...</td>\n",
              "      <td>0</td>\n",
              "    </tr>\n",
              "    <tr>\n",
              "      <th>2</th>\n",
              "      <td>How can I increase the speed of my internet co...</td>\n",
              "      <td>How can Internet speed be increased by hacking...</td>\n",
              "      <td>0</td>\n",
              "    </tr>\n",
              "    <tr>\n",
              "      <th>3</th>\n",
              "      <td>Why am I mentally very lonely? How can I solve...</td>\n",
              "      <td>Find the remainder when [math]23^{24}[/math] i...</td>\n",
              "      <td>0</td>\n",
              "    </tr>\n",
              "    <tr>\n",
              "      <th>4</th>\n",
              "      <td>Which one dissolve in water quikly sugar, salt...</td>\n",
              "      <td>Which fish would survive in salt water?</td>\n",
              "      <td>0</td>\n",
              "    </tr>\n",
              "    <tr>\n",
              "      <th>...</th>\n",
              "      <td>...</td>\n",
              "      <td>...</td>\n",
              "      <td>...</td>\n",
              "    </tr>\n",
              "    <tr>\n",
              "      <th>404285</th>\n",
              "      <td>How many keywords are there in the Racket prog...</td>\n",
              "      <td>How many keywords are there in PERL Programmin...</td>\n",
              "      <td>0</td>\n",
              "    </tr>\n",
              "    <tr>\n",
              "      <th>404286</th>\n",
              "      <td>Do you believe there is life after death?</td>\n",
              "      <td>Is it true that there is life after death?</td>\n",
              "      <td>1</td>\n",
              "    </tr>\n",
              "    <tr>\n",
              "      <th>404287</th>\n",
              "      <td>What is one coin?</td>\n",
              "      <td>What's this coin?</td>\n",
              "      <td>0</td>\n",
              "    </tr>\n",
              "    <tr>\n",
              "      <th>404288</th>\n",
              "      <td>What is the approx annual cost of living while...</td>\n",
              "      <td>I am having little hairfall problem but I want...</td>\n",
              "      <td>0</td>\n",
              "    </tr>\n",
              "    <tr>\n",
              "      <th>404289</th>\n",
              "      <td>What is like to have sex with cousin?</td>\n",
              "      <td>What is it like to have sex with your cousin?</td>\n",
              "      <td>0</td>\n",
              "    </tr>\n",
              "  </tbody>\n",
              "</table>\n",
              "<p>404290 rows × 3 columns</p>\n",
              "</div>"
            ],
            "text/plain": [
              "                                                question1  ... is_duplicate\n",
              "0       What is the step by step guide to invest in sh...  ...            0\n",
              "1       What is the story of Kohinoor (Koh-i-Noor) Dia...  ...            0\n",
              "2       How can I increase the speed of my internet co...  ...            0\n",
              "3       Why am I mentally very lonely? How can I solve...  ...            0\n",
              "4       Which one dissolve in water quikly sugar, salt...  ...            0\n",
              "...                                                   ...  ...          ...\n",
              "404285  How many keywords are there in the Racket prog...  ...            0\n",
              "404286          Do you believe there is life after death?  ...            1\n",
              "404287                                  What is one coin?  ...            0\n",
              "404288  What is the approx annual cost of living while...  ...            0\n",
              "404289              What is like to have sex with cousin?  ...            0\n",
              "\n",
              "[404290 rows x 3 columns]"
            ]
          },
          "metadata": {
            "tags": []
          },
          "execution_count": 40
        }
      ]
    },
    {
      "cell_type": "code",
      "metadata": {
        "id": "uLd2oaMw_MYJ",
        "colab": {
          "base_uri": "https://localhost:8080/",
          "height": 408
        },
        "outputId": "a051ec13-67ca-41a0-cfad-550663805519"
      },
      "source": [
        "# removing numbers\n",
        "df['question1'] = df['question1'].apply(lambda x : x.lower())\n",
        "df['question2'] = df['question2'].apply(lambda x : x.lower())\n",
        "\n",
        "# making all sentence to lower case\n",
        "df['question1'] = df['question1'].apply(lambda x : x.lower())\n",
        "df['question2'] = df['question2'].apply(lambda x : x.lower())\n",
        "\n",
        "# prepending \"NULL\" in front of each sentence as mention in paper\n",
        "df['question1'] = df['question1'].apply(lambda x : 'NULL '+x)\n",
        "df['question2'] = df['question2'].apply(lambda x : 'NUll '+x)"
      ],
      "execution_count": 41,
      "outputs": [
        {
          "output_type": "error",
          "ename": "AttributeError",
          "evalue": "ignored",
          "traceback": [
            "\u001b[0;31m---------------------------------------------------------------------------\u001b[0m",
            "\u001b[0;31mAttributeError\u001b[0m                            Traceback (most recent call last)",
            "\u001b[0;32m<ipython-input-41-7696e32a5f37>\u001b[0m in \u001b[0;36m<module>\u001b[0;34m()\u001b[0m\n\u001b[1;32m      1\u001b[0m \u001b[0;31m# making all sentence to lower case\u001b[0m\u001b[0;34m\u001b[0m\u001b[0;34m\u001b[0m\u001b[0;34m\u001b[0m\u001b[0m\n\u001b[0;32m----> 2\u001b[0;31m \u001b[0mdf\u001b[0m\u001b[0;34m[\u001b[0m\u001b[0;34m'question1'\u001b[0m\u001b[0;34m]\u001b[0m \u001b[0;34m=\u001b[0m \u001b[0mdf\u001b[0m\u001b[0;34m[\u001b[0m\u001b[0;34m'question1'\u001b[0m\u001b[0;34m]\u001b[0m\u001b[0;34m.\u001b[0m\u001b[0mapply\u001b[0m\u001b[0;34m(\u001b[0m\u001b[0;32mlambda\u001b[0m \u001b[0mx\u001b[0m \u001b[0;34m:\u001b[0m \u001b[0mx\u001b[0m\u001b[0;34m.\u001b[0m\u001b[0mlower\u001b[0m\u001b[0;34m(\u001b[0m\u001b[0;34m)\u001b[0m\u001b[0;34m)\u001b[0m\u001b[0;34m\u001b[0m\u001b[0;34m\u001b[0m\u001b[0m\n\u001b[0m\u001b[1;32m      3\u001b[0m \u001b[0mdf\u001b[0m\u001b[0;34m[\u001b[0m\u001b[0;34m'question2'\u001b[0m\u001b[0;34m]\u001b[0m \u001b[0;34m=\u001b[0m \u001b[0mdf\u001b[0m\u001b[0;34m[\u001b[0m\u001b[0;34m'question2'\u001b[0m\u001b[0;34m]\u001b[0m\u001b[0;34m.\u001b[0m\u001b[0mapply\u001b[0m\u001b[0;34m(\u001b[0m\u001b[0;32mlambda\u001b[0m \u001b[0mx\u001b[0m \u001b[0;34m:\u001b[0m \u001b[0mx\u001b[0m\u001b[0;34m.\u001b[0m\u001b[0mlower\u001b[0m\u001b[0;34m(\u001b[0m\u001b[0;34m)\u001b[0m\u001b[0;34m)\u001b[0m\u001b[0;34m\u001b[0m\u001b[0;34m\u001b[0m\u001b[0m\n\u001b[1;32m      4\u001b[0m \u001b[0;34m\u001b[0m\u001b[0m\n\u001b[1;32m      5\u001b[0m \u001b[0;31m# prepending \"NULL\" in front of each sentence as mention in paper\u001b[0m\u001b[0;34m\u001b[0m\u001b[0;34m\u001b[0m\u001b[0;34m\u001b[0m\u001b[0m\n",
            "\u001b[0;32m/usr/local/lib/python3.7/dist-packages/pandas/core/series.py\u001b[0m in \u001b[0;36mapply\u001b[0;34m(self, func, convert_dtype, args, **kwds)\u001b[0m\n\u001b[1;32m   4211\u001b[0m             \u001b[0;32melse\u001b[0m\u001b[0;34m:\u001b[0m\u001b[0;34m\u001b[0m\u001b[0;34m\u001b[0m\u001b[0m\n\u001b[1;32m   4212\u001b[0m                 \u001b[0mvalues\u001b[0m \u001b[0;34m=\u001b[0m \u001b[0mself\u001b[0m\u001b[0;34m.\u001b[0m\u001b[0mastype\u001b[0m\u001b[0;34m(\u001b[0m\u001b[0mobject\u001b[0m\u001b[0;34m)\u001b[0m\u001b[0;34m.\u001b[0m\u001b[0m_values\u001b[0m\u001b[0;34m\u001b[0m\u001b[0;34m\u001b[0m\u001b[0m\n\u001b[0;32m-> 4213\u001b[0;31m                 \u001b[0mmapped\u001b[0m \u001b[0;34m=\u001b[0m \u001b[0mlib\u001b[0m\u001b[0;34m.\u001b[0m\u001b[0mmap_infer\u001b[0m\u001b[0;34m(\u001b[0m\u001b[0mvalues\u001b[0m\u001b[0;34m,\u001b[0m \u001b[0mf\u001b[0m\u001b[0;34m,\u001b[0m \u001b[0mconvert\u001b[0m\u001b[0;34m=\u001b[0m\u001b[0mconvert_dtype\u001b[0m\u001b[0;34m)\u001b[0m\u001b[0;34m\u001b[0m\u001b[0;34m\u001b[0m\u001b[0m\n\u001b[0m\u001b[1;32m   4214\u001b[0m \u001b[0;34m\u001b[0m\u001b[0m\n\u001b[1;32m   4215\u001b[0m         \u001b[0;32mif\u001b[0m \u001b[0mlen\u001b[0m\u001b[0;34m(\u001b[0m\u001b[0mmapped\u001b[0m\u001b[0;34m)\u001b[0m \u001b[0;32mand\u001b[0m \u001b[0misinstance\u001b[0m\u001b[0;34m(\u001b[0m\u001b[0mmapped\u001b[0m\u001b[0;34m[\u001b[0m\u001b[0;36m0\u001b[0m\u001b[0;34m]\u001b[0m\u001b[0;34m,\u001b[0m \u001b[0mSeries\u001b[0m\u001b[0;34m)\u001b[0m\u001b[0;34m:\u001b[0m\u001b[0;34m\u001b[0m\u001b[0;34m\u001b[0m\u001b[0m\n",
            "\u001b[0;32mpandas/_libs/lib.pyx\u001b[0m in \u001b[0;36mpandas._libs.lib.map_infer\u001b[0;34m()\u001b[0m\n",
            "\u001b[0;32m<ipython-input-41-7696e32a5f37>\u001b[0m in \u001b[0;36m<lambda>\u001b[0;34m(x)\u001b[0m\n\u001b[1;32m      1\u001b[0m \u001b[0;31m# making all sentence to lower case\u001b[0m\u001b[0;34m\u001b[0m\u001b[0;34m\u001b[0m\u001b[0;34m\u001b[0m\u001b[0m\n\u001b[0;32m----> 2\u001b[0;31m \u001b[0mdf\u001b[0m\u001b[0;34m[\u001b[0m\u001b[0;34m'question1'\u001b[0m\u001b[0;34m]\u001b[0m \u001b[0;34m=\u001b[0m \u001b[0mdf\u001b[0m\u001b[0;34m[\u001b[0m\u001b[0;34m'question1'\u001b[0m\u001b[0;34m]\u001b[0m\u001b[0;34m.\u001b[0m\u001b[0mapply\u001b[0m\u001b[0;34m(\u001b[0m\u001b[0;32mlambda\u001b[0m \u001b[0mx\u001b[0m \u001b[0;34m:\u001b[0m \u001b[0mx\u001b[0m\u001b[0;34m.\u001b[0m\u001b[0mlower\u001b[0m\u001b[0;34m(\u001b[0m\u001b[0;34m)\u001b[0m\u001b[0;34m)\u001b[0m\u001b[0;34m\u001b[0m\u001b[0;34m\u001b[0m\u001b[0m\n\u001b[0m\u001b[1;32m      3\u001b[0m \u001b[0mdf\u001b[0m\u001b[0;34m[\u001b[0m\u001b[0;34m'question2'\u001b[0m\u001b[0;34m]\u001b[0m \u001b[0;34m=\u001b[0m \u001b[0mdf\u001b[0m\u001b[0;34m[\u001b[0m\u001b[0;34m'question2'\u001b[0m\u001b[0;34m]\u001b[0m\u001b[0;34m.\u001b[0m\u001b[0mapply\u001b[0m\u001b[0;34m(\u001b[0m\u001b[0;32mlambda\u001b[0m \u001b[0mx\u001b[0m \u001b[0;34m:\u001b[0m \u001b[0mx\u001b[0m\u001b[0;34m.\u001b[0m\u001b[0mlower\u001b[0m\u001b[0;34m(\u001b[0m\u001b[0;34m)\u001b[0m\u001b[0;34m)\u001b[0m\u001b[0;34m\u001b[0m\u001b[0;34m\u001b[0m\u001b[0m\n\u001b[1;32m      4\u001b[0m \u001b[0;34m\u001b[0m\u001b[0m\n\u001b[1;32m      5\u001b[0m \u001b[0;31m# prepending \"NULL\" in front of each sentence as mention in paper\u001b[0m\u001b[0;34m\u001b[0m\u001b[0;34m\u001b[0m\u001b[0;34m\u001b[0m\u001b[0m\n",
            "\u001b[0;31mAttributeError\u001b[0m: 'float' object has no attribute 'lower'"
          ]
        }
      ]
    },
    {
      "cell_type": "code",
      "metadata": {
        "colab": {
          "base_uri": "https://localhost:8080/"
        },
        "id": "6GbKEDqfPU4X",
        "outputId": "7931fac5-cb5a-4ede-c323-d5a4be49e12d"
      },
      "source": [
        "len(df['question1'][1].split())"
      ],
      "execution_count": 7,
      "outputs": [
        {
          "output_type": "execute_result",
          "data": {
            "text/plain": [
              "9"
            ]
          },
          "metadata": {
            "tags": []
          },
          "execution_count": 7
        }
      ]
    },
    {
      "cell_type": "code",
      "metadata": {
        "colab": {
          "base_uri": "https://localhost:8080/"
        },
        "id": "5b5e-4LnqXw2",
        "outputId": "3fdb9759-5deb-4893-91ed-93148e258e83"
      },
      "source": [
        "# installing embedding layer\n",
        "!wget http://nlp.stanford.edu/data/glove.6B.zip\n",
        "!unzip \"/content/glove.6B.zip\" -d \"/content/data\""
      ],
      "execution_count": 6,
      "outputs": [
        {
          "output_type": "stream",
          "text": [
            "--2021-07-08 06:26:17--  http://nlp.stanford.edu/data/glove.6B.zip\n",
            "Resolving nlp.stanford.edu (nlp.stanford.edu)... 171.64.67.140\n",
            "Connecting to nlp.stanford.edu (nlp.stanford.edu)|171.64.67.140|:80... connected.\n",
            "HTTP request sent, awaiting response... 302 Found\n",
            "Location: https://nlp.stanford.edu/data/glove.6B.zip [following]\n",
            "--2021-07-08 06:26:17--  https://nlp.stanford.edu/data/glove.6B.zip\n",
            "Connecting to nlp.stanford.edu (nlp.stanford.edu)|171.64.67.140|:443... connected.\n",
            "HTTP request sent, awaiting response... 301 Moved Permanently\n",
            "Location: http://downloads.cs.stanford.edu/nlp/data/glove.6B.zip [following]\n",
            "--2021-07-08 06:26:18--  http://downloads.cs.stanford.edu/nlp/data/glove.6B.zip\n",
            "Resolving downloads.cs.stanford.edu (downloads.cs.stanford.edu)... 171.64.64.22\n",
            "Connecting to downloads.cs.stanford.edu (downloads.cs.stanford.edu)|171.64.64.22|:80... connected.\n",
            "HTTP request sent, awaiting response... 200 OK\n",
            "Length: 862182613 (822M) [application/zip]\n",
            "Saving to: ‘glove.6B.zip’\n",
            "\n",
            "glove.6B.zip        100%[===================>] 822.24M  5.01MB/s    in 2m 42s  \n",
            "\n",
            "2021-07-08 06:29:00 (5.09 MB/s) - ‘glove.6B.zip’ saved [862182613/862182613]\n",
            "\n",
            "Archive:  /content/glove.6B.zip\n",
            "  inflating: /content/data/glove.6B.50d.txt  \n",
            "  inflating: /content/data/glove.6B.100d.txt  \n",
            "  inflating: /content/data/glove.6B.200d.txt  \n",
            "  inflating: /content/data/glove.6B.300d.txt  \n"
          ],
          "name": "stdout"
        }
      ]
    },
    {
      "cell_type": "code",
      "metadata": {
        "colab": {
          "base_uri": "https://localhost:8080/"
        },
        "id": "VYEwLwX2K4QC",
        "outputId": "080f7a23-0177-4c3a-c5f0-fad05beac0e9"
      },
      "source": [
        "tk = Tokenizer()\n",
        "tk.fit_on_texts(df['question1']+' '+df['question2'])\n",
        "vocab_size = len(tk.word_index)+1\n",
        "\n",
        "max_len = 20\n",
        "q1_train = pad_sequences(tk.texts_to_sequences(df['question1']), maxlen=max_len,padding='post')\n",
        "q2_train = pad_sequences(tk.texts_to_sequences(df['question2']),maxlen= max_len,padding='post')\n",
        "print(q1_train)\n",
        "print(q2_train)\n",
        "print(df['question1'].values)\n",
        "print(df.question2.values)"
      ],
      "execution_count": 7,
      "outputs": [
        {
          "output_type": "stream",
          "text": [
            "[[ 2  3  5  1  4  7  4  8  9 10  6 11 12  6 18  0  0  0  0  0]\n",
            " [ 2  3  5  1 19 20 13 14 15 16 17  0  0  0  0  0  0  0  0  0]]\n",
            "[[ 2  3  5  1  4  7  4  8  9 10  6 11 12  0  0  0  0  0  0  0]\n",
            " [ 2  3 21 22 23  1 24 25 26  1 13 14 15 16 17 27  0  0  0  0]]\n",
            "['NULL what is the step by step guide to invest in share market in india?'\n",
            " 'NULL what is the story of kohinoor (koh-i-noor) diamond?']\n",
            "['NUll what is the step by step guide to invest in share market?'\n",
            " 'NUll what would happen if the indian government stole the kohinoor (koh-i-noor) diamond back?']\n"
          ],
          "name": "stdout"
        }
      ]
    },
    {
      "cell_type": "code",
      "metadata": {
        "colab": {
          "base_uri": "https://localhost:8080/"
        },
        "id": "9evM-Wjvvf7Z",
        "outputId": "1615adcf-cbbc-4518-dd74-1a35bc07ab90"
      },
      "source": [
        "glove_dim = 100\n",
        "\n",
        "embeddings_index = dict()\n",
        "f = open('/content/data/glove.6B.100d.txt')\n",
        "for line in f:\n",
        "    values = line.split()\n",
        "    if values[0] in tk.word_index:# here we get word_index from above fitted tokeniser \n",
        "        embeddings_index[values[0]] = np.asarray(values[1:], dtype='float32')\n",
        "print('lenght of vocab',len(embeddings_index.keys()))\n",
        "\n",
        "\n",
        "# create a weight matrix for words in training docs\n",
        "oov = set()\n",
        "embedding_matrix = np.zeros((vocab_size, glove_dim))\n",
        "for word, i in tk.word_index.items():\n",
        "\tembedding_vector = embeddings_index.get(word)\n",
        "\tif embedding_vector is not None:\n",
        "\t\tembedding_matrix[i] = embedding_vector\n",
        "embedding_matrix.shape"
      ],
      "execution_count": 8,
      "outputs": [
        {
          "output_type": "stream",
          "text": [
            "lenght of vocab 27\n"
          ],
          "name": "stdout"
        },
        {
          "output_type": "execute_result",
          "data": {
            "text/plain": [
              "(28, 100)"
            ]
          },
          "metadata": {
            "tags": []
          },
          "execution_count": 8
        }
      ]
    },
    {
      "cell_type": "code",
      "metadata": {
        "colab": {
          "base_uri": "https://localhost:8080/"
        },
        "id": "THOV6g8CAeVu",
        "outputId": "96920448-c17b-4ebf-91af-cbebbae7481f"
      },
      "source": [
        "embd1(q2_train[0])._keras_mask"
      ],
      "execution_count": 40,
      "outputs": [
        {
          "output_type": "execute_result",
          "data": {
            "text/plain": [
              "<tf.Tensor: shape=(20,), dtype=bool, numpy=\n",
              "array([ True,  True,  True,  True,  True,  True,  True,  True,  True,\n",
              "        True,  True,  True,  True, False, False, False, False, False,\n",
              "       False, False])>"
            ]
          },
          "metadata": {
            "tags": []
          },
          "execution_count": 40
        }
      ]
    },
    {
      "cell_type": "code",
      "metadata": {
        "colab": {
          "base_uri": "https://localhost:8080/"
        },
        "id": "qIFRNHA1Jga2",
        "outputId": "dd3d338b-b495-4433-eec7-ab18bcd5ef98"
      },
      "source": [
        "Dense(50,activation='relu')(embd1(q1_train[0]))._keras_mask"
      ],
      "execution_count": 39,
      "outputs": [
        {
          "output_type": "execute_result",
          "data": {
            "text/plain": [
              "<tf.Tensor: shape=(20,), dtype=bool, numpy=\n",
              "array([ True,  True,  True,  True,  True,  True,  True,  True,  True,\n",
              "        True,  True,  True,  True,  True,  True, False, False, False,\n",
              "       False, False])>"
            ]
          },
          "metadata": {
            "tags": []
          },
          "execution_count": 39
        }
      ]
    },
    {
      "cell_type": "code",
      "metadata": {
        "colab": {
          "base_uri": "https://localhost:8080/"
        },
        "id": "hJZ7_PZ5vHIU",
        "outputId": "5a26af83-b3a6-4699-e05d-142c58fd8df3"
      },
      "source": [
        "a_.shape"
      ],
      "execution_count": null,
      "outputs": [
        {
          "output_type": "execute_result",
          "data": {
            "text/plain": [
              "TensorShape([20, 100])"
            ]
          },
          "metadata": {
            "tags": []
          },
          "execution_count": 30
        }
      ]
    },
    {
      "cell_type": "code",
      "metadata": {
        "id": "-TY5lysRzUmq"
      },
      "source": [
        "embd1 = Embedding(vocab_size,output_dim=100, weights=[embedding_matrix],input_length=max_len, mask_zero = True,trainable=False, name = 'emd1')\n",
        "d1 = Dense(50,activation='relu',name = 'dense')\n",
        "d2 = Dense(50,activation='relu',name = 'B')\n",
        "add = Add()\n",
        "soft1 = tf.keras.layers.Softmax(axis=-1)\n",
        "soft2 = tf.keras.layers.Softmax(axis=-2)\n"
      ],
      "execution_count": 9,
      "outputs": []
    },
    {
      "cell_type": "code",
      "metadata": {
        "id": "CzhkH68PDViT",
        "outputId": "e134f4fb-3f97-4096-f962-f7ea81116a11",
        "colab": {
          "base_uri": "https://localhost:8080/",
          "height": 163
        }
      },
      "source": [
        "q1_train[2].shape"
      ],
      "execution_count": 39,
      "outputs": [
        {
          "output_type": "error",
          "ename": "IndexError",
          "evalue": "ignored",
          "traceback": [
            "\u001b[0;31m---------------------------------------------------------------------------\u001b[0m",
            "\u001b[0;31mIndexError\u001b[0m                                Traceback (most recent call last)",
            "\u001b[0;32m<ipython-input-39-069d3ee59860>\u001b[0m in \u001b[0;36m<module>\u001b[0;34m()\u001b[0m\n\u001b[0;32m----> 1\u001b[0;31m \u001b[0mq1_train\u001b[0m\u001b[0;34m[\u001b[0m\u001b[0;36m2\u001b[0m\u001b[0;34m]\u001b[0m\u001b[0;34m.\u001b[0m\u001b[0mshape\u001b[0m\u001b[0;34m\u001b[0m\u001b[0;34m\u001b[0m\u001b[0m\n\u001b[0m",
            "\u001b[0;31mIndexError\u001b[0m: index 2 is out of bounds for axis 0 with size 2"
          ]
        }
      ]
    },
    {
      "cell_type": "code",
      "metadata": {
        "id": "oYowObBQFQ7t",
        "colab": {
          "base_uri": "https://localhost:8080/"
        },
        "outputId": "c862bc69-f9e2-4d17-b91c-e04a03c1dd9c"
      },
      "source": [
        "## Attend\n",
        "# lets try dot product of two output from \n",
        "\n",
        "a_ = embd1(q1_train[0])\n",
        "b_ = embd1(q2_train[0])\n",
        "f_a = d1(a_)\n",
        "f_b = d1(b_)\n",
        "f_a = f_a[:tf.where(f_a._keras_mask==True)[-1][0]+1]\n",
        "f_b = f_b[:tf.where(f_b._keras_mask==True)[-1][0]+1]\n",
        "\n",
        "\n",
        "e_ij = f_a @ tf.transpose(f_b)\n",
        "\n",
        "sof1 = soft1(e_ij) \n",
        "sof2 = soft2(e_ij)\n",
        "\n",
        "B_i = tf.transpose(sof1) @ tf.boolean_mask(a_, a_._keras_mask)\n",
        "A_j = sof2 @ tf.boolean_mask(b_, b_._keras_mask)\n",
        "\n",
        "v1 = tf.concat([a_,B_i],0)\n",
        "\n",
        "v2 = tf.concat([b_,A_j],0)\n",
        "\n",
        "x1 = d2(v1)\n",
        "x2 = d2(v2)\n",
        "\n",
        "\n",
        "\n",
        "\n",
        "\n",
        "\n",
        "\n",
        "\n",
        "\n",
        "\n",
        "# B_sum = [sum(e_ij[0][i][:]) for i in range(e_ij.shape[1])]\n",
        "# A_sum = [sum(e_ij[0][:][j]) for j in range(0,e_ij.shape[2])]\n",
        "\n",
        "\n",
        "# B_i = tf.convert_to_tensor([sum([(e_ij[0][y][x]/B_sum[y])*embdx2[y] for x in range(0,e_ij.shape[2])])  for y in range(0,len(B_sum))])\n",
        "# A_j = tf.convert_to_tensor([sum([(e_ij[0][x][y]/A_sum[y])*embdx1[y] for x in range(0,e_ij.shape[1])])  for y in range(0,len(A_sum))])"
      ],
      "execution_count": 35,
      "outputs": [
        {
          "output_type": "execute_result",
          "data": {
            "text/plain": [
              "TensorShape([33, 50])"
            ]
          },
          "metadata": {
            "tags": []
          },
          "execution_count": 35
        }
      ]
    },
    {
      "cell_type": "code",
      "metadata": {
        "colab": {
          "base_uri": "https://localhost:8080/"
        },
        "id": "ieg8rc0oEQFs",
        "outputId": "0ed35797-082b-4839-f157-d31b0f8a2cff"
      },
      "source": [
        "a_._keras_mask"
      ],
      "execution_count": 200,
      "outputs": [
        {
          "output_type": "execute_result",
          "data": {
            "text/plain": [
              "<tf.Tensor: shape=(20,), dtype=bool, numpy=\n",
              "array([ True,  True,  True,  True,  True,  True,  True,  True,  True,\n",
              "        True,  True,  True,  True,  True,  True, False, False, False,\n",
              "       False, False])>"
            ]
          },
          "metadata": {
            "tags": []
          },
          "execution_count": 200
        }
      ]
    },
    {
      "cell_type": "code",
      "metadata": {
        "id": "QrQyCwkiqHFG"
      },
      "source": [
        "# @tf.function\n",
        "# def compute_Bi_Aj(x1,x2):\n",
        "#     #explicitly removing masked input\n",
        "\n",
        "#     x1 = tf.convert_to_tensor(x1[:tf.where(x1._keras_mask==True)[-1][0]+1])\n",
        "#     x2 = tf.convert_to_tensor(x2[:tf.where(x2._keras_mask==True)[-1][0]+1])\n",
        "\n",
        "#     # computing weighted matrix e_ij\n",
        "#     # e_ij = x1 @ tf.transpose(x2,perm = [0,2,1])\n",
        "#     # print(e_ij.shape)\n",
        "\n",
        "    #computing B_i and A_j and returning it to next layer compare\n",
        "\n",
        "\n",
        "\n",
        "#     # B_sum = [sum(e_ij[0][i][:]) for i in range(e_ij.shape[1])]\n",
        "#     # A_sum = [sum(e_ij[0][:][j]) for j in range(0,e_ij.shape[2])]\n",
        "\n",
        "\n",
        "#     # B_i = tf.convert_to_tensor([sum([(e_ij[0][y][x]/B_sum[y])*embdx2[y] for x in range(0,e_ij.shape[2])])  for y in range(0,len(B_sum))])\n",
        "#     # A_j = tf.convert_to_tensor([sum([(e_ij[0][x][y]/A_sum[y])*embdx1[y] for x in range(0,e_ij.shape[1])])  for y in range(0,len(A_sum))])\n",
        "\n",
        "\n",
        "    return(x1,x2)"
      ],
      "execution_count": 57,
      "outputs": []
    },
    {
      "cell_type": "code",
      "metadata": {
        "id": "H2cxLD9DVNQU"
      },
      "source": [
        "class atten(tf.keras.layers.Layer):    \n",
        "    def __init__(self,vocab_size,output_dim,max_len, estimator,name=\"attention\"):\n",
        "        super().__init__(name=name)\n",
        "        self.vocab_size = vocab_size\n",
        "        self.output_dim = output_dim\n",
        "        self.max_len = max_len\n",
        "        self.estimator = estimator\n",
        "\n",
        "    \n",
        "    def build(self, input_shape):\n",
        "        self.embd = Embedding(self.vocab_size, self.output_dim, weights=[embedding_matrix],input_length=self.max_len , mask_zero = True,trainable=False, name = 'emd1')\n",
        "        self.f = Dense(self.estimator,activation='relu',name = 'F')\n",
        "        self.softmax_a = Softmax(axis = -2)\n",
        "        self.softmax_b = Softmax(axis = -1)\n",
        "\n",
        "    def call(self, X):\n",
        "        # here X will a list of two elements\n",
        "        \n",
        "        x1,x2 = X[0], X[1] \n",
        "        emb1 = self.embd(x1)\n",
        "        emb2 = self.embd(x2)\n",
        "\n",
        "        x1 = self.f(emb1)\n",
        "        x2 = self.f(emb2)\n",
        "\n",
        "        x1 = x1[:(tf.where(x1._keras_mask==True)[-1][0])+1]\n",
        "        x2 = x2[:(tf.where(x2._keras_mask==True)[-1][0])+1]\n",
        "\n",
        "        e_ij = x1 @ tf.transpose(x2, perm=[0, 2, 1])\n",
        "        sof1 = self.softmax_a(e_ij) \n",
        "        sof2 = self.softmax_b(e_ij)\n",
        "\n",
        "        \n",
        "        B_i = tf.transpose(sof1,perm=[0,2,1]) @ tf.boolean_mask(emb1, emb1._keras_mask)\n",
        "        A_j = sof2 @ tf.boolean_mask(emb2, emb2._keras_mask)\n",
        "\n",
        "        #concate a_ and B_i then b_ and A_j\n",
        "        out1 = tf.concat([B_i,emb1], 1)# 1 becaise 0 have batch size none\n",
        "        out2 = tf.concat([A_j,emb2],1)\n",
        "\n",
        "        print(out1)\n",
        "        \n",
        "\n",
        "        \n",
        "\n",
        "        \n",
        "        return (out1,out2)"
      ],
      "execution_count": 10,
      "outputs": []
    },
    {
      "cell_type": "code",
      "metadata": {
        "id": "C38PbtFTU1dR"
      },
      "source": [
        "@tf.function\n",
        "def summate(x1, x2):\n",
        "    x1 = tf.reduce_sum(x1,1)\n",
        "    x2 = tf.reduce_sum(x2,1)\n",
        "    return (x1,x2)"
      ],
      "execution_count": 11,
      "outputs": []
    },
    {
      "cell_type": "code",
      "metadata": {
        "id": "za1TuVcI_xXo"
      },
      "source": [
        "class compare(tf.keras.layers.Layer):\n",
        "    def __init__(self, name = 'compare'):\n",
        "        super().__init__(name = name)\n",
        "        self.g = Dense(50,activation='relu',name = 'G')\n",
        "    \n",
        "    def call(self, X):\n",
        "        x1,x2 = X[0],X[1]\n",
        "\n",
        "        x1 = self.g(x1)\n",
        "        x2 = self.g(x2)\n",
        "        # print(x2.shape)\n",
        "\n",
        "        x1,x2 = summate(x1,x2)\n",
        "\n",
        "        # self.h(output)\n",
        "\n",
        "        return (x1,x2)\n",
        "\n",
        "    "
      ],
      "execution_count": 12,
      "outputs": []
    },
    {
      "cell_type": "code",
      "metadata": {
        "id": "sVHNJvscacrB"
      },
      "source": [
        "class aggregate(tf.keras.layers.Layer):\n",
        "    def __init__(self, name = 'aggregate'):\n",
        "        super().__init__(name = name)\n",
        "        self.h = Dense(2,activation='sigmoid',name = 'H')\n",
        "    \n",
        "    def call(self, X):\n",
        "        x1,x2 = X[0],X[1]\n",
        "\n",
        "        output = tf.concat([x1,x2],1)\n",
        "        output = self.h(output)\n",
        "\n",
        "\n",
        "        return (output)\n",
        "\n",
        "    "
      ],
      "execution_count": 13,
      "outputs": []
    },
    {
      "cell_type": "code",
      "metadata": {
        "id": "Tq_LkEv9Ssfb"
      },
      "source": [
        "output_dim = 100\n",
        "estimator = 50"
      ],
      "execution_count": 14,
      "outputs": []
    },
    {
      "cell_type": "code",
      "metadata": {
        "id": "sNGX-_TNQxyw"
      },
      "source": [
        "atn = atten(vocab_size,output_dim,max_len,estimator)\n",
        "com = compare()\n",
        "agg = aggregate()"
      ],
      "execution_count": 16,
      "outputs": []
    },
    {
      "cell_type": "code",
      "metadata": {
        "id": "TbuTzE-xGcKv",
        "outputId": "610e928b-6c48-4c87-bcb5-e3668e9bd34a",
        "colab": {
          "base_uri": "https://localhost:8080/"
        }
      },
      "source": [
        "q1_train.shape[1]"
      ],
      "execution_count": 43,
      "outputs": [
        {
          "output_type": "execute_result",
          "data": {
            "text/plain": [
              "20"
            ]
          },
          "metadata": {
            "tags": []
          },
          "execution_count": 43
        }
      ]
    },
    {
      "cell_type": "code",
      "metadata": {
        "colab": {
          "base_uri": "https://localhost:8080/",
          "height": 697
        },
        "id": "nEsLqnzABnC3",
        "outputId": "31b6e6bb-9ecb-4680-ef7e-d79b508cf6af"
      },
      "source": [
        "# creating dummy model to check if we can build graph of above complex graph\n",
        "x1_input = Input(shape = q1_train.shape, name= 'pair_1')\n",
        "x2_input = Input(shape = q2_train.shape,name = 'pair_2')\n",
        "\n",
        "# vi,vj = atn([x1_input,x2_input])\n",
        "# x1,x2 = com([vi,vj])\n",
        "# output = agg([x1,x2])\n",
        "\n",
        "\n",
        "\n",
        "\n",
        "\n",
        "emb1= embd1(x1_input)\n",
        "emb2 = embd1(x2_input)\n",
        "\n",
        "x1 = d1(emb1)\n",
        "x2 = d1(emb2)\n",
        "\n",
        "x1 = x1[:(tf.where(x1._keras_mask==True)[-1][0])+1]\n",
        "x2 = x2[:(tf.where(x2._keras_mask==True)[-1][0])+1]\n",
        "\n",
        "\n",
        "\n",
        "e_ij = x1 @ tf.transpose(x2, perm = [0,2,1])\n",
        "\n",
        "# sof1 = soft1(e_ij) \n",
        "# sof2 = soft2(e_ij)\n",
        "# B_i = tf.transpose(sof1, perm=[0,2,1]) @ tf.boolean_mask(emb1, emb1._keras_mask)\n",
        "# A_j = sof2 @ tf.boolean_mask(emb2, emb2._keras_mask)\n",
        "\n",
        "\n",
        "\n",
        "\n",
        "\n",
        "\n",
        "\n",
        "\n",
        "\n",
        "\n",
        "\n",
        "\n"
      ],
      "execution_count": 37,
      "outputs": [
        {
          "output_type": "error",
          "ename": "ValueError",
          "evalue": "ignored",
          "traceback": [
            "\u001b[0;31m---------------------------------------------------------------------------\u001b[0m",
            "\u001b[0;31mTypeError\u001b[0m                                 Traceback (most recent call last)",
            "\u001b[0;32m/usr/local/lib/python3.7/dist-packages/tensorflow/python/util/dispatch.py\u001b[0m in \u001b[0;36mwrapper\u001b[0;34m(*args, **kwargs)\u001b[0m\n\u001b[1;32m    205\u001b[0m     \u001b[0;32mtry\u001b[0m\u001b[0;34m:\u001b[0m\u001b[0;34m\u001b[0m\u001b[0;34m\u001b[0m\u001b[0m\n\u001b[0;32m--> 206\u001b[0;31m       \u001b[0;32mreturn\u001b[0m \u001b[0mtarget\u001b[0m\u001b[0;34m(\u001b[0m\u001b[0;34m*\u001b[0m\u001b[0margs\u001b[0m\u001b[0;34m,\u001b[0m \u001b[0;34m**\u001b[0m\u001b[0mkwargs\u001b[0m\u001b[0;34m)\u001b[0m\u001b[0;34m\u001b[0m\u001b[0;34m\u001b[0m\u001b[0m\n\u001b[0m\u001b[1;32m    207\u001b[0m     \u001b[0;32mexcept\u001b[0m \u001b[0;34m(\u001b[0m\u001b[0mTypeError\u001b[0m\u001b[0;34m,\u001b[0m \u001b[0mValueError\u001b[0m\u001b[0;34m)\u001b[0m\u001b[0;34m:\u001b[0m\u001b[0;34m\u001b[0m\u001b[0;34m\u001b[0m\u001b[0m\n",
            "\u001b[0;32m/usr/local/lib/python3.7/dist-packages/tensorflow/python/ops/array_ops.py\u001b[0m in \u001b[0;36mtranspose\u001b[0;34m(a, perm, name, conjugate)\u001b[0m\n\u001b[1;32m   2307\u001b[0m     \u001b[0;32mif\u001b[0m \u001b[0mperm\u001b[0m \u001b[0;32mis\u001b[0m \u001b[0;32mnot\u001b[0m \u001b[0;32mNone\u001b[0m\u001b[0;34m:\u001b[0m\u001b[0;34m\u001b[0m\u001b[0;34m\u001b[0m\u001b[0m\n\u001b[0;32m-> 2308\u001b[0;31m       \u001b[0;32mreturn\u001b[0m \u001b[0mtranspose_fn\u001b[0m\u001b[0;34m(\u001b[0m\u001b[0ma\u001b[0m\u001b[0;34m,\u001b[0m \u001b[0mperm\u001b[0m\u001b[0;34m,\u001b[0m \u001b[0mname\u001b[0m\u001b[0;34m=\u001b[0m\u001b[0mname\u001b[0m\u001b[0;34m)\u001b[0m\u001b[0;34m\u001b[0m\u001b[0;34m\u001b[0m\u001b[0m\n\u001b[0m\u001b[1;32m   2309\u001b[0m \u001b[0;34m\u001b[0m\u001b[0m\n",
            "\u001b[0;32m/usr/local/lib/python3.7/dist-packages/tensorflow/python/ops/gen_array_ops.py\u001b[0m in \u001b[0;36mtranspose\u001b[0;34m(x, perm, name)\u001b[0m\n\u001b[1;32m  11647\u001b[0m       return transpose_eager_fallback(\n\u001b[0;32m> 11648\u001b[0;31m           x, perm, name=name, ctx=_ctx)\n\u001b[0m\u001b[1;32m  11649\u001b[0m     \u001b[0;32mexcept\u001b[0m \u001b[0m_core\u001b[0m\u001b[0;34m.\u001b[0m\u001b[0m_SymbolicException\u001b[0m\u001b[0;34m:\u001b[0m\u001b[0;34m\u001b[0m\u001b[0;34m\u001b[0m\u001b[0m\n",
            "\u001b[0;32m/usr/local/lib/python3.7/dist-packages/tensorflow/python/ops/gen_array_ops.py\u001b[0m in \u001b[0;36mtranspose_eager_fallback\u001b[0;34m(x, perm, name, ctx)\u001b[0m\n\u001b[1;32m  11667\u001b[0m \u001b[0;32mdef\u001b[0m \u001b[0mtranspose_eager_fallback\u001b[0m\u001b[0;34m(\u001b[0m\u001b[0mx\u001b[0m\u001b[0;34m,\u001b[0m \u001b[0mperm\u001b[0m\u001b[0;34m,\u001b[0m \u001b[0mname\u001b[0m\u001b[0;34m,\u001b[0m \u001b[0mctx\u001b[0m\u001b[0;34m)\u001b[0m\u001b[0;34m:\u001b[0m\u001b[0;34m\u001b[0m\u001b[0;34m\u001b[0m\u001b[0m\n\u001b[0;32m> 11668\u001b[0;31m   \u001b[0m_attr_T\u001b[0m\u001b[0;34m,\u001b[0m \u001b[0;34m(\u001b[0m\u001b[0mx\u001b[0m\u001b[0;34m,\u001b[0m\u001b[0;34m)\u001b[0m \u001b[0;34m=\u001b[0m \u001b[0m_execute\u001b[0m\u001b[0;34m.\u001b[0m\u001b[0margs_to_matching_eager\u001b[0m\u001b[0;34m(\u001b[0m\u001b[0;34m[\u001b[0m\u001b[0mx\u001b[0m\u001b[0;34m]\u001b[0m\u001b[0;34m,\u001b[0m \u001b[0mctx\u001b[0m\u001b[0;34m,\u001b[0m \u001b[0;34m[\u001b[0m\u001b[0;34m]\u001b[0m\u001b[0;34m)\u001b[0m\u001b[0;34m\u001b[0m\u001b[0;34m\u001b[0m\u001b[0m\n\u001b[0m\u001b[1;32m  11669\u001b[0m   \u001b[0m_attr_Tperm\u001b[0m\u001b[0;34m,\u001b[0m \u001b[0;34m(\u001b[0m\u001b[0mperm\u001b[0m\u001b[0;34m,\u001b[0m\u001b[0;34m)\u001b[0m \u001b[0;34m=\u001b[0m \u001b[0m_execute\u001b[0m\u001b[0;34m.\u001b[0m\u001b[0margs_to_matching_eager\u001b[0m\u001b[0;34m(\u001b[0m\u001b[0;34m[\u001b[0m\u001b[0mperm\u001b[0m\u001b[0;34m]\u001b[0m\u001b[0;34m,\u001b[0m \u001b[0mctx\u001b[0m\u001b[0;34m,\u001b[0m \u001b[0;34m[\u001b[0m\u001b[0m_dtypes\u001b[0m\u001b[0;34m.\u001b[0m\u001b[0mint32\u001b[0m\u001b[0;34m,\u001b[0m \u001b[0m_dtypes\u001b[0m\u001b[0;34m.\u001b[0m\u001b[0mint64\u001b[0m\u001b[0;34m,\u001b[0m \u001b[0;34m]\u001b[0m\u001b[0;34m,\u001b[0m \u001b[0m_dtypes\u001b[0m\u001b[0;34m.\u001b[0m\u001b[0mint32\u001b[0m\u001b[0;34m)\u001b[0m\u001b[0;34m\u001b[0m\u001b[0;34m\u001b[0m\u001b[0m\n",
            "\u001b[0;32m/usr/local/lib/python3.7/dist-packages/tensorflow/python/eager/execute.py\u001b[0m in \u001b[0;36margs_to_matching_eager\u001b[0;34m(l, ctx, allowed_dtypes, default_dtype)\u001b[0m\n\u001b[1;32m    273\u001b[0m         tensor = ops.convert_to_tensor(\n\u001b[0;32m--> 274\u001b[0;31m             t, dtype, preferred_dtype=default_dtype, ctx=ctx)\n\u001b[0m\u001b[1;32m    275\u001b[0m \u001b[0;34m\u001b[0m\u001b[0m\n",
            "\u001b[0;32m/usr/local/lib/python3.7/dist-packages/tensorflow/python/profiler/trace.py\u001b[0m in \u001b[0;36mwrapped\u001b[0;34m(*args, **kwargs)\u001b[0m\n\u001b[1;32m    162\u001b[0m           \u001b[0;32mreturn\u001b[0m \u001b[0mfunc\u001b[0m\u001b[0;34m(\u001b[0m\u001b[0;34m*\u001b[0m\u001b[0margs\u001b[0m\u001b[0;34m,\u001b[0m \u001b[0;34m**\u001b[0m\u001b[0mkwargs\u001b[0m\u001b[0;34m)\u001b[0m\u001b[0;34m\u001b[0m\u001b[0;34m\u001b[0m\u001b[0m\n\u001b[0;32m--> 163\u001b[0;31m       \u001b[0;32mreturn\u001b[0m \u001b[0mfunc\u001b[0m\u001b[0;34m(\u001b[0m\u001b[0;34m*\u001b[0m\u001b[0margs\u001b[0m\u001b[0;34m,\u001b[0m \u001b[0;34m**\u001b[0m\u001b[0mkwargs\u001b[0m\u001b[0;34m)\u001b[0m\u001b[0;34m\u001b[0m\u001b[0;34m\u001b[0m\u001b[0m\n\u001b[0m\u001b[1;32m    164\u001b[0m \u001b[0;34m\u001b[0m\u001b[0m\n",
            "\u001b[0;32m/usr/local/lib/python3.7/dist-packages/tensorflow/python/framework/ops.py\u001b[0m in \u001b[0;36mconvert_to_tensor\u001b[0;34m(value, dtype, name, as_ref, preferred_dtype, dtype_hint, ctx, accepted_result_types)\u001b[0m\n\u001b[1;32m   1565\u001b[0m     \u001b[0;32mif\u001b[0m \u001b[0mret\u001b[0m \u001b[0;32mis\u001b[0m \u001b[0;32mNone\u001b[0m\u001b[0;34m:\u001b[0m\u001b[0;34m\u001b[0m\u001b[0;34m\u001b[0m\u001b[0m\n\u001b[0;32m-> 1566\u001b[0;31m       \u001b[0mret\u001b[0m \u001b[0;34m=\u001b[0m \u001b[0mconversion_func\u001b[0m\u001b[0;34m(\u001b[0m\u001b[0mvalue\u001b[0m\u001b[0;34m,\u001b[0m \u001b[0mdtype\u001b[0m\u001b[0;34m=\u001b[0m\u001b[0mdtype\u001b[0m\u001b[0;34m,\u001b[0m \u001b[0mname\u001b[0m\u001b[0;34m=\u001b[0m\u001b[0mname\u001b[0m\u001b[0;34m,\u001b[0m \u001b[0mas_ref\u001b[0m\u001b[0;34m=\u001b[0m\u001b[0mas_ref\u001b[0m\u001b[0;34m)\u001b[0m\u001b[0;34m\u001b[0m\u001b[0;34m\u001b[0m\u001b[0m\n\u001b[0m\u001b[1;32m   1567\u001b[0m \u001b[0;34m\u001b[0m\u001b[0m\n",
            "\u001b[0;32m/usr/local/lib/python3.7/dist-packages/tensorflow/python/framework/constant_op.py\u001b[0m in \u001b[0;36m_constant_tensor_conversion_function\u001b[0;34m(v, dtype, name, as_ref)\u001b[0m\n\u001b[1;32m    338\u001b[0m   \u001b[0m_\u001b[0m \u001b[0;34m=\u001b[0m \u001b[0mas_ref\u001b[0m\u001b[0;34m\u001b[0m\u001b[0;34m\u001b[0m\u001b[0m\n\u001b[0;32m--> 339\u001b[0;31m   \u001b[0;32mreturn\u001b[0m \u001b[0mconstant\u001b[0m\u001b[0;34m(\u001b[0m\u001b[0mv\u001b[0m\u001b[0;34m,\u001b[0m \u001b[0mdtype\u001b[0m\u001b[0;34m=\u001b[0m\u001b[0mdtype\u001b[0m\u001b[0;34m,\u001b[0m \u001b[0mname\u001b[0m\u001b[0;34m=\u001b[0m\u001b[0mname\u001b[0m\u001b[0;34m)\u001b[0m\u001b[0;34m\u001b[0m\u001b[0;34m\u001b[0m\u001b[0m\n\u001b[0m\u001b[1;32m    340\u001b[0m \u001b[0;34m\u001b[0m\u001b[0m\n",
            "\u001b[0;32m/usr/local/lib/python3.7/dist-packages/tensorflow/python/framework/constant_op.py\u001b[0m in \u001b[0;36mconstant\u001b[0;34m(value, dtype, shape, name)\u001b[0m\n\u001b[1;32m    264\u001b[0m   return _constant_impl(value, dtype, shape, name, verify_shape=False,\n\u001b[0;32m--> 265\u001b[0;31m                         allow_broadcast=True)\n\u001b[0m\u001b[1;32m    266\u001b[0m \u001b[0;34m\u001b[0m\u001b[0m\n",
            "\u001b[0;32m/usr/local/lib/python3.7/dist-packages/tensorflow/python/framework/constant_op.py\u001b[0m in \u001b[0;36m_constant_impl\u001b[0;34m(value, dtype, shape, name, verify_shape, allow_broadcast)\u001b[0m\n\u001b[1;32m    275\u001b[0m         \u001b[0;32mreturn\u001b[0m \u001b[0m_constant_eager_impl\u001b[0m\u001b[0;34m(\u001b[0m\u001b[0mctx\u001b[0m\u001b[0;34m,\u001b[0m \u001b[0mvalue\u001b[0m\u001b[0;34m,\u001b[0m \u001b[0mdtype\u001b[0m\u001b[0;34m,\u001b[0m \u001b[0mshape\u001b[0m\u001b[0;34m,\u001b[0m \u001b[0mverify_shape\u001b[0m\u001b[0;34m)\u001b[0m\u001b[0;34m\u001b[0m\u001b[0;34m\u001b[0m\u001b[0m\n\u001b[0;32m--> 276\u001b[0;31m     \u001b[0;32mreturn\u001b[0m \u001b[0m_constant_eager_impl\u001b[0m\u001b[0;34m(\u001b[0m\u001b[0mctx\u001b[0m\u001b[0;34m,\u001b[0m \u001b[0mvalue\u001b[0m\u001b[0;34m,\u001b[0m \u001b[0mdtype\u001b[0m\u001b[0;34m,\u001b[0m \u001b[0mshape\u001b[0m\u001b[0;34m,\u001b[0m \u001b[0mverify_shape\u001b[0m\u001b[0;34m)\u001b[0m\u001b[0;34m\u001b[0m\u001b[0;34m\u001b[0m\u001b[0m\n\u001b[0m\u001b[1;32m    277\u001b[0m \u001b[0;34m\u001b[0m\u001b[0m\n",
            "\u001b[0;32m/usr/local/lib/python3.7/dist-packages/tensorflow/python/framework/constant_op.py\u001b[0m in \u001b[0;36m_constant_eager_impl\u001b[0;34m(ctx, value, dtype, shape, verify_shape)\u001b[0m\n\u001b[1;32m    300\u001b[0m   \u001b[0;34m\"\"\"Implementation of eager constant.\"\"\"\u001b[0m\u001b[0;34m\u001b[0m\u001b[0;34m\u001b[0m\u001b[0m\n\u001b[0;32m--> 301\u001b[0;31m   \u001b[0mt\u001b[0m \u001b[0;34m=\u001b[0m \u001b[0mconvert_to_eager_tensor\u001b[0m\u001b[0;34m(\u001b[0m\u001b[0mvalue\u001b[0m\u001b[0;34m,\u001b[0m \u001b[0mctx\u001b[0m\u001b[0;34m,\u001b[0m \u001b[0mdtype\u001b[0m\u001b[0;34m)\u001b[0m\u001b[0;34m\u001b[0m\u001b[0;34m\u001b[0m\u001b[0m\n\u001b[0m\u001b[1;32m    302\u001b[0m   \u001b[0;32mif\u001b[0m \u001b[0mshape\u001b[0m \u001b[0;32mis\u001b[0m \u001b[0;32mNone\u001b[0m\u001b[0;34m:\u001b[0m\u001b[0;34m\u001b[0m\u001b[0;34m\u001b[0m\u001b[0m\n",
            "\u001b[0;32m/usr/local/lib/python3.7/dist-packages/tensorflow/python/framework/constant_op.py\u001b[0m in \u001b[0;36mconvert_to_eager_tensor\u001b[0;34m(value, ctx, dtype)\u001b[0m\n\u001b[1;32m     97\u001b[0m   \u001b[0mctx\u001b[0m\u001b[0;34m.\u001b[0m\u001b[0mensure_initialized\u001b[0m\u001b[0;34m(\u001b[0m\u001b[0;34m)\u001b[0m\u001b[0;34m\u001b[0m\u001b[0;34m\u001b[0m\u001b[0m\n\u001b[0;32m---> 98\u001b[0;31m   \u001b[0;32mreturn\u001b[0m \u001b[0mops\u001b[0m\u001b[0;34m.\u001b[0m\u001b[0mEagerTensor\u001b[0m\u001b[0;34m(\u001b[0m\u001b[0mvalue\u001b[0m\u001b[0;34m,\u001b[0m \u001b[0mctx\u001b[0m\u001b[0;34m.\u001b[0m\u001b[0mdevice_name\u001b[0m\u001b[0;34m,\u001b[0m \u001b[0mdtype\u001b[0m\u001b[0;34m)\u001b[0m\u001b[0;34m\u001b[0m\u001b[0;34m\u001b[0m\u001b[0m\n\u001b[0m\u001b[1;32m     99\u001b[0m \u001b[0;34m\u001b[0m\u001b[0m\n",
            "\u001b[0;32m/usr/local/lib/python3.7/dist-packages/tensorflow/python/keras/engine/keras_tensor.py\u001b[0m in \u001b[0;36m__array__\u001b[0;34m(self)\u001b[0m\n\u001b[1;32m    254\u001b[0m     raise TypeError(\n\u001b[0;32m--> 255\u001b[0;31m         \u001b[0;34m'Cannot convert a symbolic Keras input/output to a numpy array. '\u001b[0m\u001b[0;34m\u001b[0m\u001b[0;34m\u001b[0m\u001b[0m\n\u001b[0m\u001b[1;32m    256\u001b[0m         \u001b[0;34m'This error may indicate that you\\'re trying to pass a symbolic value '\u001b[0m\u001b[0;34m\u001b[0m\u001b[0;34m\u001b[0m\u001b[0m\n",
            "\u001b[0;31mTypeError\u001b[0m: Cannot convert a symbolic Keras input/output to a numpy array. This error may indicate that you're trying to pass a symbolic value to a NumPy call, which is not supported. Or, you may be trying to pass Keras symbolic inputs/outputs to a TF API that does not register dispatching, preventing Keras from automatically converting the API call to a lambda layer in the Functional Model.",
            "\nDuring handling of the above exception, another exception occurred:\n",
            "\u001b[0;31mInvalidArgumentError\u001b[0m                      Traceback (most recent call last)",
            "\u001b[0;32m/usr/local/lib/python3.7/dist-packages/tensorflow/python/framework/ops.py\u001b[0m in \u001b[0;36m_create_c_op\u001b[0;34m(graph, node_def, inputs, control_inputs, op_def)\u001b[0m\n\u001b[1;32m   1879\u001b[0m   \u001b[0;32mtry\u001b[0m\u001b[0;34m:\u001b[0m\u001b[0;34m\u001b[0m\u001b[0;34m\u001b[0m\u001b[0m\n\u001b[0;32m-> 1880\u001b[0;31m     \u001b[0mc_op\u001b[0m \u001b[0;34m=\u001b[0m \u001b[0mpywrap_tf_session\u001b[0m\u001b[0;34m.\u001b[0m\u001b[0mTF_FinishOperation\u001b[0m\u001b[0;34m(\u001b[0m\u001b[0mop_desc\u001b[0m\u001b[0;34m)\u001b[0m\u001b[0;34m\u001b[0m\u001b[0;34m\u001b[0m\u001b[0m\n\u001b[0m\u001b[1;32m   1881\u001b[0m   \u001b[0;32mexcept\u001b[0m \u001b[0merrors\u001b[0m\u001b[0;34m.\u001b[0m\u001b[0mInvalidArgumentError\u001b[0m \u001b[0;32mas\u001b[0m \u001b[0me\u001b[0m\u001b[0;34m:\u001b[0m\u001b[0;34m\u001b[0m\u001b[0;34m\u001b[0m\u001b[0m\n",
            "\u001b[0;31mInvalidArgumentError\u001b[0m: Dimension must be 4 but is 3 for '{{node tf.compat.v1.transpose/transpose}} = Transpose[T=DT_FLOAT, Tperm=DT_INT32](Placeholder, tf.compat.v1.transpose/transpose/perm)' with input shapes: [?,2,20,50], [3].",
            "\nDuring handling of the above exception, another exception occurred:\n",
            "\u001b[0;31mValueError\u001b[0m                                Traceback (most recent call last)",
            "\u001b[0;32m/usr/local/lib/python3.7/dist-packages/tensorflow/python/util/dispatch.py\u001b[0m in \u001b[0;36mwrapper\u001b[0;34m(*args, **kwargs)\u001b[0m\n\u001b[1;32m    205\u001b[0m     \u001b[0;32mtry\u001b[0m\u001b[0;34m:\u001b[0m\u001b[0;34m\u001b[0m\u001b[0;34m\u001b[0m\u001b[0m\n\u001b[0;32m--> 206\u001b[0;31m       \u001b[0;32mreturn\u001b[0m \u001b[0mtarget\u001b[0m\u001b[0;34m(\u001b[0m\u001b[0;34m*\u001b[0m\u001b[0margs\u001b[0m\u001b[0;34m,\u001b[0m \u001b[0;34m**\u001b[0m\u001b[0mkwargs\u001b[0m\u001b[0;34m)\u001b[0m\u001b[0;34m\u001b[0m\u001b[0;34m\u001b[0m\u001b[0m\n\u001b[0m\u001b[1;32m    207\u001b[0m     \u001b[0;32mexcept\u001b[0m \u001b[0;34m(\u001b[0m\u001b[0mTypeError\u001b[0m\u001b[0;34m,\u001b[0m \u001b[0mValueError\u001b[0m\u001b[0;34m)\u001b[0m\u001b[0;34m:\u001b[0m\u001b[0;34m\u001b[0m\u001b[0;34m\u001b[0m\u001b[0m\n",
            "\u001b[0;32m/usr/local/lib/python3.7/dist-packages/tensorflow/python/ops/array_ops.py\u001b[0m in \u001b[0;36mtranspose_v2\u001b[0;34m(a, perm, conjugate, name)\u001b[0m\n\u001b[1;32m   2226\u001b[0m   \"\"\"\n\u001b[0;32m-> 2227\u001b[0;31m   \u001b[0;32mreturn\u001b[0m \u001b[0mtranspose\u001b[0m\u001b[0;34m(\u001b[0m\u001b[0ma\u001b[0m\u001b[0;34m=\u001b[0m\u001b[0ma\u001b[0m\u001b[0;34m,\u001b[0m \u001b[0mperm\u001b[0m\u001b[0;34m=\u001b[0m\u001b[0mperm\u001b[0m\u001b[0;34m,\u001b[0m \u001b[0mname\u001b[0m\u001b[0;34m=\u001b[0m\u001b[0mname\u001b[0m\u001b[0;34m,\u001b[0m \u001b[0mconjugate\u001b[0m\u001b[0;34m=\u001b[0m\u001b[0mconjugate\u001b[0m\u001b[0;34m)\u001b[0m\u001b[0;34m\u001b[0m\u001b[0;34m\u001b[0m\u001b[0m\n\u001b[0m\u001b[1;32m   2228\u001b[0m \u001b[0;34m\u001b[0m\u001b[0m\n",
            "\u001b[0;32m/usr/local/lib/python3.7/dist-packages/tensorflow/python/util/dispatch.py\u001b[0m in \u001b[0;36mwrapper\u001b[0;34m(*args, **kwargs)\u001b[0m\n\u001b[1;32m    209\u001b[0m       \u001b[0;31m# TypeError, when given unexpected types.  So we need to catch both.\u001b[0m\u001b[0;34m\u001b[0m\u001b[0;34m\u001b[0m\u001b[0;34m\u001b[0m\u001b[0m\n\u001b[0;32m--> 210\u001b[0;31m       \u001b[0mresult\u001b[0m \u001b[0;34m=\u001b[0m \u001b[0mdispatch\u001b[0m\u001b[0;34m(\u001b[0m\u001b[0mwrapper\u001b[0m\u001b[0;34m,\u001b[0m \u001b[0margs\u001b[0m\u001b[0;34m,\u001b[0m \u001b[0mkwargs\u001b[0m\u001b[0;34m)\u001b[0m\u001b[0;34m\u001b[0m\u001b[0;34m\u001b[0m\u001b[0m\n\u001b[0m\u001b[1;32m    211\u001b[0m       \u001b[0;32mif\u001b[0m \u001b[0mresult\u001b[0m \u001b[0;32mis\u001b[0m \u001b[0;32mnot\u001b[0m \u001b[0mOpDispatcher\u001b[0m\u001b[0;34m.\u001b[0m\u001b[0mNOT_SUPPORTED\u001b[0m\u001b[0;34m:\u001b[0m\u001b[0;34m\u001b[0m\u001b[0;34m\u001b[0m\u001b[0m\n",
            "\u001b[0;32m/usr/local/lib/python3.7/dist-packages/tensorflow/python/util/dispatch.py\u001b[0m in \u001b[0;36mdispatch\u001b[0;34m(op, args, kwargs)\u001b[0m\n\u001b[1;32m    125\u001b[0m   \u001b[0;32mfor\u001b[0m \u001b[0mdispatcher\u001b[0m \u001b[0;32min\u001b[0m \u001b[0m_GLOBAL_DISPATCHERS\u001b[0m\u001b[0;34m:\u001b[0m\u001b[0;34m\u001b[0m\u001b[0;34m\u001b[0m\u001b[0m\n\u001b[0;32m--> 126\u001b[0;31m     \u001b[0mresult\u001b[0m \u001b[0;34m=\u001b[0m \u001b[0mdispatcher\u001b[0m\u001b[0;34m.\u001b[0m\u001b[0mhandle\u001b[0m\u001b[0;34m(\u001b[0m\u001b[0mop\u001b[0m\u001b[0;34m,\u001b[0m \u001b[0margs\u001b[0m\u001b[0;34m,\u001b[0m \u001b[0mkwargs\u001b[0m\u001b[0;34m)\u001b[0m\u001b[0;34m\u001b[0m\u001b[0;34m\u001b[0m\u001b[0m\n\u001b[0m\u001b[1;32m    127\u001b[0m     \u001b[0;32mif\u001b[0m \u001b[0mresult\u001b[0m \u001b[0;32mis\u001b[0m \u001b[0;32mnot\u001b[0m \u001b[0mOpDispatcher\u001b[0m\u001b[0;34m.\u001b[0m\u001b[0mNOT_SUPPORTED\u001b[0m\u001b[0;34m:\u001b[0m\u001b[0;34m\u001b[0m\u001b[0;34m\u001b[0m\u001b[0m\n",
            "\u001b[0;32m/usr/local/lib/python3.7/dist-packages/tensorflow/python/keras/layers/core.py\u001b[0m in \u001b[0;36mhandle\u001b[0;34m(self, op, args, kwargs)\u001b[0m\n\u001b[1;32m   1485\u001b[0m         for x in nest.flatten([args, kwargs])):\n\u001b[0;32m-> 1486\u001b[0;31m       \u001b[0;32mreturn\u001b[0m \u001b[0mTFOpLambda\u001b[0m\u001b[0;34m(\u001b[0m\u001b[0mop\u001b[0m\u001b[0;34m)\u001b[0m\u001b[0;34m(\u001b[0m\u001b[0;34m*\u001b[0m\u001b[0margs\u001b[0m\u001b[0;34m,\u001b[0m \u001b[0;34m**\u001b[0m\u001b[0mkwargs\u001b[0m\u001b[0;34m)\u001b[0m\u001b[0;34m\u001b[0m\u001b[0;34m\u001b[0m\u001b[0m\n\u001b[0m\u001b[1;32m   1487\u001b[0m     \u001b[0;32melse\u001b[0m\u001b[0;34m:\u001b[0m\u001b[0;34m\u001b[0m\u001b[0;34m\u001b[0m\u001b[0m\n",
            "\u001b[0;32m/usr/local/lib/python3.7/dist-packages/tensorflow/python/keras/engine/base_layer.py\u001b[0m in \u001b[0;36m__call__\u001b[0;34m(self, *args, **kwargs)\u001b[0m\n\u001b[1;32m    969\u001b[0m       return self._functional_construction_call(inputs, args, kwargs,\n\u001b[0;32m--> 970\u001b[0;31m                                                 input_list)\n\u001b[0m\u001b[1;32m    971\u001b[0m \u001b[0;34m\u001b[0m\u001b[0m\n",
            "\u001b[0;32m/usr/local/lib/python3.7/dist-packages/tensorflow/python/keras/engine/base_layer.py\u001b[0m in \u001b[0;36m_functional_construction_call\u001b[0;34m(self, inputs, args, kwargs, input_list)\u001b[0m\n\u001b[1;32m   1107\u001b[0m       outputs = self._keras_tensor_symbolic_call(\n\u001b[0;32m-> 1108\u001b[0;31m           inputs, input_masks, args, kwargs)\n\u001b[0m\u001b[1;32m   1109\u001b[0m \u001b[0;34m\u001b[0m\u001b[0m\n",
            "\u001b[0;32m/usr/local/lib/python3.7/dist-packages/tensorflow/python/keras/engine/base_layer.py\u001b[0m in \u001b[0;36m_keras_tensor_symbolic_call\u001b[0;34m(self, inputs, input_masks, args, kwargs)\u001b[0m\n\u001b[1;32m    839\u001b[0m     \u001b[0;32melse\u001b[0m\u001b[0;34m:\u001b[0m\u001b[0;34m\u001b[0m\u001b[0;34m\u001b[0m\u001b[0m\n\u001b[0;32m--> 840\u001b[0;31m       \u001b[0;32mreturn\u001b[0m \u001b[0mself\u001b[0m\u001b[0;34m.\u001b[0m\u001b[0m_infer_output_signature\u001b[0m\u001b[0;34m(\u001b[0m\u001b[0minputs\u001b[0m\u001b[0;34m,\u001b[0m \u001b[0margs\u001b[0m\u001b[0;34m,\u001b[0m \u001b[0mkwargs\u001b[0m\u001b[0;34m,\u001b[0m \u001b[0minput_masks\u001b[0m\u001b[0;34m)\u001b[0m\u001b[0;34m\u001b[0m\u001b[0;34m\u001b[0m\u001b[0m\n\u001b[0m\u001b[1;32m    841\u001b[0m \u001b[0;34m\u001b[0m\u001b[0m\n",
            "\u001b[0;32m/usr/local/lib/python3.7/dist-packages/tensorflow/python/keras/engine/base_layer.py\u001b[0m in \u001b[0;36m_infer_output_signature\u001b[0;34m(self, inputs, args, kwargs, input_masks)\u001b[0m\n\u001b[1;32m    879\u001b[0m           \u001b[0minputs\u001b[0m \u001b[0;34m=\u001b[0m \u001b[0mself\u001b[0m\u001b[0;34m.\u001b[0m\u001b[0m_maybe_cast_inputs\u001b[0m\u001b[0;34m(\u001b[0m\u001b[0minputs\u001b[0m\u001b[0;34m)\u001b[0m\u001b[0;34m\u001b[0m\u001b[0;34m\u001b[0m\u001b[0m\n\u001b[0;32m--> 880\u001b[0;31m           \u001b[0moutputs\u001b[0m \u001b[0;34m=\u001b[0m \u001b[0mcall_fn\u001b[0m\u001b[0;34m(\u001b[0m\u001b[0minputs\u001b[0m\u001b[0;34m,\u001b[0m \u001b[0;34m*\u001b[0m\u001b[0margs\u001b[0m\u001b[0;34m,\u001b[0m \u001b[0;34m**\u001b[0m\u001b[0mkwargs\u001b[0m\u001b[0;34m)\u001b[0m\u001b[0;34m\u001b[0m\u001b[0;34m\u001b[0m\u001b[0m\n\u001b[0m\u001b[1;32m    881\u001b[0m \u001b[0;34m\u001b[0m\u001b[0m\n",
            "\u001b[0;32m/usr/local/lib/python3.7/dist-packages/tensorflow/python/keras/layers/core.py\u001b[0m in \u001b[0;36m_call_wrapper\u001b[0;34m(*args, **kwargs)\u001b[0m\n\u001b[1;32m   1362\u001b[0m     \u001b[0;32mdef\u001b[0m \u001b[0m_call_wrapper\u001b[0m\u001b[0;34m(\u001b[0m\u001b[0;34m*\u001b[0m\u001b[0margs\u001b[0m\u001b[0;34m,\u001b[0m \u001b[0;34m**\u001b[0m\u001b[0mkwargs\u001b[0m\u001b[0;34m)\u001b[0m\u001b[0;34m:\u001b[0m\u001b[0;34m\u001b[0m\u001b[0;34m\u001b[0m\u001b[0m\n\u001b[0;32m-> 1363\u001b[0;31m       \u001b[0;32mreturn\u001b[0m \u001b[0mself\u001b[0m\u001b[0;34m.\u001b[0m\u001b[0m_call_wrapper\u001b[0m\u001b[0;34m(\u001b[0m\u001b[0;34m*\u001b[0m\u001b[0margs\u001b[0m\u001b[0;34m,\u001b[0m \u001b[0;34m**\u001b[0m\u001b[0mkwargs\u001b[0m\u001b[0;34m)\u001b[0m\u001b[0;34m\u001b[0m\u001b[0;34m\u001b[0m\u001b[0m\n\u001b[0m\u001b[1;32m   1364\u001b[0m     \u001b[0mself\u001b[0m\u001b[0;34m.\u001b[0m\u001b[0mcall\u001b[0m \u001b[0;34m=\u001b[0m \u001b[0mtf_decorator\u001b[0m\u001b[0;34m.\u001b[0m\u001b[0mmake_decorator\u001b[0m\u001b[0;34m(\u001b[0m\u001b[0mfunction\u001b[0m\u001b[0;34m,\u001b[0m \u001b[0m_call_wrapper\u001b[0m\u001b[0;34m)\u001b[0m\u001b[0;34m\u001b[0m\u001b[0;34m\u001b[0m\u001b[0m\n",
            "\u001b[0;32m/usr/local/lib/python3.7/dist-packages/tensorflow/python/keras/layers/core.py\u001b[0m in \u001b[0;36m_call_wrapper\u001b[0;34m(self, *args, **kwargs)\u001b[0m\n\u001b[1;32m   1394\u001b[0m       \u001b[0mkwargs\u001b[0m\u001b[0;34m.\u001b[0m\u001b[0mpop\u001b[0m\u001b[0;34m(\u001b[0m\u001b[0;34m'name'\u001b[0m\u001b[0;34m,\u001b[0m \u001b[0;32mNone\u001b[0m\u001b[0;34m)\u001b[0m\u001b[0;34m\u001b[0m\u001b[0;34m\u001b[0m\u001b[0m\n\u001b[0;32m-> 1395\u001b[0;31m       \u001b[0mresult\u001b[0m \u001b[0;34m=\u001b[0m \u001b[0mself\u001b[0m\u001b[0;34m.\u001b[0m\u001b[0mfunction\u001b[0m\u001b[0;34m(\u001b[0m\u001b[0;34m*\u001b[0m\u001b[0margs\u001b[0m\u001b[0;34m,\u001b[0m \u001b[0;34m**\u001b[0m\u001b[0mkwargs\u001b[0m\u001b[0;34m)\u001b[0m\u001b[0;34m\u001b[0m\u001b[0;34m\u001b[0m\u001b[0m\n\u001b[0m\u001b[1;32m   1396\u001b[0m     \u001b[0mself\u001b[0m\u001b[0;34m.\u001b[0m\u001b[0m_check_variables\u001b[0m\u001b[0;34m(\u001b[0m\u001b[0mcreated_variables\u001b[0m\u001b[0;34m,\u001b[0m \u001b[0mtape\u001b[0m\u001b[0;34m.\u001b[0m\u001b[0mwatched_variables\u001b[0m\u001b[0;34m(\u001b[0m\u001b[0;34m)\u001b[0m\u001b[0;34m)\u001b[0m\u001b[0;34m\u001b[0m\u001b[0;34m\u001b[0m\u001b[0m\n",
            "\u001b[0;32m/usr/local/lib/python3.7/dist-packages/tensorflow/python/util/dispatch.py\u001b[0m in \u001b[0;36mwrapper\u001b[0;34m(*args, **kwargs)\u001b[0m\n\u001b[1;32m    205\u001b[0m     \u001b[0;32mtry\u001b[0m\u001b[0;34m:\u001b[0m\u001b[0;34m\u001b[0m\u001b[0;34m\u001b[0m\u001b[0m\n\u001b[0;32m--> 206\u001b[0;31m       \u001b[0;32mreturn\u001b[0m \u001b[0mtarget\u001b[0m\u001b[0;34m(\u001b[0m\u001b[0;34m*\u001b[0m\u001b[0margs\u001b[0m\u001b[0;34m,\u001b[0m \u001b[0;34m**\u001b[0m\u001b[0mkwargs\u001b[0m\u001b[0;34m)\u001b[0m\u001b[0;34m\u001b[0m\u001b[0;34m\u001b[0m\u001b[0m\n\u001b[0m\u001b[1;32m    207\u001b[0m     \u001b[0;32mexcept\u001b[0m \u001b[0;34m(\u001b[0m\u001b[0mTypeError\u001b[0m\u001b[0;34m,\u001b[0m \u001b[0mValueError\u001b[0m\u001b[0;34m)\u001b[0m\u001b[0;34m:\u001b[0m\u001b[0;34m\u001b[0m\u001b[0;34m\u001b[0m\u001b[0m\n",
            "\u001b[0;32m/usr/local/lib/python3.7/dist-packages/tensorflow/python/ops/array_ops.py\u001b[0m in \u001b[0;36mtranspose\u001b[0;34m(a, perm, name, conjugate)\u001b[0m\n\u001b[1;32m   2307\u001b[0m     \u001b[0;32mif\u001b[0m \u001b[0mperm\u001b[0m \u001b[0;32mis\u001b[0m \u001b[0;32mnot\u001b[0m \u001b[0;32mNone\u001b[0m\u001b[0;34m:\u001b[0m\u001b[0;34m\u001b[0m\u001b[0;34m\u001b[0m\u001b[0m\n\u001b[0;32m-> 2308\u001b[0;31m       \u001b[0;32mreturn\u001b[0m \u001b[0mtranspose_fn\u001b[0m\u001b[0;34m(\u001b[0m\u001b[0ma\u001b[0m\u001b[0;34m,\u001b[0m \u001b[0mperm\u001b[0m\u001b[0;34m,\u001b[0m \u001b[0mname\u001b[0m\u001b[0;34m=\u001b[0m\u001b[0mname\u001b[0m\u001b[0;34m)\u001b[0m\u001b[0;34m\u001b[0m\u001b[0;34m\u001b[0m\u001b[0m\n\u001b[0m\u001b[1;32m   2309\u001b[0m \u001b[0;34m\u001b[0m\u001b[0m\n",
            "\u001b[0;32m/usr/local/lib/python3.7/dist-packages/tensorflow/python/ops/gen_array_ops.py\u001b[0m in \u001b[0;36mtranspose\u001b[0;34m(x, perm, name)\u001b[0m\n\u001b[1;32m  11652\u001b[0m   _, _, _op, _outputs = _op_def_library._apply_op_helper(\n\u001b[0;32m> 11653\u001b[0;31m         \"Transpose\", x=x, perm=perm, name=name)\n\u001b[0m\u001b[1;32m  11654\u001b[0m   \u001b[0m_result\u001b[0m \u001b[0;34m=\u001b[0m \u001b[0m_outputs\u001b[0m\u001b[0;34m[\u001b[0m\u001b[0;34m:\u001b[0m\u001b[0;34m]\u001b[0m\u001b[0;34m\u001b[0m\u001b[0;34m\u001b[0m\u001b[0m\n",
            "\u001b[0;32m/usr/local/lib/python3.7/dist-packages/tensorflow/python/framework/op_def_library.py\u001b[0m in \u001b[0;36m_apply_op_helper\u001b[0;34m(op_type_name, name, **keywords)\u001b[0m\n\u001b[1;32m    749\u001b[0m                                  \u001b[0mname\u001b[0m\u001b[0;34m=\u001b[0m\u001b[0mscope\u001b[0m\u001b[0;34m,\u001b[0m \u001b[0minput_types\u001b[0m\u001b[0;34m=\u001b[0m\u001b[0minput_types\u001b[0m\u001b[0;34m,\u001b[0m\u001b[0;34m\u001b[0m\u001b[0;34m\u001b[0m\u001b[0m\n\u001b[0;32m--> 750\u001b[0;31m                                  attrs=attr_protos, op_def=op_def)\n\u001b[0m\u001b[1;32m    751\u001b[0m \u001b[0;34m\u001b[0m\u001b[0m\n",
            "\u001b[0;32m/usr/local/lib/python3.7/dist-packages/tensorflow/python/framework/func_graph.py\u001b[0m in \u001b[0;36m_create_op_internal\u001b[0;34m(self, op_type, inputs, dtypes, input_types, name, attrs, op_def, compute_device)\u001b[0m\n\u001b[1;32m    600\u001b[0m         \u001b[0mop_type\u001b[0m\u001b[0;34m,\u001b[0m \u001b[0mcaptured_inputs\u001b[0m\u001b[0;34m,\u001b[0m \u001b[0mdtypes\u001b[0m\u001b[0;34m,\u001b[0m \u001b[0minput_types\u001b[0m\u001b[0;34m,\u001b[0m \u001b[0mname\u001b[0m\u001b[0;34m,\u001b[0m \u001b[0mattrs\u001b[0m\u001b[0;34m,\u001b[0m \u001b[0mop_def\u001b[0m\u001b[0;34m,\u001b[0m\u001b[0;34m\u001b[0m\u001b[0;34m\u001b[0m\u001b[0m\n\u001b[0;32m--> 601\u001b[0;31m         compute_device)\n\u001b[0m\u001b[1;32m    602\u001b[0m \u001b[0;34m\u001b[0m\u001b[0m\n",
            "\u001b[0;32m/usr/local/lib/python3.7/dist-packages/tensorflow/python/framework/ops.py\u001b[0m in \u001b[0;36m_create_op_internal\u001b[0;34m(self, op_type, inputs, dtypes, input_types, name, attrs, op_def, compute_device)\u001b[0m\n\u001b[1;32m   3564\u001b[0m           \u001b[0moriginal_op\u001b[0m\u001b[0;34m=\u001b[0m\u001b[0mself\u001b[0m\u001b[0;34m.\u001b[0m\u001b[0m_default_original_op\u001b[0m\u001b[0;34m,\u001b[0m\u001b[0;34m\u001b[0m\u001b[0;34m\u001b[0m\u001b[0m\n\u001b[0;32m-> 3565\u001b[0;31m           op_def=op_def)\n\u001b[0m\u001b[1;32m   3566\u001b[0m       \u001b[0mself\u001b[0m\u001b[0;34m.\u001b[0m\u001b[0m_create_op_helper\u001b[0m\u001b[0;34m(\u001b[0m\u001b[0mret\u001b[0m\u001b[0;34m,\u001b[0m \u001b[0mcompute_device\u001b[0m\u001b[0;34m=\u001b[0m\u001b[0mcompute_device\u001b[0m\u001b[0;34m)\u001b[0m\u001b[0;34m\u001b[0m\u001b[0;34m\u001b[0m\u001b[0m\n",
            "\u001b[0;32m/usr/local/lib/python3.7/dist-packages/tensorflow/python/framework/ops.py\u001b[0m in \u001b[0;36m__init__\u001b[0;34m(self, node_def, g, inputs, output_types, control_inputs, input_types, original_op, op_def)\u001b[0m\n\u001b[1;32m   2041\u001b[0m       self._c_op = _create_c_op(self._graph, node_def, inputs,\n\u001b[0;32m-> 2042\u001b[0;31m                                 control_input_ops, op_def)\n\u001b[0m\u001b[1;32m   2043\u001b[0m       \u001b[0mname\u001b[0m \u001b[0;34m=\u001b[0m \u001b[0mcompat\u001b[0m\u001b[0;34m.\u001b[0m\u001b[0mas_str\u001b[0m\u001b[0;34m(\u001b[0m\u001b[0mnode_def\u001b[0m\u001b[0;34m.\u001b[0m\u001b[0mname\u001b[0m\u001b[0;34m)\u001b[0m\u001b[0;34m\u001b[0m\u001b[0;34m\u001b[0m\u001b[0m\n",
            "\u001b[0;32m/usr/local/lib/python3.7/dist-packages/tensorflow/python/framework/ops.py\u001b[0m in \u001b[0;36m_create_c_op\u001b[0;34m(graph, node_def, inputs, control_inputs, op_def)\u001b[0m\n\u001b[1;32m   1882\u001b[0m     \u001b[0;31m# Convert to ValueError for backwards compatibility.\u001b[0m\u001b[0;34m\u001b[0m\u001b[0;34m\u001b[0m\u001b[0;34m\u001b[0m\u001b[0m\n\u001b[0;32m-> 1883\u001b[0;31m     \u001b[0;32mraise\u001b[0m \u001b[0mValueError\u001b[0m\u001b[0;34m(\u001b[0m\u001b[0mstr\u001b[0m\u001b[0;34m(\u001b[0m\u001b[0me\u001b[0m\u001b[0;34m)\u001b[0m\u001b[0;34m)\u001b[0m\u001b[0;34m\u001b[0m\u001b[0;34m\u001b[0m\u001b[0m\n\u001b[0m\u001b[1;32m   1884\u001b[0m \u001b[0;34m\u001b[0m\u001b[0m\n",
            "\u001b[0;31mValueError\u001b[0m: Dimension must be 4 but is 3 for '{{node tf.compat.v1.transpose/transpose}} = Transpose[T=DT_FLOAT, Tperm=DT_INT32](Placeholder, tf.compat.v1.transpose/transpose/perm)' with input shapes: [?,2,20,50], [3].",
            "\nDuring handling of the above exception, another exception occurred:\n",
            "\u001b[0;31mInvalidArgumentError\u001b[0m                      Traceback (most recent call last)",
            "\u001b[0;32m/usr/local/lib/python3.7/dist-packages/tensorflow/python/framework/ops.py\u001b[0m in \u001b[0;36m_create_c_op\u001b[0;34m(graph, node_def, inputs, control_inputs, op_def)\u001b[0m\n\u001b[1;32m   1879\u001b[0m   \u001b[0;32mtry\u001b[0m\u001b[0;34m:\u001b[0m\u001b[0;34m\u001b[0m\u001b[0;34m\u001b[0m\u001b[0m\n\u001b[0;32m-> 1880\u001b[0;31m     \u001b[0mc_op\u001b[0m \u001b[0;34m=\u001b[0m \u001b[0mpywrap_tf_session\u001b[0m\u001b[0;34m.\u001b[0m\u001b[0mTF_FinishOperation\u001b[0m\u001b[0;34m(\u001b[0m\u001b[0mop_desc\u001b[0m\u001b[0;34m)\u001b[0m\u001b[0;34m\u001b[0m\u001b[0;34m\u001b[0m\u001b[0m\n\u001b[0m\u001b[1;32m   1881\u001b[0m   \u001b[0;32mexcept\u001b[0m \u001b[0merrors\u001b[0m\u001b[0;34m.\u001b[0m\u001b[0mInvalidArgumentError\u001b[0m \u001b[0;32mas\u001b[0m \u001b[0me\u001b[0m\u001b[0;34m:\u001b[0m\u001b[0;34m\u001b[0m\u001b[0;34m\u001b[0m\u001b[0m\n",
            "\u001b[0;31mInvalidArgumentError\u001b[0m: Dimension must be 4 but is 3 for '{{node tf.transpose/transpose}} = Transpose[T=DT_FLOAT, Tperm=DT_INT32](Placeholder, tf.transpose/transpose/perm)' with input shapes: [?,2,20,50], [3].",
            "\nDuring handling of the above exception, another exception occurred:\n",
            "\u001b[0;31mValueError\u001b[0m                                Traceback (most recent call last)",
            "\u001b[0;32m<ipython-input-37-cfef6c885265>\u001b[0m in \u001b[0;36m<module>\u001b[0;34m()\u001b[0m\n\u001b[1;32m     22\u001b[0m \u001b[0;34m\u001b[0m\u001b[0m\n\u001b[1;32m     23\u001b[0m \u001b[0;34m\u001b[0m\u001b[0m\n\u001b[0;32m---> 24\u001b[0;31m \u001b[0me_ij\u001b[0m \u001b[0;34m=\u001b[0m \u001b[0mx1\u001b[0m \u001b[0;34m@\u001b[0m \u001b[0mtf\u001b[0m\u001b[0;34m.\u001b[0m\u001b[0mtranspose\u001b[0m\u001b[0;34m(\u001b[0m\u001b[0mx2\u001b[0m\u001b[0;34m,\u001b[0m \u001b[0mperm\u001b[0m \u001b[0;34m=\u001b[0m \u001b[0;34m[\u001b[0m\u001b[0;36m0\u001b[0m\u001b[0;34m,\u001b[0m\u001b[0;36m2\u001b[0m\u001b[0;34m,\u001b[0m\u001b[0;36m1\u001b[0m\u001b[0;34m]\u001b[0m\u001b[0;34m)\u001b[0m\u001b[0;34m\u001b[0m\u001b[0;34m\u001b[0m\u001b[0m\n\u001b[0m\u001b[1;32m     25\u001b[0m \u001b[0;34m\u001b[0m\u001b[0m\n\u001b[1;32m     26\u001b[0m \u001b[0;31m# sof1 = soft1(e_ij)\u001b[0m\u001b[0;34m\u001b[0m\u001b[0;34m\u001b[0m\u001b[0;34m\u001b[0m\u001b[0m\n",
            "\u001b[0;32m/usr/local/lib/python3.7/dist-packages/tensorflow/python/util/dispatch.py\u001b[0m in \u001b[0;36mwrapper\u001b[0;34m(*args, **kwargs)\u001b[0m\n\u001b[1;32m    208\u001b[0m       \u001b[0;31m# Note: convert_to_eager_tensor currently raises a ValueError, not a\u001b[0m\u001b[0;34m\u001b[0m\u001b[0;34m\u001b[0m\u001b[0;34m\u001b[0m\u001b[0m\n\u001b[1;32m    209\u001b[0m       \u001b[0;31m# TypeError, when given unexpected types.  So we need to catch both.\u001b[0m\u001b[0;34m\u001b[0m\u001b[0;34m\u001b[0m\u001b[0;34m\u001b[0m\u001b[0m\n\u001b[0;32m--> 210\u001b[0;31m       \u001b[0mresult\u001b[0m \u001b[0;34m=\u001b[0m \u001b[0mdispatch\u001b[0m\u001b[0;34m(\u001b[0m\u001b[0mwrapper\u001b[0m\u001b[0;34m,\u001b[0m \u001b[0margs\u001b[0m\u001b[0;34m,\u001b[0m \u001b[0mkwargs\u001b[0m\u001b[0;34m)\u001b[0m\u001b[0;34m\u001b[0m\u001b[0;34m\u001b[0m\u001b[0m\n\u001b[0m\u001b[1;32m    211\u001b[0m       \u001b[0;32mif\u001b[0m \u001b[0mresult\u001b[0m \u001b[0;32mis\u001b[0m \u001b[0;32mnot\u001b[0m \u001b[0mOpDispatcher\u001b[0m\u001b[0;34m.\u001b[0m\u001b[0mNOT_SUPPORTED\u001b[0m\u001b[0;34m:\u001b[0m\u001b[0;34m\u001b[0m\u001b[0;34m\u001b[0m\u001b[0m\n\u001b[1;32m    212\u001b[0m         \u001b[0;32mreturn\u001b[0m \u001b[0mresult\u001b[0m\u001b[0;34m\u001b[0m\u001b[0;34m\u001b[0m\u001b[0m\n",
            "\u001b[0;32m/usr/local/lib/python3.7/dist-packages/tensorflow/python/util/dispatch.py\u001b[0m in \u001b[0;36mdispatch\u001b[0;34m(op, args, kwargs)\u001b[0m\n\u001b[1;32m    124\u001b[0m       \u001b[0;32mreturn\u001b[0m \u001b[0mresult\u001b[0m\u001b[0;34m\u001b[0m\u001b[0;34m\u001b[0m\u001b[0m\n\u001b[1;32m    125\u001b[0m   \u001b[0;32mfor\u001b[0m \u001b[0mdispatcher\u001b[0m \u001b[0;32min\u001b[0m \u001b[0m_GLOBAL_DISPATCHERS\u001b[0m\u001b[0;34m:\u001b[0m\u001b[0;34m\u001b[0m\u001b[0;34m\u001b[0m\u001b[0m\n\u001b[0;32m--> 126\u001b[0;31m     \u001b[0mresult\u001b[0m \u001b[0;34m=\u001b[0m \u001b[0mdispatcher\u001b[0m\u001b[0;34m.\u001b[0m\u001b[0mhandle\u001b[0m\u001b[0;34m(\u001b[0m\u001b[0mop\u001b[0m\u001b[0;34m,\u001b[0m \u001b[0margs\u001b[0m\u001b[0;34m,\u001b[0m \u001b[0mkwargs\u001b[0m\u001b[0;34m)\u001b[0m\u001b[0;34m\u001b[0m\u001b[0;34m\u001b[0m\u001b[0m\n\u001b[0m\u001b[1;32m    127\u001b[0m     \u001b[0;32mif\u001b[0m \u001b[0mresult\u001b[0m \u001b[0;32mis\u001b[0m \u001b[0;32mnot\u001b[0m \u001b[0mOpDispatcher\u001b[0m\u001b[0;34m.\u001b[0m\u001b[0mNOT_SUPPORTED\u001b[0m\u001b[0;34m:\u001b[0m\u001b[0;34m\u001b[0m\u001b[0;34m\u001b[0m\u001b[0m\n\u001b[1;32m    128\u001b[0m       \u001b[0;32mreturn\u001b[0m \u001b[0mresult\u001b[0m\u001b[0;34m\u001b[0m\u001b[0;34m\u001b[0m\u001b[0m\n",
            "\u001b[0;32m/usr/local/lib/python3.7/dist-packages/tensorflow/python/keras/layers/core.py\u001b[0m in \u001b[0;36mhandle\u001b[0;34m(self, op, args, kwargs)\u001b[0m\n\u001b[1;32m   1484\u001b[0m         \u001b[0misinstance\u001b[0m\u001b[0;34m(\u001b[0m\u001b[0mx\u001b[0m\u001b[0;34m,\u001b[0m \u001b[0mkeras_tensor\u001b[0m\u001b[0;34m.\u001b[0m\u001b[0mKerasTensor\u001b[0m\u001b[0;34m)\u001b[0m\u001b[0;34m\u001b[0m\u001b[0;34m\u001b[0m\u001b[0m\n\u001b[1;32m   1485\u001b[0m         for x in nest.flatten([args, kwargs])):\n\u001b[0;32m-> 1486\u001b[0;31m       \u001b[0;32mreturn\u001b[0m \u001b[0mTFOpLambda\u001b[0m\u001b[0;34m(\u001b[0m\u001b[0mop\u001b[0m\u001b[0;34m)\u001b[0m\u001b[0;34m(\u001b[0m\u001b[0;34m*\u001b[0m\u001b[0margs\u001b[0m\u001b[0;34m,\u001b[0m \u001b[0;34m**\u001b[0m\u001b[0mkwargs\u001b[0m\u001b[0;34m)\u001b[0m\u001b[0;34m\u001b[0m\u001b[0;34m\u001b[0m\u001b[0m\n\u001b[0m\u001b[1;32m   1487\u001b[0m     \u001b[0;32melse\u001b[0m\u001b[0;34m:\u001b[0m\u001b[0;34m\u001b[0m\u001b[0;34m\u001b[0m\u001b[0m\n\u001b[1;32m   1488\u001b[0m       \u001b[0;32mreturn\u001b[0m \u001b[0mself\u001b[0m\u001b[0;34m.\u001b[0m\u001b[0mNOT_SUPPORTED\u001b[0m\u001b[0;34m\u001b[0m\u001b[0;34m\u001b[0m\u001b[0m\n",
            "\u001b[0;32m/usr/local/lib/python3.7/dist-packages/tensorflow/python/keras/engine/base_layer.py\u001b[0m in \u001b[0;36m__call__\u001b[0;34m(self, *args, **kwargs)\u001b[0m\n\u001b[1;32m    968\u001b[0m     \u001b[0;32mif\u001b[0m \u001b[0m_in_functional_construction_mode\u001b[0m\u001b[0;34m(\u001b[0m\u001b[0mself\u001b[0m\u001b[0;34m,\u001b[0m \u001b[0minputs\u001b[0m\u001b[0;34m,\u001b[0m \u001b[0margs\u001b[0m\u001b[0;34m,\u001b[0m \u001b[0mkwargs\u001b[0m\u001b[0;34m,\u001b[0m \u001b[0minput_list\u001b[0m\u001b[0;34m)\u001b[0m\u001b[0;34m:\u001b[0m\u001b[0;34m\u001b[0m\u001b[0;34m\u001b[0m\u001b[0m\n\u001b[1;32m    969\u001b[0m       return self._functional_construction_call(inputs, args, kwargs,\n\u001b[0;32m--> 970\u001b[0;31m                                                 input_list)\n\u001b[0m\u001b[1;32m    971\u001b[0m \u001b[0;34m\u001b[0m\u001b[0m\n\u001b[1;32m    972\u001b[0m     \u001b[0;31m# Maintains info about the `Layer.call` stack.\u001b[0m\u001b[0;34m\u001b[0m\u001b[0;34m\u001b[0m\u001b[0;34m\u001b[0m\u001b[0m\n",
            "\u001b[0;32m/usr/local/lib/python3.7/dist-packages/tensorflow/python/keras/engine/base_layer.py\u001b[0m in \u001b[0;36m_functional_construction_call\u001b[0;34m(self, inputs, args, kwargs, input_list)\u001b[0m\n\u001b[1;32m   1106\u001b[0m       \u001b[0;31m# Check input assumptions set after layer building, e.g. input shape.\u001b[0m\u001b[0;34m\u001b[0m\u001b[0;34m\u001b[0m\u001b[0;34m\u001b[0m\u001b[0m\n\u001b[1;32m   1107\u001b[0m       outputs = self._keras_tensor_symbolic_call(\n\u001b[0;32m-> 1108\u001b[0;31m           inputs, input_masks, args, kwargs)\n\u001b[0m\u001b[1;32m   1109\u001b[0m \u001b[0;34m\u001b[0m\u001b[0m\n\u001b[1;32m   1110\u001b[0m       \u001b[0;32mif\u001b[0m \u001b[0moutputs\u001b[0m \u001b[0;32mis\u001b[0m \u001b[0;32mNone\u001b[0m\u001b[0;34m:\u001b[0m\u001b[0;34m\u001b[0m\u001b[0;34m\u001b[0m\u001b[0m\n",
            "\u001b[0;32m/usr/local/lib/python3.7/dist-packages/tensorflow/python/keras/engine/base_layer.py\u001b[0m in \u001b[0;36m_keras_tensor_symbolic_call\u001b[0;34m(self, inputs, input_masks, args, kwargs)\u001b[0m\n\u001b[1;32m    838\u001b[0m       \u001b[0;32mreturn\u001b[0m \u001b[0mnest\u001b[0m\u001b[0;34m.\u001b[0m\u001b[0mmap_structure\u001b[0m\u001b[0;34m(\u001b[0m\u001b[0mkeras_tensor\u001b[0m\u001b[0;34m.\u001b[0m\u001b[0mKerasTensor\u001b[0m\u001b[0;34m,\u001b[0m \u001b[0moutput_signature\u001b[0m\u001b[0;34m)\u001b[0m\u001b[0;34m\u001b[0m\u001b[0;34m\u001b[0m\u001b[0m\n\u001b[1;32m    839\u001b[0m     \u001b[0;32melse\u001b[0m\u001b[0;34m:\u001b[0m\u001b[0;34m\u001b[0m\u001b[0;34m\u001b[0m\u001b[0m\n\u001b[0;32m--> 840\u001b[0;31m       \u001b[0;32mreturn\u001b[0m \u001b[0mself\u001b[0m\u001b[0;34m.\u001b[0m\u001b[0m_infer_output_signature\u001b[0m\u001b[0;34m(\u001b[0m\u001b[0minputs\u001b[0m\u001b[0;34m,\u001b[0m \u001b[0margs\u001b[0m\u001b[0;34m,\u001b[0m \u001b[0mkwargs\u001b[0m\u001b[0;34m,\u001b[0m \u001b[0minput_masks\u001b[0m\u001b[0;34m)\u001b[0m\u001b[0;34m\u001b[0m\u001b[0;34m\u001b[0m\u001b[0m\n\u001b[0m\u001b[1;32m    841\u001b[0m \u001b[0;34m\u001b[0m\u001b[0m\n\u001b[1;32m    842\u001b[0m   \u001b[0;32mdef\u001b[0m \u001b[0m_infer_output_signature\u001b[0m\u001b[0;34m(\u001b[0m\u001b[0mself\u001b[0m\u001b[0;34m,\u001b[0m \u001b[0minputs\u001b[0m\u001b[0;34m,\u001b[0m \u001b[0margs\u001b[0m\u001b[0;34m,\u001b[0m \u001b[0mkwargs\u001b[0m\u001b[0;34m,\u001b[0m \u001b[0minput_masks\u001b[0m\u001b[0;34m)\u001b[0m\u001b[0;34m:\u001b[0m\u001b[0;34m\u001b[0m\u001b[0;34m\u001b[0m\u001b[0m\n",
            "\u001b[0;32m/usr/local/lib/python3.7/dist-packages/tensorflow/python/keras/engine/base_layer.py\u001b[0m in \u001b[0;36m_infer_output_signature\u001b[0;34m(self, inputs, args, kwargs, input_masks)\u001b[0m\n\u001b[1;32m    878\u001b[0m           \u001b[0mself\u001b[0m\u001b[0;34m.\u001b[0m\u001b[0m_maybe_build\u001b[0m\u001b[0;34m(\u001b[0m\u001b[0minputs\u001b[0m\u001b[0;34m)\u001b[0m\u001b[0;34m\u001b[0m\u001b[0;34m\u001b[0m\u001b[0m\n\u001b[1;32m    879\u001b[0m           \u001b[0minputs\u001b[0m \u001b[0;34m=\u001b[0m \u001b[0mself\u001b[0m\u001b[0;34m.\u001b[0m\u001b[0m_maybe_cast_inputs\u001b[0m\u001b[0;34m(\u001b[0m\u001b[0minputs\u001b[0m\u001b[0;34m)\u001b[0m\u001b[0;34m\u001b[0m\u001b[0;34m\u001b[0m\u001b[0m\n\u001b[0;32m--> 880\u001b[0;31m           \u001b[0moutputs\u001b[0m \u001b[0;34m=\u001b[0m \u001b[0mcall_fn\u001b[0m\u001b[0;34m(\u001b[0m\u001b[0minputs\u001b[0m\u001b[0;34m,\u001b[0m \u001b[0;34m*\u001b[0m\u001b[0margs\u001b[0m\u001b[0;34m,\u001b[0m \u001b[0;34m**\u001b[0m\u001b[0mkwargs\u001b[0m\u001b[0;34m)\u001b[0m\u001b[0;34m\u001b[0m\u001b[0;34m\u001b[0m\u001b[0m\n\u001b[0m\u001b[1;32m    881\u001b[0m \u001b[0;34m\u001b[0m\u001b[0m\n\u001b[1;32m    882\u001b[0m         \u001b[0mself\u001b[0m\u001b[0;34m.\u001b[0m\u001b[0m_handle_activity_regularization\u001b[0m\u001b[0;34m(\u001b[0m\u001b[0minputs\u001b[0m\u001b[0;34m,\u001b[0m \u001b[0moutputs\u001b[0m\u001b[0;34m)\u001b[0m\u001b[0;34m\u001b[0m\u001b[0;34m\u001b[0m\u001b[0m\n",
            "\u001b[0;32m/usr/local/lib/python3.7/dist-packages/tensorflow/python/keras/layers/core.py\u001b[0m in \u001b[0;36m_call_wrapper\u001b[0;34m(*args, **kwargs)\u001b[0m\n\u001b[1;32m   1361\u001b[0m     \u001b[0;31m# Decorate the function to produce this layer's call method\u001b[0m\u001b[0;34m\u001b[0m\u001b[0;34m\u001b[0m\u001b[0;34m\u001b[0m\u001b[0m\n\u001b[1;32m   1362\u001b[0m     \u001b[0;32mdef\u001b[0m \u001b[0m_call_wrapper\u001b[0m\u001b[0;34m(\u001b[0m\u001b[0;34m*\u001b[0m\u001b[0margs\u001b[0m\u001b[0;34m,\u001b[0m \u001b[0;34m**\u001b[0m\u001b[0mkwargs\u001b[0m\u001b[0;34m)\u001b[0m\u001b[0;34m:\u001b[0m\u001b[0;34m\u001b[0m\u001b[0;34m\u001b[0m\u001b[0m\n\u001b[0;32m-> 1363\u001b[0;31m       \u001b[0;32mreturn\u001b[0m \u001b[0mself\u001b[0m\u001b[0;34m.\u001b[0m\u001b[0m_call_wrapper\u001b[0m\u001b[0;34m(\u001b[0m\u001b[0;34m*\u001b[0m\u001b[0margs\u001b[0m\u001b[0;34m,\u001b[0m \u001b[0;34m**\u001b[0m\u001b[0mkwargs\u001b[0m\u001b[0;34m)\u001b[0m\u001b[0;34m\u001b[0m\u001b[0;34m\u001b[0m\u001b[0m\n\u001b[0m\u001b[1;32m   1364\u001b[0m     \u001b[0mself\u001b[0m\u001b[0;34m.\u001b[0m\u001b[0mcall\u001b[0m \u001b[0;34m=\u001b[0m \u001b[0mtf_decorator\u001b[0m\u001b[0;34m.\u001b[0m\u001b[0mmake_decorator\u001b[0m\u001b[0;34m(\u001b[0m\u001b[0mfunction\u001b[0m\u001b[0;34m,\u001b[0m \u001b[0m_call_wrapper\u001b[0m\u001b[0;34m)\u001b[0m\u001b[0;34m\u001b[0m\u001b[0;34m\u001b[0m\u001b[0m\n\u001b[1;32m   1365\u001b[0m \u001b[0;34m\u001b[0m\u001b[0m\n",
            "\u001b[0;32m/usr/local/lib/python3.7/dist-packages/tensorflow/python/keras/layers/core.py\u001b[0m in \u001b[0;36m_call_wrapper\u001b[0;34m(self, *args, **kwargs)\u001b[0m\n\u001b[1;32m   1393\u001b[0m       \u001b[0;31m# multiple ops w/ the same name when the layer is reused)\u001b[0m\u001b[0;34m\u001b[0m\u001b[0;34m\u001b[0m\u001b[0;34m\u001b[0m\u001b[0m\n\u001b[1;32m   1394\u001b[0m       \u001b[0mkwargs\u001b[0m\u001b[0;34m.\u001b[0m\u001b[0mpop\u001b[0m\u001b[0;34m(\u001b[0m\u001b[0;34m'name'\u001b[0m\u001b[0;34m,\u001b[0m \u001b[0;32mNone\u001b[0m\u001b[0;34m)\u001b[0m\u001b[0;34m\u001b[0m\u001b[0;34m\u001b[0m\u001b[0m\n\u001b[0;32m-> 1395\u001b[0;31m       \u001b[0mresult\u001b[0m \u001b[0;34m=\u001b[0m \u001b[0mself\u001b[0m\u001b[0;34m.\u001b[0m\u001b[0mfunction\u001b[0m\u001b[0;34m(\u001b[0m\u001b[0;34m*\u001b[0m\u001b[0margs\u001b[0m\u001b[0;34m,\u001b[0m \u001b[0;34m**\u001b[0m\u001b[0mkwargs\u001b[0m\u001b[0;34m)\u001b[0m\u001b[0;34m\u001b[0m\u001b[0;34m\u001b[0m\u001b[0m\n\u001b[0m\u001b[1;32m   1396\u001b[0m     \u001b[0mself\u001b[0m\u001b[0;34m.\u001b[0m\u001b[0m_check_variables\u001b[0m\u001b[0;34m(\u001b[0m\u001b[0mcreated_variables\u001b[0m\u001b[0;34m,\u001b[0m \u001b[0mtape\u001b[0m\u001b[0;34m.\u001b[0m\u001b[0mwatched_variables\u001b[0m\u001b[0;34m(\u001b[0m\u001b[0;34m)\u001b[0m\u001b[0;34m)\u001b[0m\u001b[0;34m\u001b[0m\u001b[0;34m\u001b[0m\u001b[0m\n\u001b[1;32m   1397\u001b[0m     \u001b[0;32mreturn\u001b[0m \u001b[0mresult\u001b[0m\u001b[0;34m\u001b[0m\u001b[0;34m\u001b[0m\u001b[0m\n",
            "\u001b[0;32m/usr/local/lib/python3.7/dist-packages/tensorflow/python/util/dispatch.py\u001b[0m in \u001b[0;36mwrapper\u001b[0;34m(*args, **kwargs)\u001b[0m\n\u001b[1;32m    204\u001b[0m     \u001b[0;34m\"\"\"Call target, and fall back on dispatchers if there is a TypeError.\"\"\"\u001b[0m\u001b[0;34m\u001b[0m\u001b[0;34m\u001b[0m\u001b[0m\n\u001b[1;32m    205\u001b[0m     \u001b[0;32mtry\u001b[0m\u001b[0;34m:\u001b[0m\u001b[0;34m\u001b[0m\u001b[0;34m\u001b[0m\u001b[0m\n\u001b[0;32m--> 206\u001b[0;31m       \u001b[0;32mreturn\u001b[0m \u001b[0mtarget\u001b[0m\u001b[0;34m(\u001b[0m\u001b[0;34m*\u001b[0m\u001b[0margs\u001b[0m\u001b[0;34m,\u001b[0m \u001b[0;34m**\u001b[0m\u001b[0mkwargs\u001b[0m\u001b[0;34m)\u001b[0m\u001b[0;34m\u001b[0m\u001b[0;34m\u001b[0m\u001b[0m\n\u001b[0m\u001b[1;32m    207\u001b[0m     \u001b[0;32mexcept\u001b[0m \u001b[0;34m(\u001b[0m\u001b[0mTypeError\u001b[0m\u001b[0;34m,\u001b[0m \u001b[0mValueError\u001b[0m\u001b[0;34m)\u001b[0m\u001b[0;34m:\u001b[0m\u001b[0;34m\u001b[0m\u001b[0;34m\u001b[0m\u001b[0m\n\u001b[1;32m    208\u001b[0m       \u001b[0;31m# Note: convert_to_eager_tensor currently raises a ValueError, not a\u001b[0m\u001b[0;34m\u001b[0m\u001b[0;34m\u001b[0m\u001b[0;34m\u001b[0m\u001b[0m\n",
            "\u001b[0;32m/usr/local/lib/python3.7/dist-packages/tensorflow/python/ops/array_ops.py\u001b[0m in \u001b[0;36mtranspose_v2\u001b[0;34m(a, perm, conjugate, name)\u001b[0m\n\u001b[1;32m   2225\u001b[0m     \u001b[0mA\u001b[0m \u001b[0mtransposed\u001b[0m\u001b[0;31m \u001b[0m\u001b[0;31m`\u001b[0m\u001b[0mTensor\u001b[0m\u001b[0;31m`\u001b[0m\u001b[0;34m.\u001b[0m\u001b[0;34m\u001b[0m\u001b[0;34m\u001b[0m\u001b[0m\n\u001b[1;32m   2226\u001b[0m   \"\"\"\n\u001b[0;32m-> 2227\u001b[0;31m   \u001b[0;32mreturn\u001b[0m \u001b[0mtranspose\u001b[0m\u001b[0;34m(\u001b[0m\u001b[0ma\u001b[0m\u001b[0;34m=\u001b[0m\u001b[0ma\u001b[0m\u001b[0;34m,\u001b[0m \u001b[0mperm\u001b[0m\u001b[0;34m=\u001b[0m\u001b[0mperm\u001b[0m\u001b[0;34m,\u001b[0m \u001b[0mname\u001b[0m\u001b[0;34m=\u001b[0m\u001b[0mname\u001b[0m\u001b[0;34m,\u001b[0m \u001b[0mconjugate\u001b[0m\u001b[0;34m=\u001b[0m\u001b[0mconjugate\u001b[0m\u001b[0;34m)\u001b[0m\u001b[0;34m\u001b[0m\u001b[0;34m\u001b[0m\u001b[0m\n\u001b[0m\u001b[1;32m   2228\u001b[0m \u001b[0;34m\u001b[0m\u001b[0m\n\u001b[1;32m   2229\u001b[0m \u001b[0;34m\u001b[0m\u001b[0m\n",
            "\u001b[0;32m/usr/local/lib/python3.7/dist-packages/tensorflow/python/util/dispatch.py\u001b[0m in \u001b[0;36mwrapper\u001b[0;34m(*args, **kwargs)\u001b[0m\n\u001b[1;32m    204\u001b[0m     \u001b[0;34m\"\"\"Call target, and fall back on dispatchers if there is a TypeError.\"\"\"\u001b[0m\u001b[0;34m\u001b[0m\u001b[0;34m\u001b[0m\u001b[0m\n\u001b[1;32m    205\u001b[0m     \u001b[0;32mtry\u001b[0m\u001b[0;34m:\u001b[0m\u001b[0;34m\u001b[0m\u001b[0;34m\u001b[0m\u001b[0m\n\u001b[0;32m--> 206\u001b[0;31m       \u001b[0;32mreturn\u001b[0m \u001b[0mtarget\u001b[0m\u001b[0;34m(\u001b[0m\u001b[0;34m*\u001b[0m\u001b[0margs\u001b[0m\u001b[0;34m,\u001b[0m \u001b[0;34m**\u001b[0m\u001b[0mkwargs\u001b[0m\u001b[0;34m)\u001b[0m\u001b[0;34m\u001b[0m\u001b[0;34m\u001b[0m\u001b[0m\n\u001b[0m\u001b[1;32m    207\u001b[0m     \u001b[0;32mexcept\u001b[0m \u001b[0;34m(\u001b[0m\u001b[0mTypeError\u001b[0m\u001b[0;34m,\u001b[0m \u001b[0mValueError\u001b[0m\u001b[0;34m)\u001b[0m\u001b[0;34m:\u001b[0m\u001b[0;34m\u001b[0m\u001b[0;34m\u001b[0m\u001b[0m\n\u001b[1;32m    208\u001b[0m       \u001b[0;31m# Note: convert_to_eager_tensor currently raises a ValueError, not a\u001b[0m\u001b[0;34m\u001b[0m\u001b[0;34m\u001b[0m\u001b[0;34m\u001b[0m\u001b[0m\n",
            "\u001b[0;32m/usr/local/lib/python3.7/dist-packages/tensorflow/python/ops/array_ops.py\u001b[0m in \u001b[0;36mtranspose\u001b[0;34m(a, perm, name, conjugate)\u001b[0m\n\u001b[1;32m   2306\u001b[0m \u001b[0;34m\u001b[0m\u001b[0m\n\u001b[1;32m   2307\u001b[0m     \u001b[0;32mif\u001b[0m \u001b[0mperm\u001b[0m \u001b[0;32mis\u001b[0m \u001b[0;32mnot\u001b[0m \u001b[0;32mNone\u001b[0m\u001b[0;34m:\u001b[0m\u001b[0;34m\u001b[0m\u001b[0;34m\u001b[0m\u001b[0m\n\u001b[0;32m-> 2308\u001b[0;31m       \u001b[0;32mreturn\u001b[0m \u001b[0mtranspose_fn\u001b[0m\u001b[0;34m(\u001b[0m\u001b[0ma\u001b[0m\u001b[0;34m,\u001b[0m \u001b[0mperm\u001b[0m\u001b[0;34m,\u001b[0m \u001b[0mname\u001b[0m\u001b[0;34m=\u001b[0m\u001b[0mname\u001b[0m\u001b[0;34m)\u001b[0m\u001b[0;34m\u001b[0m\u001b[0;34m\u001b[0m\u001b[0m\n\u001b[0m\u001b[1;32m   2309\u001b[0m \u001b[0;34m\u001b[0m\u001b[0m\n\u001b[1;32m   2310\u001b[0m     \u001b[0mrank\u001b[0m \u001b[0;34m=\u001b[0m \u001b[0ma\u001b[0m\u001b[0;34m.\u001b[0m\u001b[0mshape\u001b[0m\u001b[0;34m.\u001b[0m\u001b[0mrank\u001b[0m\u001b[0;34m\u001b[0m\u001b[0;34m\u001b[0m\u001b[0m\n",
            "\u001b[0;32m/usr/local/lib/python3.7/dist-packages/tensorflow/python/ops/gen_array_ops.py\u001b[0m in \u001b[0;36mtranspose\u001b[0;34m(x, perm, name)\u001b[0m\n\u001b[1;32m  11651\u001b[0m   \u001b[0;31m# Add nodes to the TensorFlow graph.\u001b[0m\u001b[0;34m\u001b[0m\u001b[0;34m\u001b[0m\u001b[0;34m\u001b[0m\u001b[0m\n\u001b[1;32m  11652\u001b[0m   _, _, _op, _outputs = _op_def_library._apply_op_helper(\n\u001b[0;32m> 11653\u001b[0;31m         \"Transpose\", x=x, perm=perm, name=name)\n\u001b[0m\u001b[1;32m  11654\u001b[0m   \u001b[0m_result\u001b[0m \u001b[0;34m=\u001b[0m \u001b[0m_outputs\u001b[0m\u001b[0;34m[\u001b[0m\u001b[0;34m:\u001b[0m\u001b[0;34m]\u001b[0m\u001b[0;34m\u001b[0m\u001b[0;34m\u001b[0m\u001b[0m\n\u001b[1;32m  11655\u001b[0m   \u001b[0;32mif\u001b[0m \u001b[0m_execute\u001b[0m\u001b[0;34m.\u001b[0m\u001b[0mmust_record_gradient\u001b[0m\u001b[0;34m(\u001b[0m\u001b[0;34m)\u001b[0m\u001b[0;34m:\u001b[0m\u001b[0;34m\u001b[0m\u001b[0;34m\u001b[0m\u001b[0m\n",
            "\u001b[0;32m/usr/local/lib/python3.7/dist-packages/tensorflow/python/framework/op_def_library.py\u001b[0m in \u001b[0;36m_apply_op_helper\u001b[0;34m(op_type_name, name, **keywords)\u001b[0m\n\u001b[1;32m    748\u001b[0m       op = g._create_op_internal(op_type_name, inputs, dtypes=None,\n\u001b[1;32m    749\u001b[0m                                  \u001b[0mname\u001b[0m\u001b[0;34m=\u001b[0m\u001b[0mscope\u001b[0m\u001b[0;34m,\u001b[0m \u001b[0minput_types\u001b[0m\u001b[0;34m=\u001b[0m\u001b[0minput_types\u001b[0m\u001b[0;34m,\u001b[0m\u001b[0;34m\u001b[0m\u001b[0;34m\u001b[0m\u001b[0m\n\u001b[0;32m--> 750\u001b[0;31m                                  attrs=attr_protos, op_def=op_def)\n\u001b[0m\u001b[1;32m    751\u001b[0m \u001b[0;34m\u001b[0m\u001b[0m\n\u001b[1;32m    752\u001b[0m     \u001b[0;31m# `outputs` is returned as a separate return value so that the output\u001b[0m\u001b[0;34m\u001b[0m\u001b[0;34m\u001b[0m\u001b[0;34m\u001b[0m\u001b[0m\n",
            "\u001b[0;32m/usr/local/lib/python3.7/dist-packages/tensorflow/python/framework/func_graph.py\u001b[0m in \u001b[0;36m_create_op_internal\u001b[0;34m(self, op_type, inputs, dtypes, input_types, name, attrs, op_def, compute_device)\u001b[0m\n\u001b[1;32m    599\u001b[0m     return super(FuncGraph, self)._create_op_internal(  # pylint: disable=protected-access\n\u001b[1;32m    600\u001b[0m         \u001b[0mop_type\u001b[0m\u001b[0;34m,\u001b[0m \u001b[0mcaptured_inputs\u001b[0m\u001b[0;34m,\u001b[0m \u001b[0mdtypes\u001b[0m\u001b[0;34m,\u001b[0m \u001b[0minput_types\u001b[0m\u001b[0;34m,\u001b[0m \u001b[0mname\u001b[0m\u001b[0;34m,\u001b[0m \u001b[0mattrs\u001b[0m\u001b[0;34m,\u001b[0m \u001b[0mop_def\u001b[0m\u001b[0;34m,\u001b[0m\u001b[0;34m\u001b[0m\u001b[0;34m\u001b[0m\u001b[0m\n\u001b[0;32m--> 601\u001b[0;31m         compute_device)\n\u001b[0m\u001b[1;32m    602\u001b[0m \u001b[0;34m\u001b[0m\u001b[0m\n\u001b[1;32m    603\u001b[0m   \u001b[0;32mdef\u001b[0m \u001b[0mcapture\u001b[0m\u001b[0;34m(\u001b[0m\u001b[0mself\u001b[0m\u001b[0;34m,\u001b[0m \u001b[0mtensor\u001b[0m\u001b[0;34m,\u001b[0m \u001b[0mname\u001b[0m\u001b[0;34m=\u001b[0m\u001b[0;32mNone\u001b[0m\u001b[0;34m,\u001b[0m \u001b[0mshape\u001b[0m\u001b[0;34m=\u001b[0m\u001b[0;32mNone\u001b[0m\u001b[0;34m)\u001b[0m\u001b[0;34m:\u001b[0m\u001b[0;34m\u001b[0m\u001b[0;34m\u001b[0m\u001b[0m\n",
            "\u001b[0;32m/usr/local/lib/python3.7/dist-packages/tensorflow/python/framework/ops.py\u001b[0m in \u001b[0;36m_create_op_internal\u001b[0;34m(self, op_type, inputs, dtypes, input_types, name, attrs, op_def, compute_device)\u001b[0m\n\u001b[1;32m   3563\u001b[0m           \u001b[0minput_types\u001b[0m\u001b[0;34m=\u001b[0m\u001b[0minput_types\u001b[0m\u001b[0;34m,\u001b[0m\u001b[0;34m\u001b[0m\u001b[0;34m\u001b[0m\u001b[0m\n\u001b[1;32m   3564\u001b[0m           \u001b[0moriginal_op\u001b[0m\u001b[0;34m=\u001b[0m\u001b[0mself\u001b[0m\u001b[0;34m.\u001b[0m\u001b[0m_default_original_op\u001b[0m\u001b[0;34m,\u001b[0m\u001b[0;34m\u001b[0m\u001b[0;34m\u001b[0m\u001b[0m\n\u001b[0;32m-> 3565\u001b[0;31m           op_def=op_def)\n\u001b[0m\u001b[1;32m   3566\u001b[0m       \u001b[0mself\u001b[0m\u001b[0;34m.\u001b[0m\u001b[0m_create_op_helper\u001b[0m\u001b[0;34m(\u001b[0m\u001b[0mret\u001b[0m\u001b[0;34m,\u001b[0m \u001b[0mcompute_device\u001b[0m\u001b[0;34m=\u001b[0m\u001b[0mcompute_device\u001b[0m\u001b[0;34m)\u001b[0m\u001b[0;34m\u001b[0m\u001b[0;34m\u001b[0m\u001b[0m\n\u001b[1;32m   3567\u001b[0m     \u001b[0;32mreturn\u001b[0m \u001b[0mret\u001b[0m\u001b[0;34m\u001b[0m\u001b[0;34m\u001b[0m\u001b[0m\n",
            "\u001b[0;32m/usr/local/lib/python3.7/dist-packages/tensorflow/python/framework/ops.py\u001b[0m in \u001b[0;36m__init__\u001b[0;34m(self, node_def, g, inputs, output_types, control_inputs, input_types, original_op, op_def)\u001b[0m\n\u001b[1;32m   2040\u001b[0m         \u001b[0mop_def\u001b[0m \u001b[0;34m=\u001b[0m \u001b[0mself\u001b[0m\u001b[0;34m.\u001b[0m\u001b[0m_graph\u001b[0m\u001b[0;34m.\u001b[0m\u001b[0m_get_op_def\u001b[0m\u001b[0;34m(\u001b[0m\u001b[0mnode_def\u001b[0m\u001b[0;34m.\u001b[0m\u001b[0mop\u001b[0m\u001b[0;34m)\u001b[0m\u001b[0;34m\u001b[0m\u001b[0;34m\u001b[0m\u001b[0m\n\u001b[1;32m   2041\u001b[0m       self._c_op = _create_c_op(self._graph, node_def, inputs,\n\u001b[0;32m-> 2042\u001b[0;31m                                 control_input_ops, op_def)\n\u001b[0m\u001b[1;32m   2043\u001b[0m       \u001b[0mname\u001b[0m \u001b[0;34m=\u001b[0m \u001b[0mcompat\u001b[0m\u001b[0;34m.\u001b[0m\u001b[0mas_str\u001b[0m\u001b[0;34m(\u001b[0m\u001b[0mnode_def\u001b[0m\u001b[0;34m.\u001b[0m\u001b[0mname\u001b[0m\u001b[0;34m)\u001b[0m\u001b[0;34m\u001b[0m\u001b[0;34m\u001b[0m\u001b[0m\n\u001b[1;32m   2044\u001b[0m \u001b[0;34m\u001b[0m\u001b[0m\n",
            "\u001b[0;32m/usr/local/lib/python3.7/dist-packages/tensorflow/python/framework/ops.py\u001b[0m in \u001b[0;36m_create_c_op\u001b[0;34m(graph, node_def, inputs, control_inputs, op_def)\u001b[0m\n\u001b[1;32m   1881\u001b[0m   \u001b[0;32mexcept\u001b[0m \u001b[0merrors\u001b[0m\u001b[0;34m.\u001b[0m\u001b[0mInvalidArgumentError\u001b[0m \u001b[0;32mas\u001b[0m \u001b[0me\u001b[0m\u001b[0;34m:\u001b[0m\u001b[0;34m\u001b[0m\u001b[0;34m\u001b[0m\u001b[0m\n\u001b[1;32m   1882\u001b[0m     \u001b[0;31m# Convert to ValueError for backwards compatibility.\u001b[0m\u001b[0;34m\u001b[0m\u001b[0;34m\u001b[0m\u001b[0;34m\u001b[0m\u001b[0m\n\u001b[0;32m-> 1883\u001b[0;31m     \u001b[0;32mraise\u001b[0m \u001b[0mValueError\u001b[0m\u001b[0;34m(\u001b[0m\u001b[0mstr\u001b[0m\u001b[0;34m(\u001b[0m\u001b[0me\u001b[0m\u001b[0;34m)\u001b[0m\u001b[0;34m)\u001b[0m\u001b[0;34m\u001b[0m\u001b[0;34m\u001b[0m\u001b[0m\n\u001b[0m\u001b[1;32m   1884\u001b[0m \u001b[0;34m\u001b[0m\u001b[0m\n\u001b[1;32m   1885\u001b[0m   \u001b[0;32mreturn\u001b[0m \u001b[0mc_op\u001b[0m\u001b[0;34m\u001b[0m\u001b[0;34m\u001b[0m\u001b[0m\n",
            "\u001b[0;31mValueError\u001b[0m: Dimension must be 4 but is 3 for '{{node tf.transpose/transpose}} = Transpose[T=DT_FLOAT, Tperm=DT_INT32](Placeholder, tf.transpose/transpose/perm)' with input shapes: [?,2,20,50], [3]."
          ]
        }
      ]
    },
    {
      "cell_type": "code",
      "metadata": {
        "colab": {
          "base_uri": "https://localhost:8080/"
        },
        "id": "v2wPsXtu-7_k",
        "outputId": "65d9b141-c553-45ab-8375-7da24a9b9245"
      },
      "source": [
        "model = Model(inputs=[x1_input,x2_input], outputs = [output] )\n",
        "model.summary()"
      ],
      "execution_count": 18,
      "outputs": [
        {
          "output_type": "stream",
          "text": [
            "Model: \"model\"\n",
            "__________________________________________________________________________________________________\n",
            "Layer (type)                    Output Shape         Param #     Connected to                     \n",
            "==================================================================================================\n",
            "pair_1 (InputLayer)             [(None, 20)]         0                                            \n",
            "__________________________________________________________________________________________________\n",
            "pair_2 (InputLayer)             [(None, 20)]         0                                            \n",
            "__________________________________________________________________________________________________\n",
            "attention (atten)               ((None, 40, 100), (N 7850        pair_1[0][0]                     \n",
            "                                                                 pair_2[0][0]                     \n",
            "__________________________________________________________________________________________________\n",
            "compare (compare)               ((None, 50), (None,  5050        attention[0][0]                  \n",
            "                                                                 attention[0][1]                  \n",
            "__________________________________________________________________________________________________\n",
            "aggregate (aggregate)           (None, 2)            202         compare[0][0]                    \n",
            "                                                                 compare[0][1]                    \n",
            "==================================================================================================\n",
            "Total params: 13,102\n",
            "Trainable params: 10,302\n",
            "Non-trainable params: 2,800\n",
            "__________________________________________________________________________________________________\n"
          ],
          "name": "stdout"
        }
      ]
    },
    {
      "cell_type": "code",
      "metadata": {
        "colab": {
          "base_uri": "https://localhost:8080/",
          "height": 422
        },
        "id": "2QE2koBjFbxW",
        "outputId": "eab96d00-ff07-49de-e758-7b17600dbd7c"
      },
      "source": [
        "plot_model(model,show_shapes=True)"
      ],
      "execution_count": 19,
      "outputs": [
        {
          "output_type": "execute_result",
          "data": {
            "image/png": "[encoded data removed]",
            "text/plain": [
              "<IPython.core.display.Image object>"
            ]
          },
          "metadata": {
            "tags": []
          },
          "execution_count": 19
        }
      ]
    },
    {
      "cell_type": "code",
      "metadata": {
        "id": "FG-sXQHE36gV"
      },
      "source": [
        "def auroc(y_true, y_pred):\n",
        " return tf.py_function(roc_auc_score, (y_true, y_pred), tf.double)\n",
        "\n",
        "model.compile(optimizer='adam', loss='binary_crossentropy',metrics=['accuracy'])"
      ],
      "execution_count": 33,
      "outputs": []
    },
    {
      "cell_type": "code",
      "metadata": {
        "colab": {
          "base_uri": "https://localhost:8080/",
          "height": 714
        },
        "id": "kCiaSGRF4arf",
        "outputId": "c478e4b8-369d-40cc-8d09-ff5a25943cbc"
      },
      "source": [
        "model.fit(x = [q1_train,q2_train],batch_size=1)"
      ],
      "execution_count": 44,
      "outputs": [
        {
          "output_type": "stream",
          "text": [
            "Tensor(\"model/attention/concat:0\", shape=(1, 40, 100), dtype=float32)\n"
          ],
          "name": "stdout"
        },
        {
          "output_type": "error",
          "ename": "ValueError",
          "evalue": "ignored",
          "traceback": [
            "\u001b[0;31m---------------------------------------------------------------------------\u001b[0m",
            "\u001b[0;31mValueError\u001b[0m                                Traceback (most recent call last)",
            "\u001b[0;32m<ipython-input-44-60e0edfd2e39>\u001b[0m in \u001b[0;36m<module>\u001b[0;34m()\u001b[0m\n\u001b[0;32m----> 1\u001b[0;31m \u001b[0mmodel\u001b[0m\u001b[0;34m.\u001b[0m\u001b[0mfit\u001b[0m\u001b[0;34m(\u001b[0m\u001b[0mx\u001b[0m \u001b[0;34m=\u001b[0m \u001b[0;34m[\u001b[0m\u001b[0mq1_train\u001b[0m\u001b[0;34m,\u001b[0m\u001b[0mq2_train\u001b[0m\u001b[0;34m]\u001b[0m\u001b[0;34m,\u001b[0m\u001b[0mbatch_size\u001b[0m\u001b[0;34m=\u001b[0m\u001b[0;36m1\u001b[0m\u001b[0;34m)\u001b[0m\u001b[0;34m\u001b[0m\u001b[0;34m\u001b[0m\u001b[0m\n\u001b[0m",
            "\u001b[0;32m/usr/local/lib/python3.7/dist-packages/tensorflow/python/keras/engine/training.py\u001b[0m in \u001b[0;36mfit\u001b[0;34m(self, x, y, batch_size, epochs, verbose, callbacks, validation_split, validation_data, shuffle, class_weight, sample_weight, initial_epoch, steps_per_epoch, validation_steps, validation_batch_size, validation_freq, max_queue_size, workers, use_multiprocessing)\u001b[0m\n\u001b[1;32m   1181\u001b[0m                 _r=1):\n\u001b[1;32m   1182\u001b[0m               \u001b[0mcallbacks\u001b[0m\u001b[0;34m.\u001b[0m\u001b[0mon_train_batch_begin\u001b[0m\u001b[0;34m(\u001b[0m\u001b[0mstep\u001b[0m\u001b[0;34m)\u001b[0m\u001b[0;34m\u001b[0m\u001b[0;34m\u001b[0m\u001b[0m\n\u001b[0;32m-> 1183\u001b[0;31m               \u001b[0mtmp_logs\u001b[0m \u001b[0;34m=\u001b[0m \u001b[0mself\u001b[0m\u001b[0;34m.\u001b[0m\u001b[0mtrain_function\u001b[0m\u001b[0;34m(\u001b[0m\u001b[0miterator\u001b[0m\u001b[0;34m)\u001b[0m\u001b[0;34m\u001b[0m\u001b[0;34m\u001b[0m\u001b[0m\n\u001b[0m\u001b[1;32m   1184\u001b[0m               \u001b[0;32mif\u001b[0m \u001b[0mdata_handler\u001b[0m\u001b[0;34m.\u001b[0m\u001b[0mshould_sync\u001b[0m\u001b[0;34m:\u001b[0m\u001b[0;34m\u001b[0m\u001b[0;34m\u001b[0m\u001b[0m\n\u001b[1;32m   1185\u001b[0m                 \u001b[0mcontext\u001b[0m\u001b[0;34m.\u001b[0m\u001b[0masync_wait\u001b[0m\u001b[0;34m(\u001b[0m\u001b[0;34m)\u001b[0m\u001b[0;34m\u001b[0m\u001b[0;34m\u001b[0m\u001b[0m\n",
            "\u001b[0;32m/usr/local/lib/python3.7/dist-packages/tensorflow/python/eager/def_function.py\u001b[0m in \u001b[0;36m__call__\u001b[0;34m(self, *args, **kwds)\u001b[0m\n\u001b[1;32m    887\u001b[0m \u001b[0;34m\u001b[0m\u001b[0m\n\u001b[1;32m    888\u001b[0m       \u001b[0;32mwith\u001b[0m \u001b[0mOptionalXlaContext\u001b[0m\u001b[0;34m(\u001b[0m\u001b[0mself\u001b[0m\u001b[0;34m.\u001b[0m\u001b[0m_jit_compile\u001b[0m\u001b[0;34m)\u001b[0m\u001b[0;34m:\u001b[0m\u001b[0;34m\u001b[0m\u001b[0;34m\u001b[0m\u001b[0m\n\u001b[0;32m--> 889\u001b[0;31m         \u001b[0mresult\u001b[0m \u001b[0;34m=\u001b[0m \u001b[0mself\u001b[0m\u001b[0;34m.\u001b[0m\u001b[0m_call\u001b[0m\u001b[0;34m(\u001b[0m\u001b[0;34m*\u001b[0m\u001b[0margs\u001b[0m\u001b[0;34m,\u001b[0m \u001b[0;34m**\u001b[0m\u001b[0mkwds\u001b[0m\u001b[0;34m)\u001b[0m\u001b[0;34m\u001b[0m\u001b[0;34m\u001b[0m\u001b[0m\n\u001b[0m\u001b[1;32m    890\u001b[0m \u001b[0;34m\u001b[0m\u001b[0m\n\u001b[1;32m    891\u001b[0m       \u001b[0mnew_tracing_count\u001b[0m \u001b[0;34m=\u001b[0m \u001b[0mself\u001b[0m\u001b[0;34m.\u001b[0m\u001b[0mexperimental_get_tracing_count\u001b[0m\u001b[0;34m(\u001b[0m\u001b[0;34m)\u001b[0m\u001b[0;34m\u001b[0m\u001b[0;34m\u001b[0m\u001b[0m\n",
            "\u001b[0;32m/usr/local/lib/python3.7/dist-packages/tensorflow/python/eager/def_function.py\u001b[0m in \u001b[0;36m_call\u001b[0;34m(self, *args, **kwds)\u001b[0m\n\u001b[1;32m    922\u001b[0m       \u001b[0;31m# In this case we have not created variables on the first call. So we can\u001b[0m\u001b[0;34m\u001b[0m\u001b[0;34m\u001b[0m\u001b[0;34m\u001b[0m\u001b[0m\n\u001b[1;32m    923\u001b[0m       \u001b[0;31m# run the first trace but we should fail if variables are created.\u001b[0m\u001b[0;34m\u001b[0m\u001b[0;34m\u001b[0m\u001b[0;34m\u001b[0m\u001b[0m\n\u001b[0;32m--> 924\u001b[0;31m       \u001b[0mresults\u001b[0m \u001b[0;34m=\u001b[0m \u001b[0mself\u001b[0m\u001b[0;34m.\u001b[0m\u001b[0m_stateful_fn\u001b[0m\u001b[0;34m(\u001b[0m\u001b[0;34m*\u001b[0m\u001b[0margs\u001b[0m\u001b[0;34m,\u001b[0m \u001b[0;34m**\u001b[0m\u001b[0mkwds\u001b[0m\u001b[0;34m)\u001b[0m\u001b[0;34m\u001b[0m\u001b[0;34m\u001b[0m\u001b[0m\n\u001b[0m\u001b[1;32m    925\u001b[0m       \u001b[0;32mif\u001b[0m \u001b[0mself\u001b[0m\u001b[0;34m.\u001b[0m\u001b[0m_created_variables\u001b[0m\u001b[0;34m:\u001b[0m\u001b[0;34m\u001b[0m\u001b[0;34m\u001b[0m\u001b[0m\n\u001b[1;32m    926\u001b[0m         raise ValueError(\"Creating variables on a non-first call to a function\"\n",
            "\u001b[0;32m/usr/local/lib/python3.7/dist-packages/tensorflow/python/eager/function.py\u001b[0m in \u001b[0;36m__call__\u001b[0;34m(self, *args, **kwargs)\u001b[0m\n\u001b[1;32m   3020\u001b[0m     \u001b[0;32mwith\u001b[0m \u001b[0mself\u001b[0m\u001b[0;34m.\u001b[0m\u001b[0m_lock\u001b[0m\u001b[0;34m:\u001b[0m\u001b[0;34m\u001b[0m\u001b[0;34m\u001b[0m\u001b[0m\n\u001b[1;32m   3021\u001b[0m       (graph_function,\n\u001b[0;32m-> 3022\u001b[0;31m        filtered_flat_args) = self._maybe_define_function(args, kwargs)\n\u001b[0m\u001b[1;32m   3023\u001b[0m     return graph_function._call_flat(\n\u001b[1;32m   3024\u001b[0m         filtered_flat_args, captured_inputs=graph_function.captured_inputs)  # pylint: disable=protected-access\n",
            "\u001b[0;32m/usr/local/lib/python3.7/dist-packages/tensorflow/python/eager/function.py\u001b[0m in \u001b[0;36m_maybe_define_function\u001b[0;34m(self, args, kwargs)\u001b[0m\n\u001b[1;32m   3439\u001b[0m               call_context_key in self._function_cache.missed):\n\u001b[1;32m   3440\u001b[0m             return self._define_function_with_shape_relaxation(\n\u001b[0;32m-> 3441\u001b[0;31m                 args, kwargs, flat_args, filtered_flat_args, cache_key_context)\n\u001b[0m\u001b[1;32m   3442\u001b[0m \u001b[0;34m\u001b[0m\u001b[0m\n\u001b[1;32m   3443\u001b[0m           \u001b[0mself\u001b[0m\u001b[0;34m.\u001b[0m\u001b[0m_function_cache\u001b[0m\u001b[0;34m.\u001b[0m\u001b[0mmissed\u001b[0m\u001b[0;34m.\u001b[0m\u001b[0madd\u001b[0m\u001b[0;34m(\u001b[0m\u001b[0mcall_context_key\u001b[0m\u001b[0;34m)\u001b[0m\u001b[0;34m\u001b[0m\u001b[0;34m\u001b[0m\u001b[0m\n",
            "\u001b[0;32m/usr/local/lib/python3.7/dist-packages/tensorflow/python/eager/function.py\u001b[0m in \u001b[0;36m_define_function_with_shape_relaxation\u001b[0;34m(self, args, kwargs, flat_args, filtered_flat_args, cache_key_context)\u001b[0m\n\u001b[1;32m   3361\u001b[0m \u001b[0;34m\u001b[0m\u001b[0m\n\u001b[1;32m   3362\u001b[0m     graph_function = self._create_graph_function(\n\u001b[0;32m-> 3363\u001b[0;31m         args, kwargs, override_flat_arg_shapes=relaxed_arg_shapes)\n\u001b[0m\u001b[1;32m   3364\u001b[0m     \u001b[0mself\u001b[0m\u001b[0;34m.\u001b[0m\u001b[0m_function_cache\u001b[0m\u001b[0;34m.\u001b[0m\u001b[0marg_relaxed\u001b[0m\u001b[0;34m[\u001b[0m\u001b[0mrank_only_cache_key\u001b[0m\u001b[0;34m]\u001b[0m \u001b[0;34m=\u001b[0m \u001b[0mgraph_function\u001b[0m\u001b[0;34m\u001b[0m\u001b[0;34m\u001b[0m\u001b[0m\n\u001b[1;32m   3365\u001b[0m \u001b[0;34m\u001b[0m\u001b[0m\n",
            "\u001b[0;32m/usr/local/lib/python3.7/dist-packages/tensorflow/python/eager/function.py\u001b[0m in \u001b[0;36m_create_graph_function\u001b[0;34m(self, args, kwargs, override_flat_arg_shapes)\u001b[0m\n\u001b[1;32m   3287\u001b[0m             \u001b[0marg_names\u001b[0m\u001b[0;34m=\u001b[0m\u001b[0marg_names\u001b[0m\u001b[0;34m,\u001b[0m\u001b[0;34m\u001b[0m\u001b[0;34m\u001b[0m\u001b[0m\n\u001b[1;32m   3288\u001b[0m             \u001b[0moverride_flat_arg_shapes\u001b[0m\u001b[0;34m=\u001b[0m\u001b[0moverride_flat_arg_shapes\u001b[0m\u001b[0;34m,\u001b[0m\u001b[0;34m\u001b[0m\u001b[0;34m\u001b[0m\u001b[0m\n\u001b[0;32m-> 3289\u001b[0;31m             capture_by_value=self._capture_by_value),\n\u001b[0m\u001b[1;32m   3290\u001b[0m         \u001b[0mself\u001b[0m\u001b[0;34m.\u001b[0m\u001b[0m_function_attributes\u001b[0m\u001b[0;34m,\u001b[0m\u001b[0;34m\u001b[0m\u001b[0;34m\u001b[0m\u001b[0m\n\u001b[1;32m   3291\u001b[0m         \u001b[0mfunction_spec\u001b[0m\u001b[0;34m=\u001b[0m\u001b[0mself\u001b[0m\u001b[0;34m.\u001b[0m\u001b[0mfunction_spec\u001b[0m\u001b[0;34m,\u001b[0m\u001b[0;34m\u001b[0m\u001b[0;34m\u001b[0m\u001b[0m\n",
            "\u001b[0;32m/usr/local/lib/python3.7/dist-packages/tensorflow/python/framework/func_graph.py\u001b[0m in \u001b[0;36mfunc_graph_from_py_func\u001b[0;34m(name, python_func, args, kwargs, signature, func_graph, autograph, autograph_options, add_control_dependencies, arg_names, op_return_value, collections, capture_by_value, override_flat_arg_shapes)\u001b[0m\n\u001b[1;32m    997\u001b[0m         \u001b[0m_\u001b[0m\u001b[0;34m,\u001b[0m \u001b[0moriginal_func\u001b[0m \u001b[0;34m=\u001b[0m \u001b[0mtf_decorator\u001b[0m\u001b[0;34m.\u001b[0m\u001b[0munwrap\u001b[0m\u001b[0;34m(\u001b[0m\u001b[0mpython_func\u001b[0m\u001b[0;34m)\u001b[0m\u001b[0;34m\u001b[0m\u001b[0;34m\u001b[0m\u001b[0m\n\u001b[1;32m    998\u001b[0m \u001b[0;34m\u001b[0m\u001b[0m\n\u001b[0;32m--> 999\u001b[0;31m       \u001b[0mfunc_outputs\u001b[0m \u001b[0;34m=\u001b[0m \u001b[0mpython_func\u001b[0m\u001b[0;34m(\u001b[0m\u001b[0;34m*\u001b[0m\u001b[0mfunc_args\u001b[0m\u001b[0;34m,\u001b[0m \u001b[0;34m**\u001b[0m\u001b[0mfunc_kwargs\u001b[0m\u001b[0;34m)\u001b[0m\u001b[0;34m\u001b[0m\u001b[0;34m\u001b[0m\u001b[0m\n\u001b[0m\u001b[1;32m   1000\u001b[0m \u001b[0;34m\u001b[0m\u001b[0m\n\u001b[1;32m   1001\u001b[0m       \u001b[0;31m# invariant: `func_outputs` contains only Tensors, CompositeTensors,\u001b[0m\u001b[0;34m\u001b[0m\u001b[0;34m\u001b[0m\u001b[0;34m\u001b[0m\u001b[0m\n",
            "\u001b[0;32m/usr/local/lib/python3.7/dist-packages/tensorflow/python/eager/def_function.py\u001b[0m in \u001b[0;36mwrapped_fn\u001b[0;34m(*args, **kwds)\u001b[0m\n\u001b[1;32m    670\u001b[0m         \u001b[0;31m# the function a weak reference to itself to avoid a reference cycle.\u001b[0m\u001b[0;34m\u001b[0m\u001b[0;34m\u001b[0m\u001b[0;34m\u001b[0m\u001b[0m\n\u001b[1;32m    671\u001b[0m         \u001b[0;32mwith\u001b[0m \u001b[0mOptionalXlaContext\u001b[0m\u001b[0;34m(\u001b[0m\u001b[0mcompile_with_xla\u001b[0m\u001b[0;34m)\u001b[0m\u001b[0;34m:\u001b[0m\u001b[0;34m\u001b[0m\u001b[0;34m\u001b[0m\u001b[0m\n\u001b[0;32m--> 672\u001b[0;31m           \u001b[0mout\u001b[0m \u001b[0;34m=\u001b[0m \u001b[0mweak_wrapped_fn\u001b[0m\u001b[0;34m(\u001b[0m\u001b[0;34m)\u001b[0m\u001b[0;34m.\u001b[0m\u001b[0m__wrapped__\u001b[0m\u001b[0;34m(\u001b[0m\u001b[0;34m*\u001b[0m\u001b[0margs\u001b[0m\u001b[0;34m,\u001b[0m \u001b[0;34m**\u001b[0m\u001b[0mkwds\u001b[0m\u001b[0;34m)\u001b[0m\u001b[0;34m\u001b[0m\u001b[0;34m\u001b[0m\u001b[0m\n\u001b[0m\u001b[1;32m    673\u001b[0m         \u001b[0;32mreturn\u001b[0m \u001b[0mout\u001b[0m\u001b[0;34m\u001b[0m\u001b[0;34m\u001b[0m\u001b[0m\n\u001b[1;32m    674\u001b[0m \u001b[0;34m\u001b[0m\u001b[0m\n",
            "\u001b[0;32m/usr/local/lib/python3.7/dist-packages/tensorflow/python/framework/func_graph.py\u001b[0m in \u001b[0;36mwrapper\u001b[0;34m(*args, **kwargs)\u001b[0m\n\u001b[1;32m    984\u001b[0m           \u001b[0;32mexcept\u001b[0m \u001b[0mException\u001b[0m \u001b[0;32mas\u001b[0m \u001b[0me\u001b[0m\u001b[0;34m:\u001b[0m  \u001b[0;31m# pylint:disable=broad-except\u001b[0m\u001b[0;34m\u001b[0m\u001b[0;34m\u001b[0m\u001b[0m\n\u001b[1;32m    985\u001b[0m             \u001b[0;32mif\u001b[0m \u001b[0mhasattr\u001b[0m\u001b[0;34m(\u001b[0m\u001b[0me\u001b[0m\u001b[0;34m,\u001b[0m \u001b[0;34m\"ag_error_metadata\"\u001b[0m\u001b[0;34m)\u001b[0m\u001b[0;34m:\u001b[0m\u001b[0;34m\u001b[0m\u001b[0;34m\u001b[0m\u001b[0m\n\u001b[0;32m--> 986\u001b[0;31m               \u001b[0;32mraise\u001b[0m \u001b[0me\u001b[0m\u001b[0;34m.\u001b[0m\u001b[0mag_error_metadata\u001b[0m\u001b[0;34m.\u001b[0m\u001b[0mto_exception\u001b[0m\u001b[0;34m(\u001b[0m\u001b[0me\u001b[0m\u001b[0;34m)\u001b[0m\u001b[0;34m\u001b[0m\u001b[0;34m\u001b[0m\u001b[0m\n\u001b[0m\u001b[1;32m    987\u001b[0m             \u001b[0;32melse\u001b[0m\u001b[0;34m:\u001b[0m\u001b[0;34m\u001b[0m\u001b[0;34m\u001b[0m\u001b[0m\n\u001b[1;32m    988\u001b[0m               \u001b[0;32mraise\u001b[0m\u001b[0;34m\u001b[0m\u001b[0;34m\u001b[0m\u001b[0m\n",
            "\u001b[0;31mValueError\u001b[0m: in user code:\n\n    /usr/local/lib/python3.7/dist-packages/tensorflow/python/keras/engine/training.py:855 train_function  *\n        return step_function(self, iterator)\n    /usr/local/lib/python3.7/dist-packages/tensorflow/python/keras/engine/training.py:845 step_function  **\n        outputs = model.distribute_strategy.run(run_step, args=(data,))\n    /usr/local/lib/python3.7/dist-packages/tensorflow/python/distribute/distribute_lib.py:1285 run\n        return self._extended.call_for_each_replica(fn, args=args, kwargs=kwargs)\n    /usr/local/lib/python3.7/dist-packages/tensorflow/python/distribute/distribute_lib.py:2833 call_for_each_replica\n        return self._call_for_each_replica(fn, args, kwargs)\n    /usr/local/lib/python3.7/dist-packages/tensorflow/python/distribute/distribute_lib.py:3608 _call_for_each_replica\n        return fn(*args, **kwargs)\n    /usr/local/lib/python3.7/dist-packages/tensorflow/python/keras/engine/training.py:838 run_step  **\n        outputs = model.train_step(data)\n    /usr/local/lib/python3.7/dist-packages/tensorflow/python/keras/engine/training.py:799 train_step\n        self.optimizer.minimize(loss, self.trainable_variables, tape=tape)\n    /usr/local/lib/python3.7/dist-packages/tensorflow/python/keras/optimizer_v2/optimizer_v2.py:530 minimize\n        return self.apply_gradients(grads_and_vars, name=name)\n    /usr/local/lib/python3.7/dist-packages/tensorflow/python/keras/optimizer_v2/optimizer_v2.py:630 apply_gradients\n        grads_and_vars = optimizer_utils.filter_empty_gradients(grads_and_vars)\n    /usr/local/lib/python3.7/dist-packages/tensorflow/python/keras/optimizer_v2/utils.py:76 filter_empty_gradients\n        ([v.name for _, v in grads_and_vars],))\n\n    ValueError: No gradients provided for any variable: ['attention/F/kernel:0', 'attention/F/bias:0', 'compare/G/kernel:0', 'compare/G/bias:0', 'aggregate/H/kernel:0', 'aggregate/H/bias:0'].\n"
          ]
        }
      ]
    },
    {
      "cell_type": "code",
      "metadata": {
        "colab": {
          "base_uri": "https://localhost:8080/"
        },
        "id": "IFMZJFd1KiEK",
        "outputId": "ffa29cdb-73c1-4250-d272-d1831499d113"
      },
      "source": [
        "# now compute Bj and Ai \n",
        "B_sum = [sum(e_ij[i][:]) for i in range(0,e_ij.shape[0])]\n",
        "A_sum = [sum(e_ij[:][j]) for j in range(0,e_ij.shape[1])]\n",
        "A_sum"
      ],
      "execution_count": null,
      "outputs": [
        {
          "output_type": "execute_result",
          "data": {
            "text/plain": [
              "[<tf.Tensor: shape=(), dtype=float32, numpy=46.48449>,\n",
              " <tf.Tensor: shape=(), dtype=float32, numpy=71.26536>,\n",
              " <tf.Tensor: shape=(), dtype=float32, numpy=59.27954>,\n",
              " <tf.Tensor: shape=(), dtype=float32, numpy=64.78312>,\n",
              " <tf.Tensor: shape=(), dtype=float32, numpy=51.609085>,\n",
              " <tf.Tensor: shape=(), dtype=float32, numpy=67.30914>,\n",
              " <tf.Tensor: shape=(), dtype=float32, numpy=51.609085>,\n",
              " <tf.Tensor: shape=(), dtype=float32, numpy=37.796688>,\n",
              " <tf.Tensor: shape=(), dtype=float32, numpy=71.94593>,\n",
              " <tf.Tensor: shape=(), dtype=float32, numpy=60.3913>,\n",
              " <tf.Tensor: shape=(), dtype=float32, numpy=68.386314>,\n",
              " <tf.Tensor: shape=(), dtype=float32, numpy=63.741604>]"
            ]
          },
          "metadata": {
            "tags": []
          },
          "execution_count": 33
        }
      ]
    },
    {
      "cell_type": "code",
      "metadata": {
        "colab": {
          "base_uri": "https://localhost:8080/"
        },
        "id": "hvBSNS1FJiSd",
        "outputId": "102a3793-f98b-42bf-e93b-4ed1e653b0f9"
      },
      "source": [
        "# till here i was checking how the mask_zero works in embedding\n",
        "B_i = [sum([(e_ij[y][x]/B_sum[y])*b_[y] for x in range(0,e_ij.shape[1])])  for y in range(0,len(B_sum))] \n",
        "A_j = [sum([(e_ij[x][y]/A_sum[y])*a_[y] for x in range(0,e_ij.shape[0])])  for y in range(0,len(A_sum))] \n"
      ],
      "execution_count": null,
      "outputs": [
        {
          "output_type": "execute_result",
          "data": {
            "text/plain": [
              "[<tf.Tensor: shape=(100,), dtype=float32, numpy=\n",
              " array([ 0.079432  , -0.14053999, -0.10461999, -0.36259   , -0.22720999,\n",
              "        -0.13612   ,  0.74755   ,  0.32808998,  0.54364   ,  0.12090999,\n",
              "        -0.53579   , -0.09385199, -0.1253    ,  0.0075018 ,  0.54401994,\n",
              "        -0.51891   ,  0.34595996,  1.3305999 ,  1.0153    ,  0.31238997,\n",
              "         0.16273999, -0.026524  ,  0.7394899 ,  0.5574    ,  1.1129    ,\n",
              "        -0.44905   ,  1.0968    ,  0.73695993, -0.44727996,  0.032219  ,\n",
              "         1.1975999 ,  0.059368  , -0.37852997, -0.21233   ,  0.13509998,\n",
              "        -0.34380996,  0.48377   ,  0.017526  , -0.46030995, -0.77044   ,\n",
              "        -0.85068005,  0.30326995,  0.11416999, -0.25013   ,  0.014417  ,\n",
              "        -0.05347   , -0.30477   ,  0.40744   , -1.4463001 ,  0.85098994,\n",
              "         0.66363   ,  0.0049562 ,  0.57099   ,  0.27496   ,  0.0087559 ,\n",
              "        -0.84858996,  0.74671996,  0.51043004,  0.18724   , -0.012529  ,\n",
              "        -0.42562002, -0.84411997, -0.50242   ,  0.016912  ,  0.41224   ,\n",
              "         0.25003996,  0.12518999,  0.56297994, -1.0472    , -1.0784    ,\n",
              "        -0.8861499 ,  0.11577   ,  0.85152   ,  0.16019   ,  0.83352   ,\n",
              "        -0.38092002,  0.04419101,  0.22782   , -0.38650998, -0.019875  ,\n",
              "        -0.8948099 , -0.35736   , -0.48554993,  0.036485  , -0.43308   ,\n",
              "         0.16880998,  1.0746    ,  0.095382  ,  0.54107   , -0.38136   ,\n",
              "        -1.2123    ,  0.51573   ,  0.16573   ,  0.67942995,  0.35326996,\n",
              "         0.17672   ,  0.25803   ,  0.068445  , -1.2016    , -0.20168002],\n",
              "       dtype=float32)>, <tf.Tensor: shape=(100,), dtype=float32, numpy=\n",
              " array([-1.51800022e-01,  3.84090036e-01,  8.93399954e-01, -4.24209982e-01,\n",
              "        -9.21609998e-01,  3.79879996e-02, -3.20260018e-01,  3.41190002e-03,\n",
              "         2.21010000e-01, -2.20449999e-01,  1.66610003e-01,  2.19559997e-01,\n",
              "         2.53249973e-01, -2.92670012e-01,  1.01709992e-01, -7.54910037e-02,\n",
              "        -6.04059994e-02,  2.81940013e-01, -5.85189998e-01,  4.82710004e-01,\n",
              "         1.75039992e-02, -1.20860003e-01, -1.09899998e-01, -6.95539951e-01,\n",
              "         1.56000003e-01,  7.05580041e-02, -1.50579989e-01, -8.18109989e-01,\n",
              "        -1.85350001e-01, -3.68629992e-01,  3.16499993e-02,  7.66159952e-01,\n",
              "         8.40409994e-02,  2.69280002e-03, -2.74399996e-01,  2.18150005e-01,\n",
              "        -3.51569951e-02,  3.25690061e-01,  1.00319982e-01, -6.09319985e-01,\n",
              "        -7.03159988e-01,  1.82989985e-01,  3.31339985e-01, -1.24159984e-01,\n",
              "        -9.05419886e-01, -3.91569994e-02,  4.47189987e-01, -5.73379993e-01,\n",
              "        -4.01719987e-01, -8.22340012e-01,  5.57399988e-01,  1.51009992e-01,\n",
              "         2.45979980e-01,  1.01129997e+00, -4.66259956e-01, -2.71329999e+00,\n",
              "         4.32730019e-01, -1.63139969e-01,  1.58280003e+00,  5.50810039e-01,\n",
              "        -2.47379988e-01,  1.41839993e+00, -1.68670006e-02, -1.93680003e-01,\n",
              "         1.00899994e+00, -5.98639995e-02,  9.18529987e-01,  4.30220008e-01,\n",
              "        -2.06239983e-01,  7.61270002e-02,  2.15950012e-01, -2.68339992e-01,\n",
              "        -3.33419979e-01, -3.71509999e-01,  4.51969981e-01, -8.24600086e-02,\n",
              "         3.29840034e-01, -5.73759973e-01, -1.30419993e+00,  2.71210015e-01,\n",
              "         6.62769973e-01, -7.96260014e-02, -7.91670024e-01, -5.36620058e-03,\n",
              "        -1.79159999e+00, -3.32980007e-01, -3.06980014e-01, -3.39800000e-01,\n",
              "        -5.56180000e-01, -6.94710016e-01,  2.74269998e-01, -2.18979970e-01,\n",
              "        -2.67140001e-01,  2.25610007e-03, -5.01779974e-01, -3.27749968e-01,\n",
              "        -4.56699967e-01, -2.71230042e-01,  2.21570015e-01,  9.21119928e-01],\n",
              "       dtype=float32)>, <tf.Tensor: shape=(100,), dtype=float32, numpy=\n",
              " array([-0.54264003,  0.41476002,  1.0322    , -0.40244004,  0.46691006,\n",
              "         0.21816002, -0.07486399,  0.47332004,  0.080996  , -0.22079003,\n",
              "        -0.12808001, -0.11440001,  0.50891   ,  0.11568   ,  0.028211  ,\n",
              "        -0.3628    ,  0.43822998,  0.047511  ,  0.20282002,  0.49857002,\n",
              "        -0.10068001,  0.13269001,  0.16971998,  0.11653001,  0.31355   ,\n",
              "         0.25713003,  0.092783  , -0.56826   , -0.52975   , -0.051456  ,\n",
              "        -0.67326   ,  0.92533004,  0.2693    ,  0.22734   ,  0.66365   ,\n",
              "         0.26221   ,  0.19719002,  0.26090002,  0.18774001, -0.3454    ,\n",
              "        -0.42635003,  0.13975   ,  0.56338   , -0.56907   ,  0.12398   ,\n",
              "        -0.12893999,  0.72484004, -0.26105   , -0.26314   , -0.43604997,\n",
              "         0.078908  , -0.84146   ,  0.51595   ,  1.3997    , -0.76460004,\n",
              "        -3.1452997 , -0.29202   , -0.31247   ,  1.5129    ,  0.52435005,\n",
              "         0.21456   ,  0.42452002, -0.08841101, -0.17804998,  1.1876001 ,\n",
              "         0.10579   ,  0.76571   ,  0.21914002,  0.35824   , -0.11636002,\n",
              "         0.093261  , -0.62483007, -0.21898003,  0.21796001,  0.74056005,\n",
              "        -0.43735   ,  0.14343   ,  0.14719   , -1.1605    , -0.050508  ,\n",
              "         0.12677   , -0.014395  , -0.9867601 , -0.09129699, -1.2053999 ,\n",
              "        -0.11974   ,  0.047847  , -0.54001   ,  0.52457   , -0.7096301 ,\n",
              "        -0.32527998, -0.1346    , -0.41313997,  0.33435002, -0.0072412 ,\n",
              "         0.32253003, -0.044219  , -1.2969002 ,  0.76217   ,  0.46349007],\n",
              "       dtype=float32)>, <tf.Tensor: shape=(100,), dtype=float32, numpy=\n",
              " array([-0.038194  , -0.24487   ,  0.72811997, -0.39961   ,  0.08317199,\n",
              "         0.043953  , -0.39140996,  0.33439997, -0.5754499 ,  0.087459  ,\n",
              "         0.28787   , -0.06730999,  0.30906   , -0.26384   , -0.13230997,\n",
              "        -0.20756999,  0.33394998, -0.33847997, -0.31742996, -0.48335996,\n",
              "         0.14639999, -0.37303993,  0.34576997,  0.052041  ,  0.44945997,\n",
              "        -0.46971   ,  0.02628   , -0.54155   , -0.15518   , -0.14107   ,\n",
              "        -0.039722  ,  0.28276998,  0.14393   ,  0.23464   , -0.31021   ,\n",
              "         0.086173  ,  0.20396999,  0.52624   ,  0.17164   , -0.08237799,\n",
              "        -0.71786994, -0.41531   ,  0.20335001, -0.12762998,  0.41366994,\n",
              "         0.55186987,  0.5790799 , -0.33477   , -0.36559   , -0.5485699 ,\n",
              "        -0.06289199,  0.26583996,  0.30204996,  0.99774987, -0.8048099 ,\n",
              "        -3.0242996 ,  0.01254   , -0.36942   ,  2.2166998 ,  0.7220099 ,\n",
              "        -0.24977998,  0.92135996,  0.034514  ,  0.46745   ,  1.1078999 ,\n",
              "        -0.19358   , -0.07457498,  0.23352998, -0.052062  , -0.22043997,\n",
              "         0.05716199, -0.15805998, -0.30798   , -0.41624996,  0.37972   ,\n",
              "         0.15005998, -0.5321199 , -0.20549996, -1.2526    ,  0.071624  ,\n",
              "         0.7056499 ,  0.49743998, -0.42062998,  0.26148   , -1.5379999 ,\n",
              "        -0.30222997, -0.073438  , -0.28311998,  0.37103996, -0.25217   ,\n",
              "         0.016215  , -0.017099  , -0.38984   ,  0.8742399 , -0.72568995,\n",
              "        -0.51057994, -0.52028   , -0.14589998,  0.82779986,  0.27061996],\n",
              "       dtype=float32)>, <tf.Tensor: shape=(100,), dtype=float32, numpy=\n",
              " array([ 9.12830010e-02, -1.32980004e-01,  4.55739982e-02,  5.73969960e-01,\n",
              "         1.27979994e-01, -2.57409990e-01, -3.17729980e-01,  1.50829991e-02,\n",
              "         1.40220001e-01,  9.39690024e-02, -1.95709988e-01,  2.32130006e-01,\n",
              "        -9.88849998e-02, -2.63269991e-01, -1.75799996e-01,  3.88150066e-02,\n",
              "        -8.22909921e-02,  4.30049926e-01, -2.62760013e-01, -5.49479946e-02,\n",
              "         1.62149996e-01,  2.86069989e-01, -3.77130032e-01, -3.36280018e-02,\n",
              "        -1.50809987e-02,  5.74310005e-01, -2.66060024e-01, -1.18409999e-01,\n",
              "         4.77959991e-01,  4.76059988e-02, -3.90219986e-01,  1.51040003e-01,\n",
              "         1.09859996e-01, -1.66209996e-01,  2.13709980e-01, -1.29669994e-01,\n",
              "         1.56310007e-01, -5.90719938e-01, -2.90019989e-01, -3.03189963e-01,\n",
              "        -7.42369950e-01,  3.56170028e-01,  6.50159955e-01, -4.59410012e-01,\n",
              "        -6.67630017e-01,  3.62539977e-01, -1.41739994e-01,  7.57559910e-02,\n",
              "        -2.10920006e-01, -9.15889978e-01,  2.89970011e-01, -6.84769928e-01,\n",
              "        -1.31909996e-01,  1.32799983e+00, -2.61959970e-01, -2.31209970e+00,\n",
              "        -3.35319996e-01, -1.43990002e-03,  1.82060003e+00,  2.81579971e-01,\n",
              "        -3.51819992e-01,  5.15040010e-03, -1.46959990e-01,  6.35389984e-03,\n",
              "         1.02859998e+00,  3.67320001e-01, -4.36989993e-01,  6.72760010e-01,\n",
              "        -3.60859960e-01, -4.57500011e-01,  3.47550005e-01, -3.09730023e-01,\n",
              "        -6.56350017e-01, -7.76709914e-01,  1.99480012e-01, -1.11259989e-01,\n",
              "        -7.81240046e-01,  1.76649988e-01,  4.96179946e-02, -4.08019990e-01,\n",
              "         5.03639996e-01, -1.75439999e-01, -1.64129987e-01, -2.26740003e-01,\n",
              "        -1.26740003e+00,  1.66779995e-01,  6.57649934e-01,  3.07069998e-03,\n",
              "        -2.34080002e-01, -7.83850074e-01, -4.93730009e-01, -1.98119998e-01,\n",
              "        -5.97279966e-01,  3.44589978e-01, -2.76809990e-01, -2.87050009e-01,\n",
              "         2.56300002e-01, -5.00109911e-01,  4.96089965e-01,  6.09479964e-01],\n",
              "       dtype=float32)>, <tf.Tensor: shape=(100,), dtype=float32, numpy=\n",
              " array([-0.20875005, -0.11740001,  0.26478007, -0.28339002,  0.19584005,\n",
              "         0.7446001 , -0.03887001,  0.028499  , -0.44252005, -0.30426005,\n",
              "         0.27133006, -0.5190701 ,  0.5218301 , -0.7664802 ,  0.28043002,\n",
              "        -0.48344007, -0.15626001, -0.49705005, -0.51024014, -0.03652   ,\n",
              "         0.20579003, -0.6136001 ,  0.46388006,  0.73497015,  0.66813004,\n",
              "        -0.4443001 , -0.17603002, -0.5478001 , -0.013521  ,  0.16333003,\n",
              "         0.28148007,  0.05422301, -0.19906002, -0.19070002, -0.43179002,\n",
              "         0.14781003,  0.27555004,  0.18571001, -0.40776005, -0.15415002,\n",
              "        -0.58850014, -0.0085281 , -0.14178003,  0.70610005,  0.5403101 ,\n",
              "        -0.43305007,  0.17497003, -0.46208006, -0.31372002, -0.3403901 ,\n",
              "        -0.25128004,  0.6822801 ,  0.33576006,  1.5862005 , -0.3942701 ,\n",
              "        -2.9938004 , -0.29773006,  0.04213001,  1.9075001 , -0.07262801,\n",
              "        -0.09219103,  0.6613301 ,  0.13868003,  0.7877402 ,  0.6930702 ,\n",
              "        -0.22185001,  0.71705014,  1.1453001 ,  1.2153002 ,  0.14196001,\n",
              "        -0.79914004,  0.16965003, -0.34532005, -0.51742005, -0.15648003,\n",
              "         0.18757004,  0.16940004, -0.0082713 , -1.4511001 ,  0.06198301,\n",
              "         1.1019002 ,  0.08441101, -0.34148005,  0.49994013, -1.1106001 ,\n",
              "        -0.13759004,  0.15377001, -0.06100601, -0.53826004, -0.7894101 ,\n",
              "        -0.12566003, -0.57381004, -0.73484015,  0.54774004, -0.28455004,\n",
              "        -0.24348003, -0.27511004, -0.33267006,  0.27878004, -0.8705002 ],\n",
              "       dtype=float32)>, <tf.Tensor: shape=(100,), dtype=float32, numpy=\n",
              " array([ 9.12830010e-02, -1.32980004e-01,  4.55739982e-02,  5.73969960e-01,\n",
              "         1.27979994e-01, -2.57409990e-01, -3.17729980e-01,  1.50829991e-02,\n",
              "         1.40220001e-01,  9.39690024e-02, -1.95709988e-01,  2.32130006e-01,\n",
              "        -9.88849998e-02, -2.63269991e-01, -1.75799996e-01,  3.88150066e-02,\n",
              "        -8.22909921e-02,  4.30049926e-01, -2.62760013e-01, -5.49479946e-02,\n",
              "         1.62149996e-01,  2.86069989e-01, -3.77130032e-01, -3.36280018e-02,\n",
              "        -1.50809987e-02,  5.74310005e-01, -2.66060024e-01, -1.18409999e-01,\n",
              "         4.77959991e-01,  4.76059988e-02, -3.90219986e-01,  1.51040003e-01,\n",
              "         1.09859996e-01, -1.66209996e-01,  2.13709980e-01, -1.29669994e-01,\n",
              "         1.56310007e-01, -5.90719938e-01, -2.90019989e-01, -3.03189963e-01,\n",
              "        -7.42369950e-01,  3.56170028e-01,  6.50159955e-01, -4.59410012e-01,\n",
              "        -6.67630017e-01,  3.62539977e-01, -1.41739994e-01,  7.57559910e-02,\n",
              "        -2.10920006e-01, -9.15889978e-01,  2.89970011e-01, -6.84769928e-01,\n",
              "        -1.31909996e-01,  1.32799983e+00, -2.61959970e-01, -2.31209970e+00,\n",
              "        -3.35319996e-01, -1.43990002e-03,  1.82060003e+00,  2.81579971e-01,\n",
              "        -3.51819992e-01,  5.15040010e-03, -1.46959990e-01,  6.35389984e-03,\n",
              "         1.02859998e+00,  3.67320001e-01, -4.36989993e-01,  6.72760010e-01,\n",
              "        -3.60859960e-01, -4.57500011e-01,  3.47550005e-01, -3.09730023e-01,\n",
              "        -6.56350017e-01, -7.76709914e-01,  1.99480012e-01, -1.11259989e-01,\n",
              "        -7.81240046e-01,  1.76649988e-01,  4.96179946e-02, -4.08019990e-01,\n",
              "         5.03639996e-01, -1.75439999e-01, -1.64129987e-01, -2.26740003e-01,\n",
              "        -1.26740003e+00,  1.66779995e-01,  6.57649934e-01,  3.07069998e-03,\n",
              "        -2.34080002e-01, -7.83850074e-01, -4.93730009e-01, -1.98119998e-01,\n",
              "        -5.97279966e-01,  3.44589978e-01, -2.76809990e-01, -2.87050009e-01,\n",
              "         2.56300002e-01, -5.00109911e-01,  4.96089965e-01,  6.09479964e-01],\n",
              "       dtype=float32)>, <tf.Tensor: shape=(100,), dtype=float32, numpy=\n",
              " array([-0.67328006, -0.5017    ,  0.53294003, -0.018725  ,  0.48822007,\n",
              "         0.18325001, -0.036471  , -0.21472   , -0.47223005, -0.079252  ,\n",
              "         0.28962   , -0.69110006,  0.20494004, -0.30311003, -0.13496001,\n",
              "         0.52978003,  1.1126001 , -0.32652003, -0.61487013,  0.72433007,\n",
              "        -0.43797004, -0.078788  , -0.5555001 , -0.5408401 ,  0.38209   ,\n",
              "         0.0085506 , -0.35979003, -0.13544002, -0.6802101 , -0.13618   ,\n",
              "        -0.5925301 ,  0.68592006, -0.42138004,  0.15473004,  0.34871003,\n",
              "         0.60419005, -0.38855   ,  0.35009003,  0.08028301, -0.5928401 ,\n",
              "        -0.64344007,  0.73361003, -0.030636  , -0.42534   , -0.25265002,\n",
              "        -0.045687  , -0.9451701 , -0.40504003,  0.15245001, -0.28950003,\n",
              "         0.0099306 ,  0.41703004, -0.25542003,  1.0358001 ,  0.09330801,\n",
              "        -1.5557001 ,  0.30297   ,  0.28050002,  1.6300001 ,  0.23238003,\n",
              "         0.021828  ,  0.50185007,  0.20940003, -0.57903   ,  0.70812   ,\n",
              "         0.23348004, -0.39583004,  0.11131001,  0.50152004, -0.25635004,\n",
              "        -0.2003    ,  0.29095003,  0.41633007, -0.17694002, -0.20042002,\n",
              "        -0.006322  ,  0.58769006,  0.39843005, -0.29170004, -1.1925001 ,\n",
              "        -0.19497001,  0.6620501 , -0.5243    , -0.40751007, -0.51021   ,\n",
              "        -0.39944005,  0.09699101, -0.6111401 , -0.18353003,  0.078559  ,\n",
              "         0.12207001,  0.43092   ,  0.69940007, -0.67010003, -0.33108002,\n",
              "        -0.029599  , -0.13633   , -0.5526001 ,  0.16053   ,  0.37531003],\n",
              "       dtype=float32)>, <tf.Tensor: shape=(100,), dtype=float32, numpy=\n",
              " array([-1.89700007e-01,  5.00240028e-02,  1.90840006e-01, -4.91840020e-02,\n",
              "        -8.97370055e-02,  2.10060015e-01, -5.49520075e-01,  9.83770117e-02,\n",
              "        -2.01350018e-01,  3.42409998e-01, -9.26769972e-02,  1.61000013e-01,\n",
              "        -1.32679999e-01, -2.81599998e-01,  1.87370017e-01, -4.29590046e-01,\n",
              "         9.60389972e-01,  1.39719993e-01, -1.07810009e+00,  4.05180037e-01,\n",
              "         5.05389988e-01, -5.50639987e-01,  4.84400034e-01,  3.80440056e-01,\n",
              "        -2.90550035e-03, -3.49420011e-01, -9.96960104e-02, -7.83680022e-01,\n",
              "         1.03630006e+00, -2.31400013e-01, -4.71210033e-01,  5.71260035e-01,\n",
              "        -2.14540005e-01,  3.59580040e-01, -4.83190000e-01,  1.08750010e+00,\n",
              "         2.85240024e-01,  1.24470010e-01, -3.92480046e-02, -7.67320096e-02,\n",
              "        -7.63430059e-01, -3.24090004e-01, -5.74900031e-01, -1.08930016e+00,\n",
              "        -4.18110043e-01,  4.51200038e-01,  1.21120006e-01, -5.13670087e-01,\n",
              "        -1.33490011e-01, -1.13779998e+00, -2.87680000e-01,  1.67740017e-01,\n",
              "         5.58040023e-01,  1.53870010e+00,  1.88590009e-02, -2.97210026e+00,\n",
              "        -2.42160022e-01, -9.24950004e-01,  2.19919991e+00,  2.82339990e-01,\n",
              "        -3.47800016e-01,  5.16210079e-01, -4.33870018e-01,  3.68520021e-01,\n",
              "         7.45729983e-01,  7.21020028e-02,  2.79310018e-01,  9.25690055e-01,\n",
              "        -5.03360033e-02, -8.58560026e-01, -1.35800019e-01, -9.25510108e-01,\n",
              "        -3.39910001e-01, -1.03939998e+00, -6.72030076e-02, -2.13790014e-01,\n",
              "        -4.76900011e-01,  2.13770032e-01, -8.40080142e-01,  5.25360033e-02,\n",
              "         5.92980027e-01,  2.96040028e-01, -6.76440001e-01,  1.39160007e-01,\n",
              "        -1.55040014e+00, -2.07650021e-01,  7.22200036e-01,  5.20560026e-01,\n",
              "        -7.62209967e-02, -1.51940018e-01, -1.31340012e-01,  5.86170033e-02,\n",
              "        -3.18690002e-01, -6.14190102e-01, -6.23930037e-01, -4.15479988e-01,\n",
              "        -3.81750055e-02, -3.98040026e-01,  4.76470053e-01, -1.59830019e-01],\n",
              "       dtype=float32)>, <tf.Tensor: shape=(100,), dtype=float32, numpy=\n",
              " array([ 0.15623   ,  0.7745    , -0.21807998,  0.65958   ,  0.24552   ,\n",
              "        -0.55195   , -1.0182    ,  0.14074   ,  0.21139   , -0.026658  ,\n",
              "         0.25390998,  0.52661   , -0.17429   , -0.47762   , -0.59458   ,\n",
              "        -1.1726    ,  0.30126   ,  0.55624   ,  0.34893   ,  0.74363995,\n",
              "         0.22792001,  0.27868   , -0.6122    ,  0.61607   , -1.0988998 ,\n",
              "        -0.071399  ,  0.22108   ,  0.24010998, -0.12872   ,  0.05072601,\n",
              "        -0.90684   ,  1.0857    , -0.26686   , -0.64986   ,  0.13603002,\n",
              "         0.76354   ,  0.27715003, -0.23979001, -0.49627   , -0.18699   ,\n",
              "         0.23852998, -0.65052   , -0.63036007, -0.34739   , -0.61711   ,\n",
              "         0.11346   , -0.025394  ,  0.17574999, -0.42215997, -1.3743    ,\n",
              "        -1.0746    ,  0.34939   , -0.14989   ,  0.4593    , -0.41128   ,\n",
              "        -0.90426   , -0.09736301, -0.5965899 ,  1.4466001 , -0.16805   ,\n",
              "         0.32915002,  0.09461799, -0.74973   , -0.17326   ,  0.30485004,\n",
              "         0.41634002,  0.18117   ,  0.92607   ,  0.51163006, -0.19748   ,\n",
              "         0.76313007, -0.5815601 , -0.56465006, -0.5572101 , -0.012352  ,\n",
              "        -0.17790999, -0.10165   ,  0.036027  , -0.412     ,  0.14281   ,\n",
              "         1.3665001 ,  0.31597   , -0.37401003, -0.2531    , -0.020205  ,\n",
              "         0.67519   ,  0.13303   , -0.036042  , -0.27709   , -0.41578   ,\n",
              "         0.0026643 , -0.42938   ,  0.64119005, -1.6233    , -0.66466   ,\n",
              "         0.15518   ,  0.26376   , -0.31920004,  0.69075   , -0.032011  ],\n",
              "       dtype=float32)>, <tf.Tensor: shape=(100,), dtype=float32, numpy=\n",
              " array([ 0.08570299, -0.22201   ,  0.16569   ,  0.13373   ,  0.38239002,\n",
              "         0.35401002,  0.01287   ,  0.22460999, -0.43817   ,  0.5016401 ,\n",
              "        -0.35873997, -0.34983   ,  0.05515599,  0.6964799 , -0.17958002,\n",
              "         0.067926  ,  0.39101   ,  0.16039   , -0.26635   , -0.21138   ,\n",
              "         0.53698   ,  0.49379003,  0.93659997,  0.66901994,  0.21792999,\n",
              "        -0.46642   ,  0.22383   , -0.36203998, -0.17656   ,  0.1748    ,\n",
              "        -0.20367   ,  0.13931   ,  0.019832  , -0.10412999, -0.20244   ,\n",
              "         0.55002993, -0.1546    ,  0.98655003, -0.26863   , -0.29090002,\n",
              "        -0.32865998, -0.34188   , -0.16943   , -0.42001   , -0.046727  ,\n",
              "        -0.16327001,  0.7082399 , -0.74911   , -0.09155901, -0.96177995,\n",
              "        -0.19746998,  0.10281999,  0.55221   ,  1.3816    , -0.6563599 ,\n",
              "        -3.2502    , -0.31556   , -1.2055    ,  1.7708999 ,  0.40259996,\n",
              "        -0.7982699 ,  1.1597    , -0.33042   ,  0.31382   ,  0.77386   ,\n",
              "         0.22595002,  0.52471   , -0.034053  ,  0.32048002,  0.07994801,\n",
              "         0.17751999, -0.49426   , -0.70045006, -0.44569   ,  0.17243999,\n",
              "         0.20278001,  0.023292  , -0.20676999, -1.0158    ,  0.18325   ,\n",
              "         0.56752   ,  0.31820998, -0.65010995,  0.6827701 , -0.86585   ,\n",
              "        -0.05939201, -0.29263997, -0.55668   , -0.34705   , -0.32895   ,\n",
              "         0.40215   , -0.12745999, -0.20227998,  0.87368   , -0.545     ,\n",
              "         0.79205   , -0.20695001, -0.074273  ,  0.75808007, -0.34242997],\n",
              "       dtype=float32)>, <tf.Tensor: shape=(100,), dtype=float32, numpy=\n",
              " array([ 5.20879984e-01,  7.61210024e-01,  2.60820031e-01,  2.70249993e-01,\n",
              "         3.05039972e-01, -5.82220018e-01, -3.27019989e-01, -3.24739993e-01,\n",
              "        -2.89650023e-01, -1.40159994e-01, -7.51480088e-02,  4.37220037e-01,\n",
              "         2.17120022e-01, -2.78170019e-01, -1.57409996e-01, -4.44299996e-01,\n",
              "        -7.72130072e-01,  1.33870006e-01, -1.10840000e-01,  8.40049982e-01,\n",
              "         5.46320021e-01, -4.21540022e-01,  1.17170006e-01,  7.11410046e-01,\n",
              "         2.17930034e-01, -8.59950006e-01,  6.72049999e-01, -1.32129997e-01,\n",
              "         9.69050080e-02, -8.48309994e-01,  4.17959988e-01,  1.03880000e+00,\n",
              "        -5.16139984e-01, -2.17640013e-01,  5.95529974e-01,  2.50759989e-01,\n",
              "         7.81490088e-01,  3.84600043e-01, -5.49950041e-02,  6.03640005e-02,\n",
              "         4.03110027e-01, -9.60930049e-01, -1.05200000e-01, -8.06780085e-02,\n",
              "        -5.86820006e-01,  5.14140010e-01, -6.50950015e-01,  7.30790081e-04,\n",
              "        -1.06100000e-01, -1.71440005e+00, -2.51769990e-01, -5.28930090e-02,\n",
              "         5.26700020e-01,  8.17539990e-01, -4.54580069e-01, -2.14409995e+00,\n",
              "         8.33280087e-02, -4.60869998e-01,  2.03130007e+00, -3.33290011e-01,\n",
              "         1.30099997e-01, -4.18200009e-02, -5.35459995e-01,  7.86319971e-02,\n",
              "        -2.96790004e-01,  8.11830014e-02,  2.47250035e-01,  3.33460048e-02,\n",
              "         7.43700087e-01,  4.08840030e-02, -7.46610045e-01,  1.00110002e-01,\n",
              "        -1.38880014e-01, -3.23150039e-01, -6.29230082e-01, -2.83220001e-02,\n",
              "        -8.04650009e-01, -6.24840081e-01, -1.28520012e+00,  3.97899985e-01,\n",
              "         3.15590017e-02,  5.68300009e-01,  1.45140007e-01,  1.47489995e-01,\n",
              "        -1.18630004e+00, -6.04369998e-01, -1.98890001e-01, -1.43940002e-01,\n",
              "         2.75470018e-01,  6.47400022e-01, -2.38110006e-01,  3.77020001e-01,\n",
              "        -2.96660000e-03, -7.03920007e-01, -1.29299998e+00,  4.15080011e-01,\n",
              "         1.71930000e-01, -5.65289974e-01,  6.99660063e-01,  4.51609999e-01],\n",
              "       dtype=float32)>, <tf.Tensor: shape=(100,), dtype=float32, numpy=\n",
              " array([ 0.39093   ,  0.23754998,  0.44854996,  0.11237   , -0.25996   ,\n",
              "        -1.2247999 , -0.44236997, -0.53490996,  0.37141997, -0.6198099 ,\n",
              "        -0.27387   , -0.03221299,  0.082629  , -0.52985996,  0.13012   ,\n",
              "         0.21703   , -0.45026   , -0.0048895 ,  0.34886998, -0.26068997,\n",
              "         0.56597996, -0.36218995,  0.41926   ,  0.23440999, -0.29406998,\n",
              "        -0.27044   ,  0.29339   , -0.7390499 , -0.75964993,  0.64660996,\n",
              "        -0.038757  ,  0.38494998, -0.32313997,  0.04032199,  0.24035999,\n",
              "         0.35166997,  0.47403994,  0.014959  ,  0.12104999, -1.0397999 ,\n",
              "         0.27638996, -1.3784997 , -0.22851   , -0.09807399,  0.14949998,\n",
              "        -0.28149998,  0.31681997, -0.10208   , -0.08585999, -1.5114    ,\n",
              "        -0.48254997,  0.15130998,  0.0080133 ,  0.74593997, -0.20162998,\n",
              "        -2.5268    , -0.8208299 ,  0.11429999,  2.4664998 ,  0.19840999,\n",
              "         0.1146    ,  0.10083   , -0.6093599 ,  0.76722   ,  0.025978  ,\n",
              "        -0.036936  ,  0.46743998, -0.7707299 ,  0.83991987, -0.032931  ,\n",
              "        -0.13127   , -0.09736699, -0.42633995, -0.49477997, -0.40796   ,\n",
              "        -0.67504   , -0.28534997,  0.12473998, -1.145     , -0.43058994,\n",
              "         1.1719999 ,  0.40748993, -0.83089   ,  0.41674998, -0.8301799 ,\n",
              "        -0.88715994, -0.59826994, -0.56652   , -0.22749996, -0.42397997,\n",
              "         0.6338499 ,  0.62034994, -0.13429   , -0.49011993, -0.78362   ,\n",
              "         0.85837996,  0.6010199 , -0.40595993,  0.7782599 ,  1.1049999 ],\n",
              "       dtype=float32)>, <tf.Tensor: shape=(100,), dtype=float32, numpy=\n",
              " array([0., 0., 0., 0., 0., 0., 0., 0., 0., 0., 0., 0., 0., 0., 0., 0., 0.,\n",
              "        0., 0., 0., 0., 0., 0., 0., 0., 0., 0., 0., 0., 0., 0., 0., 0., 0.,\n",
              "        0., 0., 0., 0., 0., 0., 0., 0., 0., 0., 0., 0., 0., 0., 0., 0., 0.,\n",
              "        0., 0., 0., 0., 0., 0., 0., 0., 0., 0., 0., 0., 0., 0., 0., 0., 0.,\n",
              "        0., 0., 0., 0., 0., 0., 0., 0., 0., 0., 0., 0., 0., 0., 0., 0., 0.,\n",
              "        0., 0., 0., 0., 0., 0., 0., 0., 0., 0., 0., 0., 0., 0., 0.],\n",
              "       dtype=float32)>]"
            ]
          },
          "metadata": {
            "tags": []
          },
          "execution_count": 38
        }
      ]
    },
    {
      "cell_type": "markdown",
      "metadata": {
        "id": "1Eq1UIpSE2SU"
      },
      "source": [
        "## from here on i will make three class for atten, compare, and \n"
      ]
    },
    {
      "cell_type": "code",
      "metadata": {
        "id": "QTX9P7Yz7bBR"
      },
      "source": [
        ""
      ],
      "execution_count": null,
      "outputs": []
    }
  ]
}